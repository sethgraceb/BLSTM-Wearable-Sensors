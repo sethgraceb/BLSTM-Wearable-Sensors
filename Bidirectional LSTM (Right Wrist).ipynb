{
 "cells": [
  {
   "cell_type": "markdown",
   "id": "f780115b-3c9e-4004-b858-412095d34157",
   "metadata": {},
   "source": [
    "# Bidirectional LSTM (Right Wrist)"
   ]
  },
  {
   "cell_type": "markdown",
   "id": "bd5dfef4-6ebf-41c4-a75e-0947b39d39e7",
   "metadata": {},
   "source": [
    "##### https://www.kaggle.com/malekzadeh/human-activity-recognition-with-mobile-sensing"
   ]
  },
  {
   "cell_type": "markdown",
   "id": "6fa24e22-341a-462b-8b0c-5a689861f059",
   "metadata": {},
   "source": [
    "##### https://github.com/akhuperkar/HAR-Smartphone-Accelerometer/blob/master/HAR%20Using%20Machine%20Learning%20.ipynb"
   ]
  },
  {
   "cell_type": "markdown",
   "id": "7250a78d-9c9f-46a0-82bd-f04932dbe250",
   "metadata": {},
   "source": [
    "#### Import Libraries"
   ]
  },
  {
   "cell_type": "code",
   "execution_count": 124,
   "id": "966b8f30-ee70-483d-beed-a630029d4a13",
   "metadata": {},
   "outputs": [],
   "source": [
    "import os\n",
    "import numpy as np\n",
    "import pandas as pd\n",
    "import scipy.io as sio\n",
    "import scipy.stats\n",
    "import math\n",
    "#from scipy.fftpack import fft\n",
    "#from scipy.signal import welch\n",
    "\n",
    "#from IPython.display import display\n",
    "import matplotlib.pyplot as plt\n",
    "%matplotlib inline\n",
    "#import pywt\n",
    "\n",
    "from scipy import stats\n",
    "import seaborn as sns\n",
    "from tensorflow import keras"
   ]
  },
  {
   "cell_type": "code",
   "execution_count": 125,
   "id": "f2df5414-df89-41a0-8c8f-b7b7eaeb3903",
   "metadata": {},
   "outputs": [],
   "source": [
    "#import time\n",
    "#import datetime as dt\n",
    "from collections import defaultdict, Counter\n",
    "\n",
    "from sklearn.preprocessing import OneHotEncoder\n",
    "from sklearn.preprocessing import StandardScaler\n",
    "\n",
    "#from sklearn.ensemble import GradientBoostingClassifier, RandomForestClassifier, AdaBoostClassifier\n",
    "from sklearn.linear_model import LogisticRegression\n",
    "from sklearn.neighbors import KNeighborsClassifier\n",
    "from sklearn.tree import DecisionTreeClassifier\n",
    "from sklearn.svm import SVC\n",
    "from sklearn.neural_network import MLPClassifier\n",
    "from sklearn.naive_bayes import GaussianNB\n",
    "from sklearn.gaussian_process import GaussianProcessClassifier\n",
    "\n",
    "from tensorflow.keras.layers import Flatten, Dense, Dropout, BatchNormalization, Activation\n",
    "from tensorflow.keras.layers import Conv2D, MaxPool2D, LeakyReLU\n",
    "from tensorflow.keras.optimizers import Adam\n",
    "\n",
    "from sklearn.metrics import accuracy_score, confusion_matrix, classification_report\n",
    "from sklearn.model_selection import cross_val_score, GridSearchCV, RandomizedSearchCV, train_test_split\n",
    "\n",
    "import warnings\n",
    "warnings.filterwarnings(\"ignore\")\n",
    "\n",
    "#from detecta import detect_peaks"
   ]
  },
  {
   "cell_type": "code",
   "execution_count": 126,
   "id": "d9e161ae-b30c-4de7-8443-7caadea84d66",
   "metadata": {},
   "outputs": [],
   "source": [
    "df = pd.read_csv('acc_data_right_wrist.csv')\n",
    "df = df.drop([0])"
   ]
  },
  {
   "cell_type": "code",
   "execution_count": 127,
   "id": "d75577fe-2d7c-4c89-b854-40546d2b9651",
   "metadata": {},
   "outputs": [
    {
     "name": "stdout",
     "output_type": "stream",
     "text": [
      "     PacketCounter  SampleTimeFine     Acc_X     Acc_Y     Acc_Z Unnamed: 11\n",
      "1                1      1255232210 -8.874124 -0.679627  2.768368            \n",
      "2                2      1255248877 -8.873473 -0.613973  2.761706            \n",
      "3                3      1255265544 -8.834931 -0.518206  2.797576            \n",
      "4                4      1255282211 -8.921975 -0.508252  2.836315            \n",
      "5                5      1255298878 -8.999269 -0.533706  2.816627            \n",
      "..             ...             ...       ...       ...       ...         ...\n",
      "398            398      1261849009 -8.989089 -2.510464  2.123948            \n",
      "399            399      1261865676 -9.029768 -2.650938  2.112896            \n",
      "400            400      1261882343 -9.044131 -2.731521  2.112670            \n",
      "401            401      1261899010 -8.995914 -2.801886  2.085057            \n",
      "402            402      1261915677 -8.966281 -2.829942  2.044567            \n",
      "\n",
      "[402 rows x 6 columns]\n"
     ]
    }
   ],
   "source": [
    "print(df)"
   ]
  },
  {
   "cell_type": "code",
   "execution_count": 128,
   "id": "7851ae98-e96d-44cb-a382-0e860347ec6c",
   "metadata": {},
   "outputs": [
    {
     "name": "stdout",
     "output_type": "stream",
     "text": [
      "     PacketCounter  SampleTimeFine  Label  Unnamed: 3  Unnamed: 4 Unnamed: 5\n",
      "1                1      1255232210      1         NaN         NaN           \n",
      "2                2      1255248877      1         NaN         NaN           \n",
      "3                3      1255265544      1         NaN         NaN           \n",
      "4                4      1255282211      1         NaN         NaN           \n",
      "5                5      1255298878      1         NaN         NaN           \n",
      "..             ...             ...    ...         ...         ...        ...\n",
      "398            398      1261849009      3         NaN         NaN           \n",
      "399            399      1261865676      3         NaN         NaN           \n",
      "400            400      1261882343      3         NaN         NaN           \n",
      "401            401      1261899010      3         NaN         NaN           \n",
      "402            402      1261915677      3         NaN         NaN           \n",
      "\n",
      "[402 rows x 6 columns]\n"
     ]
    }
   ],
   "source": [
    "df2 = pd.read_csv('acc_data_right_wrist_label.csv')\n",
    "df2 = df2.drop([0])\n",
    "print(df2)"
   ]
  },
  {
   "cell_type": "code",
   "execution_count": 129,
   "id": "8ee02c5f-faf4-405c-912e-281c2e8a06f5",
   "metadata": {},
   "outputs": [
    {
     "name": "stdout",
     "output_type": "stream",
     "text": [
      "Shape of original data: (402, 6)\n",
      "Shape of labels data: (402, 6)\n"
     ]
    }
   ],
   "source": [
    "df_train = df\n",
    "label_train = df2\n",
    "print(\"Shape of original data:\", df_train.shape)\n",
    "print(\"Shape of labels data:\", label_train.shape)"
   ]
  },
  {
   "cell_type": "code",
   "execution_count": 130,
   "id": "8c70455c-7558-4736-8570-6ee96f3e6686",
   "metadata": {},
   "outputs": [
    {
     "name": "stdout",
     "output_type": "stream",
     "text": [
      "   PacketCounter  SampleTimeFine     Acc_X     Acc_Y     Acc_Z Unnamed: 11\n",
      "1              1      1255232210 -8.874124 -0.679627  2.768368            \n",
      "2              2      1255248877 -8.873473 -0.613973  2.761706            \n",
      "3              3      1255265544 -8.834931 -0.518206  2.797576            \n",
      "4              4      1255282211 -8.921975 -0.508252  2.836315            \n",
      "5              5      1255298878 -8.999269 -0.533706  2.816627            \n"
     ]
    }
   ],
   "source": [
    "print(df_train.head())"
   ]
  },
  {
   "cell_type": "code",
   "execution_count": 131,
   "id": "ce76a489-92ee-438d-9dfc-9941d0693ded",
   "metadata": {},
   "outputs": [
    {
     "data": {
      "text/html": [
       "<div>\n",
       "<style scoped>\n",
       "    .dataframe tbody tr th:only-of-type {\n",
       "        vertical-align: middle;\n",
       "    }\n",
       "\n",
       "    .dataframe tbody tr th {\n",
       "        vertical-align: top;\n",
       "    }\n",
       "\n",
       "    .dataframe thead th {\n",
       "        text-align: right;\n",
       "    }\n",
       "</style>\n",
       "<table border=\"1\" class=\"dataframe\">\n",
       "  <thead>\n",
       "    <tr style=\"text-align: right;\">\n",
       "      <th></th>\n",
       "      <th>PacketCounter</th>\n",
       "      <th>SampleTimeFine</th>\n",
       "      <th>Acc_X</th>\n",
       "      <th>Acc_Y</th>\n",
       "      <th>Acc_Z</th>\n",
       "      <th>Unnamed: 11</th>\n",
       "      <th>m</th>\n",
       "    </tr>\n",
       "  </thead>\n",
       "  <tbody>\n",
       "    <tr>\n",
       "      <th>1</th>\n",
       "      <td>1</td>\n",
       "      <td>1255232210</td>\n",
       "      <td>-8.874124</td>\n",
       "      <td>-0.679627</td>\n",
       "      <td>2.768368</td>\n",
       "      <td></td>\n",
       "      <td>9.320720</td>\n",
       "    </tr>\n",
       "    <tr>\n",
       "      <th>2</th>\n",
       "      <td>2</td>\n",
       "      <td>1255248877</td>\n",
       "      <td>-8.873473</td>\n",
       "      <td>-0.613973</td>\n",
       "      <td>2.761706</td>\n",
       "      <td></td>\n",
       "      <td>9.313566</td>\n",
       "    </tr>\n",
       "    <tr>\n",
       "      <th>3</th>\n",
       "      <td>3</td>\n",
       "      <td>1255265544</td>\n",
       "      <td>-8.834931</td>\n",
       "      <td>-0.518206</td>\n",
       "      <td>2.797576</td>\n",
       "      <td></td>\n",
       "      <td>9.281755</td>\n",
       "    </tr>\n",
       "    <tr>\n",
       "      <th>4</th>\n",
       "      <td>4</td>\n",
       "      <td>1255282211</td>\n",
       "      <td>-8.921975</td>\n",
       "      <td>-0.508252</td>\n",
       "      <td>2.836315</td>\n",
       "      <td></td>\n",
       "      <td>9.375748</td>\n",
       "    </tr>\n",
       "    <tr>\n",
       "      <th>5</th>\n",
       "      <td>5</td>\n",
       "      <td>1255298878</td>\n",
       "      <td>-8.999269</td>\n",
       "      <td>-0.533706</td>\n",
       "      <td>2.816627</td>\n",
       "      <td></td>\n",
       "      <td>9.444844</td>\n",
       "    </tr>\n",
       "  </tbody>\n",
       "</table>\n",
       "</div>"
      ],
      "text/plain": [
       "   PacketCounter  SampleTimeFine     Acc_X     Acc_Y     Acc_Z Unnamed: 11  \\\n",
       "1              1      1255232210 -8.874124 -0.679627  2.768368               \n",
       "2              2      1255248877 -8.873473 -0.613973  2.761706               \n",
       "3              3      1255265544 -8.834931 -0.518206  2.797576               \n",
       "4              4      1255282211 -8.921975 -0.508252  2.836315               \n",
       "5              5      1255298878 -8.999269 -0.533706  2.816627               \n",
       "\n",
       "          m  \n",
       "1  9.320720  \n",
       "2  9.313566  \n",
       "3  9.281755  \n",
       "4  9.375748  \n",
       "5  9.444844  "
      ]
     },
     "execution_count": 131,
     "metadata": {},
     "output_type": "execute_result"
    }
   ],
   "source": [
    "def magnitude(activity):\n",
    "    x2 = activity['Acc_X'] * activity['Acc_X']\n",
    "    y2 = activity['Acc_Y'] * activity['Acc_Y']\n",
    "    z2 = activity['Acc_Z'] * activity['Acc_Z']\n",
    "    m2 = x2 + y2 + z2\n",
    "    m = m2.apply(lambda x: math.sqrt(x))\n",
    "    return m\n",
    "\n",
    "df_train['m'] = magnitude(df_train)\n",
    "df_train.head()"
   ]
  },
  {
   "cell_type": "code",
   "execution_count": 132,
   "id": "744fcbfb-c0b0-472c-8e37-6a1eb793b5f9",
   "metadata": {},
   "outputs": [
    {
     "name": "stdout",
     "output_type": "stream",
     "text": [
      "   PacketCounter  SampleTimeFine  Label  Unnamed: 3  Unnamed: 4 Unnamed: 5\n",
      "1              1      1255232210      1         NaN         NaN           \n",
      "2              2      1255248877      1         NaN         NaN           \n",
      "3              3      1255265544      1         NaN         NaN           \n",
      "4              4      1255282211      1         NaN         NaN           \n",
      "5              5      1255298878      1         NaN         NaN           \n"
     ]
    }
   ],
   "source": [
    "print(label_train.head())"
   ]
  },
  {
   "cell_type": "code",
   "execution_count": 133,
   "id": "9a325682-5b5f-40d1-9900-b70fd21ac895",
   "metadata": {},
   "outputs": [
    {
     "data": {
      "text/html": [
       "<div>\n",
       "<style scoped>\n",
       "    .dataframe tbody tr th:only-of-type {\n",
       "        vertical-align: middle;\n",
       "    }\n",
       "\n",
       "    .dataframe tbody tr th {\n",
       "        vertical-align: top;\n",
       "    }\n",
       "\n",
       "    .dataframe thead th {\n",
       "        text-align: right;\n",
       "    }\n",
       "</style>\n",
       "<table border=\"1\" class=\"dataframe\">\n",
       "  <thead>\n",
       "    <tr style=\"text-align: right;\">\n",
       "      <th></th>\n",
       "      <th>index</th>\n",
       "      <th>label</th>\n",
       "    </tr>\n",
       "  </thead>\n",
       "  <tbody>\n",
       "    <tr>\n",
       "      <th>0</th>\n",
       "      <td>1</td>\n",
       "      <td>120</td>\n",
       "    </tr>\n",
       "    <tr>\n",
       "      <th>1</th>\n",
       "      <td>2</td>\n",
       "      <td>128</td>\n",
       "    </tr>\n",
       "    <tr>\n",
       "      <th>2</th>\n",
       "      <td>3</td>\n",
       "      <td>154</td>\n",
       "    </tr>\n",
       "  </tbody>\n",
       "</table>\n",
       "</div>"
      ],
      "text/plain": [
       "   index  label\n",
       "0      1    120\n",
       "1      2    128\n",
       "2      3    154"
      ]
     },
     "execution_count": 133,
     "metadata": {},
     "output_type": "execute_result"
    }
   ],
   "source": [
    "pd.DataFrame.from_dict(Counter(label_train['Label']), orient=\"Index\", columns=['label']).reset_index()"
   ]
  },
  {
   "cell_type": "markdown",
   "id": "269024d3-b978-486b-aec4-db1c529871db",
   "metadata": {},
   "source": [
    "#### Plot Acceleration Data"
   ]
  },
  {
   "cell_type": "code",
   "execution_count": 134,
   "id": "a1b587d1-04da-4fd6-bd80-31a318d77f79",
   "metadata": {},
   "outputs": [
    {
     "data": {
      "image/png": "[encoded data removed]",
      "text/plain": [
       "<Figure size 720x216 with 1 Axes>"
      ]
     },
     "metadata": {
      "needs_background": "light"
     },
     "output_type": "display_data"
    }
   ],
   "source": [
    "plt.figure(figsize=(10,3))\n",
    "plt.plot(df_train['PacketCounter'], df_train['Acc_X'], linewidth=0.5, color='r', label='x axis')\n",
    "plt.plot(df_train['PacketCounter'], df_train['Acc_Y'], linewidth=0.5, color='b', label='y axis')\n",
    "plt.plot(df_train['PacketCounter'], df_train['Acc_Z'], linewidth=0.5, color='g', label='z axis')\n",
    "plt.xlabel('PacketCounter')\n",
    "plt.ylabel('acceleration')\n",
    "plt.legend(loc='center left', bbox_to_anchor=(1, 0.5));"
   ]
  },
  {
   "cell_type": "code",
   "execution_count": 135,
   "id": "08a26a75-de1d-4e78-89d8-45055e3aa0f3",
   "metadata": {},
   "outputs": [
    {
     "data": {
      "image/png": "[encoded data removed]",
      "text/plain": [
       "<Figure size 720x576 with 4 Axes>"
      ]
     },
     "metadata": {
      "needs_background": "light"
     },
     "output_type": "display_data"
    }
   ],
   "source": [
    "fig, ax = plt.subplots(nrows=4, ncols=1, figsize=(10,8))\n",
    "\n",
    "ax[0].set_title('X-axis:')\n",
    "ax[0].plot(df_train['PacketCounter'], df_train['Acc_X'], linewidth=0.5, color='r')\n",
    "\n",
    "ax[1].set_title('Y-axis: ')\n",
    "ax[1].plot(df_train['PacketCounter'], df_train['Acc_Y'], linewidth=0.5, color='b')\n",
    "\n",
    "ax[2].set_title('Z-axis: ')\n",
    "ax[2].plot(df_train['PacketCounter'], df_train['Acc_Z'], linewidth=0.5, color='g')\n",
    "\n",
    "ax[3].set_title('Magnitude, m: Combined X-Y-Z')\n",
    "ax[3].plot(df_train['PacketCounter'], df_train['m'], linewidth=0.5, color='k')\n",
    "\n",
    "fig.subplots_adjust(hspace=.5)"
   ]
  },
  {
   "cell_type": "code",
   "execution_count": 136,
   "id": "6cc9cde7-4868-4e2e-9260-3a13909b97f8",
   "metadata": {},
   "outputs": [],
   "source": [
    "# Separating data for each activity\n",
    "train_df = pd.concat([df_train, label_train['Label']], axis=1).dropna()\n",
    "columns = ['PacketCounter', 'Acc_X', 'Acc_Y', 'Acc_Z', 'm', 'Label']\n",
    "\n",
    "idle = train_df[columns][train_df.Label == 1]\n",
    "waack = train_df[columns][train_df.Label == 2]\n",
    "wrist_on_elbow = train_df[columns][train_df.Label == 3]"
   ]
  },
  {
   "cell_type": "code",
   "execution_count": 137,
   "id": "4dab0854-461b-4448-8ea2-47e1e6b2a707",
   "metadata": {},
   "outputs": [
    {
     "data": {
      "text/html": [
       "<div>\n",
       "<style scoped>\n",
       "    .dataframe tbody tr th:only-of-type {\n",
       "        vertical-align: middle;\n",
       "    }\n",
       "\n",
       "    .dataframe tbody tr th {\n",
       "        vertical-align: top;\n",
       "    }\n",
       "\n",
       "    .dataframe thead th {\n",
       "        text-align: right;\n",
       "    }\n",
       "</style>\n",
       "<table border=\"1\" class=\"dataframe\">\n",
       "  <thead>\n",
       "    <tr style=\"text-align: right;\">\n",
       "      <th></th>\n",
       "      <th>PacketCounter</th>\n",
       "      <th>Acc_X</th>\n",
       "      <th>Acc_Y</th>\n",
       "      <th>Acc_Z</th>\n",
       "      <th>m</th>\n",
       "      <th>Label</th>\n",
       "    </tr>\n",
       "  </thead>\n",
       "  <tbody>\n",
       "    <tr>\n",
       "      <th>1</th>\n",
       "      <td>1</td>\n",
       "      <td>-8.874124</td>\n",
       "      <td>-0.679627</td>\n",
       "      <td>2.768368</td>\n",
       "      <td>9.320720</td>\n",
       "      <td>1</td>\n",
       "    </tr>\n",
       "    <tr>\n",
       "      <th>2</th>\n",
       "      <td>2</td>\n",
       "      <td>-8.873473</td>\n",
       "      <td>-0.613973</td>\n",
       "      <td>2.761706</td>\n",
       "      <td>9.313566</td>\n",
       "      <td>1</td>\n",
       "    </tr>\n",
       "    <tr>\n",
       "      <th>3</th>\n",
       "      <td>3</td>\n",
       "      <td>-8.834931</td>\n",
       "      <td>-0.518206</td>\n",
       "      <td>2.797576</td>\n",
       "      <td>9.281755</td>\n",
       "      <td>1</td>\n",
       "    </tr>\n",
       "    <tr>\n",
       "      <th>4</th>\n",
       "      <td>4</td>\n",
       "      <td>-8.921975</td>\n",
       "      <td>-0.508252</td>\n",
       "      <td>2.836315</td>\n",
       "      <td>9.375748</td>\n",
       "      <td>1</td>\n",
       "    </tr>\n",
       "    <tr>\n",
       "      <th>5</th>\n",
       "      <td>5</td>\n",
       "      <td>-8.999269</td>\n",
       "      <td>-0.533706</td>\n",
       "      <td>2.816627</td>\n",
       "      <td>9.444844</td>\n",
       "      <td>1</td>\n",
       "    </tr>\n",
       "  </tbody>\n",
       "</table>\n",
       "</div>"
      ],
      "text/plain": [
       "   PacketCounter     Acc_X     Acc_Y     Acc_Z         m  Label\n",
       "1              1 -8.874124 -0.679627  2.768368  9.320720      1\n",
       "2              2 -8.873473 -0.613973  2.761706  9.313566      1\n",
       "3              3 -8.834931 -0.518206  2.797576  9.281755      1\n",
       "4              4 -8.921975 -0.508252  2.836315  9.375748      1\n",
       "5              5 -8.999269 -0.533706  2.816627  9.444844      1"
      ]
     },
     "execution_count": 137,
     "metadata": {},
     "output_type": "execute_result"
    }
   ],
   "source": [
    "idle.head()"
   ]
  },
  {
   "cell_type": "code",
   "execution_count": 138,
   "id": "e14768d4-5eca-4428-b500-77d3cf9fdc38",
   "metadata": {},
   "outputs": [
    {
     "data": {
      "text/html": [
       "<div>\n",
       "<style scoped>\n",
       "    .dataframe tbody tr th:only-of-type {\n",
       "        vertical-align: middle;\n",
       "    }\n",
       "\n",
       "    .dataframe tbody tr th {\n",
       "        vertical-align: top;\n",
       "    }\n",
       "\n",
       "    .dataframe thead th {\n",
       "        text-align: right;\n",
       "    }\n",
       "</style>\n",
       "<table border=\"1\" class=\"dataframe\">\n",
       "  <thead>\n",
       "    <tr style=\"text-align: right;\">\n",
       "      <th></th>\n",
       "      <th>PacketCounter</th>\n",
       "      <th>Acc_X</th>\n",
       "      <th>Acc_Y</th>\n",
       "      <th>Acc_Z</th>\n",
       "      <th>m</th>\n",
       "      <th>Label</th>\n",
       "    </tr>\n",
       "  </thead>\n",
       "  <tbody>\n",
       "    <tr>\n",
       "      <th>121</th>\n",
       "      <td>121</td>\n",
       "      <td>-10.869781</td>\n",
       "      <td>3.430058</td>\n",
       "      <td>2.100471</td>\n",
       "      <td>11.590056</td>\n",
       "      <td>2</td>\n",
       "    </tr>\n",
       "    <tr>\n",
       "      <th>122</th>\n",
       "      <td>122</td>\n",
       "      <td>-9.257413</td>\n",
       "      <td>3.687532</td>\n",
       "      <td>1.866617</td>\n",
       "      <td>10.138138</td>\n",
       "      <td>2</td>\n",
       "    </tr>\n",
       "    <tr>\n",
       "      <th>123</th>\n",
       "      <td>123</td>\n",
       "      <td>-7.816749</td>\n",
       "      <td>3.584115</td>\n",
       "      <td>1.844450</td>\n",
       "      <td>8.794853</td>\n",
       "      <td>2</td>\n",
       "    </tr>\n",
       "    <tr>\n",
       "      <th>124</th>\n",
       "      <td>124</td>\n",
       "      <td>-6.315975</td>\n",
       "      <td>2.880538</td>\n",
       "      <td>2.316670</td>\n",
       "      <td>7.318197</td>\n",
       "      <td>2</td>\n",
       "    </tr>\n",
       "    <tr>\n",
       "      <th>125</th>\n",
       "      <td>125</td>\n",
       "      <td>-5.038197</td>\n",
       "      <td>2.469782</td>\n",
       "      <td>2.670043</td>\n",
       "      <td>6.213886</td>\n",
       "      <td>2</td>\n",
       "    </tr>\n",
       "  </tbody>\n",
       "</table>\n",
       "</div>"
      ],
      "text/plain": [
       "     PacketCounter      Acc_X     Acc_Y     Acc_Z          m  Label\n",
       "121            121 -10.869781  3.430058  2.100471  11.590056      2\n",
       "122            122  -9.257413  3.687532  1.866617  10.138138      2\n",
       "123            123  -7.816749  3.584115  1.844450   8.794853      2\n",
       "124            124  -6.315975  2.880538  2.316670   7.318197      2\n",
       "125            125  -5.038197  2.469782  2.670043   6.213886      2"
      ]
     },
     "execution_count": 138,
     "metadata": {},
     "output_type": "execute_result"
    }
   ],
   "source": [
    "waack.head()"
   ]
  },
  {
   "cell_type": "code",
   "execution_count": 139,
   "id": "cf13ce3e-836b-435e-a73d-a2fd5b1fdbc3",
   "metadata": {},
   "outputs": [
    {
     "data": {
      "text/html": [
       "<div>\n",
       "<style scoped>\n",
       "    .dataframe tbody tr th:only-of-type {\n",
       "        vertical-align: middle;\n",
       "    }\n",
       "\n",
       "    .dataframe tbody tr th {\n",
       "        vertical-align: top;\n",
       "    }\n",
       "\n",
       "    .dataframe thead th {\n",
       "        text-align: right;\n",
       "    }\n",
       "</style>\n",
       "<table border=\"1\" class=\"dataframe\">\n",
       "  <thead>\n",
       "    <tr style=\"text-align: right;\">\n",
       "      <th></th>\n",
       "      <th>PacketCounter</th>\n",
       "      <th>Acc_X</th>\n",
       "      <th>Acc_Y</th>\n",
       "      <th>Acc_Z</th>\n",
       "      <th>m</th>\n",
       "      <th>Label</th>\n",
       "    </tr>\n",
       "  </thead>\n",
       "  <tbody>\n",
       "    <tr>\n",
       "      <th>249</th>\n",
       "      <td>249</td>\n",
       "      <td>-12.006090</td>\n",
       "      <td>-0.029138</td>\n",
       "      <td>5.938214</td>\n",
       "      <td>13.394381</td>\n",
       "      <td>3</td>\n",
       "    </tr>\n",
       "    <tr>\n",
       "      <th>250</th>\n",
       "      <td>250</td>\n",
       "      <td>-11.443802</td>\n",
       "      <td>-0.536002</td>\n",
       "      <td>5.937509</td>\n",
       "      <td>12.903562</td>\n",
       "      <td>3</td>\n",
       "    </tr>\n",
       "    <tr>\n",
       "      <th>251</th>\n",
       "      <td>251</td>\n",
       "      <td>-10.856485</td>\n",
       "      <td>-1.120198</td>\n",
       "      <td>5.172862</td>\n",
       "      <td>12.077939</td>\n",
       "      <td>3</td>\n",
       "    </tr>\n",
       "    <tr>\n",
       "      <th>252</th>\n",
       "      <td>252</td>\n",
       "      <td>-10.511526</td>\n",
       "      <td>-1.304773</td>\n",
       "      <td>4.469799</td>\n",
       "      <td>11.496683</td>\n",
       "      <td>3</td>\n",
       "    </tr>\n",
       "    <tr>\n",
       "      <th>253</th>\n",
       "      <td>253</td>\n",
       "      <td>-10.295355</td>\n",
       "      <td>-1.435924</td>\n",
       "      <td>3.924851</td>\n",
       "      <td>11.111285</td>\n",
       "      <td>3</td>\n",
       "    </tr>\n",
       "  </tbody>\n",
       "</table>\n",
       "</div>"
      ],
      "text/plain": [
       "     PacketCounter      Acc_X     Acc_Y     Acc_Z          m  Label\n",
       "249            249 -12.006090 -0.029138  5.938214  13.394381      3\n",
       "250            250 -11.443802 -0.536002  5.937509  12.903562      3\n",
       "251            251 -10.856485 -1.120198  5.172862  12.077939      3\n",
       "252            252 -10.511526 -1.304773  4.469799  11.496683      3\n",
       "253            253 -10.295355 -1.435924  3.924851  11.111285      3"
      ]
     },
     "execution_count": 139,
     "metadata": {},
     "output_type": "execute_result"
    }
   ],
   "source": [
    "wrist_on_elbow.head()"
   ]
  },
  {
   "cell_type": "markdown",
   "id": "7c82488a-70c5-47c5-b461-a3d474d5f4bc",
   "metadata": {},
   "source": [
    "#### Plot Activity Data"
   ]
  },
  {
   "cell_type": "code",
   "execution_count": 140,
   "id": "80c26ff1-aa32-4e33-8e84-f2204c63ba83",
   "metadata": {},
   "outputs": [
    {
     "data": {
      "image/png": "[encoded data removed]",
      "text/plain": [
       "<Figure size 720x576 with 3 Axes>"
      ]
     },
     "metadata": {
      "needs_background": "light"
     },
     "output_type": "display_data"
    }
   ],
   "source": [
    "def plot_axis(ax, x, y, title):\n",
    "    ax.plot(x, y)\n",
    "    ax.set_title(title)\n",
    "    ax.xaxis.set_visible(False)\n",
    "    ax.set_ylim([min(y) - np.std(y), max(y) + np.std(y)])\n",
    "    ax.set_xlim([min(x), max(x)])\n",
    "    ax.grid(True)\n",
    "    \n",
    "def plot_activity(activities, titles):\n",
    "    fig, axs = plt.subplots(nrows=len(activities), figsize=(10, 8))\n",
    "    for i in range(0, len(activities)):\n",
    "        plot_axis(axs[i], activities[i]['PacketCounter'], activities[i]['m'], titles[i])\n",
    "    plt.subplots_adjust(hspace=0.2)\n",
    "    plt.show()\n",
    "\n",
    "plot_activity([idle, waack, wrist_on_elbow],\n",
    "              ['Idle', 'Waack', 'Wrist on Elbow'])"
   ]
  },
  {
   "cell_type": "markdown",
   "id": "48ffb7d7-ae2a-43c2-80f7-46b880f1c8c7",
   "metadata": {},
   "source": [
    "#### Split training data"
   ]
  },
  {
   "cell_type": "code",
   "execution_count": 141,
   "id": "a64266d2-68a8-4fe6-af3c-73727a8d9be4",
   "metadata": {},
   "outputs": [],
   "source": [
    "X_train, X_test, y_train, y_test = train_test_split(train_df, label_train, test_size = 0.2, random_state = 0)"
   ]
  },
  {
   "cell_type": "code",
   "execution_count": 142,
   "id": "19ef379e-fe01-4b94-8e95-d67e57bde7c7",
   "metadata": {},
   "outputs": [
    {
     "name": "stdout",
     "output_type": "stream",
     "text": [
      "X_train shape: (321, 8)\n",
      "y_train shape: (321, 6)\n"
     ]
    }
   ],
   "source": [
    "print(\"X_train shape:\", X_train.shape)\n",
    "print(\"y_train shape:\", y_train.shape)"
   ]
  },
  {
   "cell_type": "code",
   "execution_count": 143,
   "id": "49bbf49a-eed1-4457-a2d3-52078af322b0",
   "metadata": {},
   "outputs": [
    {
     "name": "stdout",
     "output_type": "stream",
     "text": [
      "X_test shape: (81, 8)\n",
      "y_test shape: (81, 6)\n"
     ]
    }
   ],
   "source": [
    "print(\"X_test shape:\", X_test.shape)\n",
    "print(\"y_test shape:\", y_test.shape)"
   ]
  },
  {
   "cell_type": "code",
   "execution_count": 144,
   "id": "37851e7a-e2f6-4b32-8948-0e6d52acc126",
   "metadata": {},
   "outputs": [],
   "source": [
    "def create_dataset(X, y, time_steps=1, step=1):\n",
    "    Xs, ys = [], []\n",
    "    for i in range(0, len(X) - time_steps, step):\n",
    "        v = X.iloc[i:(i + time_steps)].values\n",
    "        labels = label_train['Label'].iloc[i: i + time_steps]\n",
    "        Xs.append(v)        \n",
    "        ys.append(stats.mode(labels)[0][0])\n",
    "    return np.array(Xs), np.array(ys).reshape(-1, 1)\n",
    "\n",
    "TIME_STEPS = 300 #400 #200 #300\n",
    "STEP = 150  #100 #60 #80 #40 #150\n",
    "\n",
    "X_train, y_train = create_dataset(\n",
    "    df[['Acc_X', 'Acc_Y', 'Acc_Z']], \n",
    "    TIME_STEPS, \n",
    "    STEP\n",
    ")\n",
    "\n",
    "X_test, y_test = create_dataset(\n",
    "    df[['Acc_X', 'Acc_Y', 'Acc_Z']], \n",
    "    TIME_STEPS, \n",
    "    STEP\n",
    ")"
   ]
  },
  {
   "cell_type": "code",
   "execution_count": 145,
   "id": "e98ce6f0-d5eb-41c8-86c5-ff5394344e88",
   "metadata": {},
   "outputs": [
    {
     "name": "stdout",
     "output_type": "stream",
     "text": [
      "(252, 150, 3) (252, 1)\n"
     ]
    }
   ],
   "source": [
    "print(X_train.shape, y_train.shape)"
   ]
  },
  {
   "cell_type": "code",
   "execution_count": 146,
   "id": "9592143b-54a0-49bd-b470-026807466506",
   "metadata": {},
   "outputs": [],
   "source": [
    "enc = OneHotEncoder(handle_unknown='ignore', sparse=False)\n",
    "\n",
    "enc = enc.fit(y_train)\n",
    "\n",
    "y_train = enc.transform(y_train)\n",
    "y_test = enc.transform(y_test)"
   ]
  },
  {
   "cell_type": "code",
   "execution_count": 147,
   "id": "64381746-27de-4836-a206-1451b141a805",
   "metadata": {},
   "outputs": [
    {
     "name": "stdout",
     "output_type": "stream",
     "text": [
      "(252, 150, 3) (252, 3)\n"
     ]
    }
   ],
   "source": [
    "print(X_train.shape, y_train.shape)"
   ]
  },
  {
   "cell_type": "markdown",
   "id": "fde2321e-6fe6-4f61-b45d-956bf3fe8845",
   "metadata": {},
   "source": [
    "#### Train the model"
   ]
  },
  {
   "cell_type": "code",
   "execution_count": 148,
   "id": "36df237b-240e-431a-bf29-d2936842694e",
   "metadata": {},
   "outputs": [],
   "source": [
    "model = keras.Sequential()\n",
    "model.add(\n",
    "    keras.layers.Bidirectional(\n",
    "      keras.layers.LSTM(\n",
    "          units=128, \n",
    "          input_shape=[X_train.shape[0], X_train.shape[1]]\n",
    "      )\n",
    "    )\n",
    ")\n",
    "model.add(keras.layers.Dropout(rate=0.5))\n",
    "model.add(keras.layers.Dense(units=128, activation='relu'))\n",
    "model.add(keras.layers.Dense(y_train.shape[1], activation='softmax'))\n",
    "model.compile(loss='categorical_crossentropy', optimizer='adam', metrics=['acc'])"
   ]
  },
  {
   "cell_type": "code",
   "execution_count": 149,
   "id": "9c749332-869b-4808-8a97-a07d32e8fe94",
   "metadata": {},
   "outputs": [
    {
     "name": "stdout",
     "output_type": "stream",
     "text": [
      "Train on 226 samples, validate on 26 samples\n",
      "Epoch 1/20\n",
      "226/226 [==============================] - 4s 18ms/sample - loss: 0.8967 - acc: 0.6195 - val_loss: 2.5838 - val_acc: 0.0000e+00\n",
      "Epoch 2/20\n",
      "226/226 [==============================] - 1s 6ms/sample - loss: 0.4526 - acc: 0.8407 - val_loss: 3.5294 - val_acc: 0.0000e+00\n",
      "Epoch 3/20\n",
      "226/226 [==============================] - 1s 6ms/sample - loss: 0.3131 - acc: 0.9027 - val_loss: 3.7106 - val_acc: 0.0000e+00\n",
      "Epoch 4/20\n",
      "226/226 [==============================] - 1s 6ms/sample - loss: 0.1896 - acc: 0.9513 - val_loss: 3.7045 - val_acc: 0.0000e+00\n",
      "Epoch 5/20\n",
      "226/226 [==============================] - 1s 6ms/sample - loss: 0.1606 - acc: 0.9558 - val_loss: 3.5097 - val_acc: 0.0000e+00\n",
      "Epoch 6/20\n",
      "226/226 [==============================] - 1s 6ms/sample - loss: 0.1013 - acc: 0.9646 - val_loss: 3.4571 - val_acc: 0.0000e+00\n",
      "Epoch 7/20\n",
      "226/226 [==============================] - 1s 6ms/sample - loss: 0.0897 - acc: 0.9602 - val_loss: 3.6817 - val_acc: 0.0000e+00\n",
      "Epoch 8/20\n",
      "226/226 [==============================] - 1s 6ms/sample - loss: 0.0684 - acc: 0.9779 - val_loss: 3.9444 - val_acc: 0.0000e+00\n",
      "Epoch 9/20\n",
      "226/226 [==============================] - 1s 6ms/sample - loss: 0.0578 - acc: 0.9779 - val_loss: 3.6630 - val_acc: 0.0000e+00\n",
      "Epoch 10/20\n",
      "226/226 [==============================] - 1s 6ms/sample - loss: 0.0386 - acc: 0.9912 - val_loss: 3.1003 - val_acc: 0.0000e+00\n",
      "Epoch 11/20\n",
      "226/226 [==============================] - 1s 6ms/sample - loss: 0.0416 - acc: 0.9823 - val_loss: 2.5485 - val_acc: 0.2692\n",
      "Epoch 12/20\n",
      "226/226 [==============================] - 1s 6ms/sample - loss: 0.0239 - acc: 0.9956 - val_loss: 2.4551 - val_acc: 0.2692\n",
      "Epoch 13/20\n",
      "226/226 [==============================] - 1s 6ms/sample - loss: 0.0221 - acc: 0.9956 - val_loss: 2.6334 - val_acc: 0.2692\n",
      "Epoch 14/20\n",
      "226/226 [==============================] - 1s 6ms/sample - loss: 0.0201 - acc: 0.9912 - val_loss: 2.7701 - val_acc: 0.2692\n",
      "Epoch 15/20\n",
      "226/226 [==============================] - 1s 6ms/sample - loss: 0.0124 - acc: 1.0000 - val_loss: 2.6300 - val_acc: 0.3077\n",
      "Epoch 16/20\n",
      "226/226 [==============================] - 1s 6ms/sample - loss: 0.0184 - acc: 0.9956 - val_loss: 2.7526 - val_acc: 0.3077\n",
      "Epoch 17/20\n",
      "226/226 [==============================] - 1s 6ms/sample - loss: 0.0127 - acc: 0.9956 - val_loss: 2.8840 - val_acc: 0.3077\n",
      "Epoch 18/20\n",
      "226/226 [==============================] - 1s 6ms/sample - loss: 0.0204 - acc: 0.9912 - val_loss: 2.9984 - val_acc: 0.3077\n",
      "Epoch 19/20\n",
      "226/226 [==============================] - 1s 6ms/sample - loss: 0.0062 - acc: 1.0000 - val_loss: 2.9747 - val_acc: 0.3077\n",
      "Epoch 20/20\n",
      "226/226 [==============================] - 1s 6ms/sample - loss: 0.0114 - acc: 0.9956 - val_loss: 2.7555 - val_acc: 0.3077\n"
     ]
    }
   ],
   "source": [
    "history = model.fit(\n",
    "    X_train, y_train,\n",
    "    epochs=20,\n",
    "    batch_size=64, #64 #128 #32\n",
    "    validation_split=0.1,\n",
    "    shuffle=True\n",
    ")"
   ]
  },
  {
   "cell_type": "markdown",
   "id": "6f311ba9-86e8-40f2-8bf5-0481376e3a33",
   "metadata": {},
   "source": [
    "#### Evaluation"
   ]
  },
  {
   "cell_type": "code",
   "execution_count": 150,
   "id": "bbf51183-1f9c-4885-9d1e-d41283888c50",
   "metadata": {},
   "outputs": [
    {
     "data": {
      "image/png": "[encoded data removed]",
      "text/plain": [
       "<Figure size 432x288 with 1 Axes>"
      ]
     },
     "metadata": {
      "needs_background": "light"
     },
     "output_type": "display_data"
    }
   ],
   "source": [
    "plt.plot(history.history['loss'], label='train')\n",
    "plt.plot(history.history['val_loss'], label='test')\n",
    "plt.legend();"
   ]
  },
  {
   "cell_type": "code",
   "execution_count": 151,
   "id": "691d6c8c-8fb5-44ee-ba0c-226817c3f220",
   "metadata": {},
   "outputs": [
    {
     "data": {
      "image/png": "[encoded data removed]",
      "text/plain": [
       "<Figure size 432x288 with 1 Axes>"
      ]
     },
     "metadata": {
      "needs_background": "light"
     },
     "output_type": "display_data"
    }
   ],
   "source": [
    "plt.plot(history.history['acc'], label='train')\n",
    "plt.plot(history.history['val_acc'], label='test')\n",
    "plt.legend();"
   ]
  },
  {
   "cell_type": "code",
   "execution_count": 152,
   "id": "f008ada5-db97-4cce-937a-84179cf44aa7",
   "metadata": {},
   "outputs": [
    {
     "name": "stdout",
     "output_type": "stream",
     "text": [
      "252/252 [==============================] - 0s 2ms/sample - loss: 0.2899 - acc: 0.9286\n"
     ]
    },
    {
     "data": {
      "text/plain": [
       "[0.28987867162296815, 0.9285714]"
      ]
     },
     "execution_count": 152,
     "metadata": {},
     "output_type": "execute_result"
    }
   ],
   "source": [
    "model.evaluate(X_test, y_test)"
   ]
  },
  {
   "cell_type": "code",
   "execution_count": 153,
   "id": "8ee3e5db-3394-498c-9c2c-43fc61a107d2",
   "metadata": {},
   "outputs": [
    {
     "name": "stdout",
     "output_type": "stream",
     "text": [
      "252/252 [==============================] - 0s 2ms/sample - loss: 0.2899 - acc: 0.9286\n"
     ]
    },
    {
     "data": {
      "text/plain": [
       "[0.28987867162296815, 0.9285714]"
      ]
     },
     "execution_count": 153,
     "metadata": {},
     "output_type": "execute_result"
    }
   ],
   "source": [
    "model.evaluate(X_train, y_train)"
   ]
  },
  {
   "cell_type": "markdown",
   "id": "d3b62e69-8be6-4b00-a63e-5a4c2a79edbb",
   "metadata": {},
   "source": [
    "#### Confusion Matrix"
   ]
  },
  {
   "cell_type": "code",
   "execution_count": 154,
   "id": "34900991-b36a-4149-8b9d-8fed8e6d7c69",
   "metadata": {},
   "outputs": [],
   "source": [
    "y_pred = model.predict(X_test)"
   ]
  },
  {
   "cell_type": "code",
   "execution_count": 155,
   "id": "b0c170f4-e1e3-45ad-9bbb-49b504800866",
   "metadata": {},
   "outputs": [],
   "source": [
    "column_names = 'Idle', 'Waack', 'Wrist_on_Elbow'\n",
    "\n",
    "def plot_cm(y_true, y_pred, class_names):\n",
    "  cm = confusion_matrix(y_true, y_pred)\n",
    "  fig, ax = plt.subplots(figsize=(18, 16)) \n",
    "  ax = sns.heatmap(\n",
    "      cm, \n",
    "      annot=True, \n",
    "      fmt=\"d\", \n",
    "      cmap=sns.diverging_palette(220, 20, n=7),\n",
    "      ax=ax\n",
    "  )\n",
    "\n",
    "  plt.ylabel('Actual')\n",
    "  plt.xlabel('Predicted')\n",
    "  ax.set_xticklabels(column_names)\n",
    "  ax.set_yticklabels(column_names)\n",
    "  b, t = plt.ylim() # discover the values for bottom and top\n",
    "  #b += 0.5 # Add 0.5 to the bottom\n",
    "  #t -= 0.5 # Subtract 0.5 from the top\n",
    "  plt.ylim(b, t) # update the ylim(bottom, top) values\n",
    "  plt.show() # ta-da!"
   ]
  },
  {
   "cell_type": "code",
   "execution_count": 156,
   "id": "1b092470-980d-4f61-a196-d455dfd210dc",
   "metadata": {},
   "outputs": [
    {
     "data": {
      "image/png": "[encoded data removed]",
      "text/plain": [
       "<Figure size 1296x1152 with 2 Axes>"
      ]
     },
     "metadata": {
      "needs_background": "light"
     },
     "output_type": "display_data"
    }
   ],
   "source": [
    "plot_cm(\n",
    "  enc.inverse_transform(y_test),\n",
    "  enc.inverse_transform(y_pred),\n",
    "  enc.categories_[0]\n",
    ")"
   ]
  },
  {
   "cell_type": "code",
   "execution_count": null,
   "id": "1da3965e-37ed-4df2-8508-140d8c23259e",
   "metadata": {},
   "outputs": [],
   "source": []
  },
  {
   "cell_type": "code",
   "execution_count": null,
   "id": "0de45cd3-7fcf-4d90-be02-7be06ea68b8c",
   "metadata": {},
   "outputs": [],
   "source": []
  }
 ],
 "metadata": {
  "kernelspec": {
   "display_name": "Python 3",
   "language": "python",
   "name": "python3"
  },
  "language_info": {
   "codemirror_mode": {
    "name": "ipython",
    "version": 3
   },
   "file_extension": ".py",
   "mimetype": "text/x-python",
   "name": "python",
   "nbconvert_exporter": "python",
   "pygments_lexer": "ipython3",
   "version": "3.6.13"
  }
 },
 "nbformat": 4,
 "nbformat_minor": 5
}
