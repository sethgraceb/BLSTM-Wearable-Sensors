{
 "cells": [
  {
   "cell_type": "markdown",
   "id": "00efe04b-fae0-4ad4-bb80-6206c1ba4157",
   "metadata": {},
   "source": [
    "# Bidirectional LSTM (Right Wrist)"
   ]
  },
  {
   "cell_type": "markdown",
   "id": "6ab8766d-8d28-4e27-9514-3112e34a1b89",
   "metadata": {},
   "source": [
    "##### https://www.kaggle.com/malekzadeh/human-activity-recognition-with-mobile-sensing"
   ]
  },
  {
   "cell_type": "markdown",
   "id": "17ccfc3f-200a-46ce-86f3-75e2c79069fe",
   "metadata": {},
   "source": [
    "##### https://github.com/akhuperkar/HAR-Smartphone-Accelerometer/blob/master/HAR%20Using%20Machine%20Learning%20.ipynb"
   ]
  },
  {
   "cell_type": "markdown",
   "id": "c25e1702-1934-4512-9505-e06703ae6f1c",
   "metadata": {},
   "source": [
    "#### Import Libraries"
   ]
  },
  {
   "cell_type": "code",
   "execution_count": 1,
   "id": "b2500ac0-0050-4d0e-9705-3a2f3d38b7fc",
   "metadata": {},
   "outputs": [],
   "source": [
    "import os\n",
    "import numpy as np\n",
    "import pandas as pd\n",
    "import scipy.io as sio\n",
    "import scipy.stats\n",
    "import math\n",
    "\n",
    "import matplotlib.pyplot as plt\n",
    "%matplotlib inline\n",
    "\n",
    "from scipy import stats\n",
    "import seaborn as sns\n",
    "from tensorflow import keras\n",
    "\n",
    "from sklearn.preprocessing import OneHotEncoder\n",
    "from sklearn.preprocessing import StandardScaler\n",
    "from sklearn.metrics import accuracy_score, confusion_matrix, classification_report\n",
    "from sklearn.model_selection import cross_val_score, GridSearchCV, RandomizedSearchCV, train_test_split\n",
    "\n",
    "from collections import defaultdict, Counter\n",
    "\n",
    "import warnings\n",
    "warnings.filterwarnings(\"ignore\")"
   ]
  },
  {
   "cell_type": "code",
   "execution_count": 2,
   "id": "ee210cfa-4bb4-41e1-9f63-f4917af1f53c",
   "metadata": {},
   "outputs": [],
   "source": [
    "df = pd.read_csv('gyr_data_right_wrist.csv')\n",
    "df = df.drop([0])"
   ]
  },
  {
   "cell_type": "code",
   "execution_count": 3,
   "id": "8626e60a-b64b-47dc-968b-fa2fc1716d37",
   "metadata": {},
   "outputs": [
    {
     "name": "stdout",
     "output_type": "stream",
     "text": [
      "     PacketCounter  SampleTimeFine      Gyr_X     Gyr_Y      Gyr_Z Unnamed: 11\n",
      "1                1      1255232210  12.263809 -0.726019 -17.096363            \n",
      "2                2      1255248877   5.177547  0.610038 -22.477610            \n",
      "3                3      1255265544  -1.303011  2.630488 -26.364588            \n",
      "4                4      1255282211  -4.977266  4.914535 -28.234817            \n",
      "5                5      1255298878  -9.409168  6.516964 -30.414976            \n",
      "..             ...             ...        ...       ...        ...         ...\n",
      "398            398      1261849009   5.708789  3.674296  -2.771999            \n",
      "399            399      1261865676   4.133288  2.490323  -1.187142            \n",
      "400            400      1261882343   3.316972  1.362468  -0.302223            \n",
      "401            401      1261899010   2.882152  0.117953  -0.026919            \n",
      "402            402      1261915677   3.271004 -0.885060   0.743581            \n",
      "\n",
      "[402 rows x 6 columns]\n"
     ]
    }
   ],
   "source": [
    "print(df)"
   ]
  },
  {
   "cell_type": "code",
   "execution_count": 4,
   "id": "0089e698-177a-43a1-a448-645cbb703cf4",
   "metadata": {},
   "outputs": [
    {
     "name": "stdout",
     "output_type": "stream",
     "text": [
      "     PacketCounter  SampleTimeFine  Label\n",
      "1                1      1255232210      1\n",
      "2                2      1255248877      1\n",
      "3                3      1255265544      1\n",
      "4                4      1255282211      1\n",
      "5                5      1255298878      1\n",
      "..             ...             ...    ...\n",
      "398            398      1261849009      3\n",
      "399            399      1261865676      3\n",
      "400            400      1261882343      3\n",
      "401            401      1261899010      3\n",
      "402            402      1261915677      3\n",
      "\n",
      "[402 rows x 3 columns]\n"
     ]
    }
   ],
   "source": [
    "df2 = pd.read_csv('gyr_data_right_wrist_label.csv')\n",
    "df2 = df2.drop([0])\n",
    "print(df2)"
   ]
  },
  {
   "cell_type": "code",
   "execution_count": 6,
   "id": "a4ccc08f-6ee1-4975-9db5-c4fab3508df1",
   "metadata": {},
   "outputs": [
    {
     "name": "stdout",
     "output_type": "stream",
     "text": [
      "Shape of original data: (402, 6)\n",
      "Shape of labels data: (402, 3)\n"
     ]
    }
   ],
   "source": [
    "df_train = df\n",
    "label_train = df2\n",
    "print(\"Shape of original data:\", df_train.shape)\n",
    "print(\"Shape of labels data:\", label_train.shape)"
   ]
  },
  {
   "cell_type": "code",
   "execution_count": 7,
   "id": "7a5dfa75-5261-4ab3-b679-746abc403968",
   "metadata": {},
   "outputs": [
    {
     "name": "stdout",
     "output_type": "stream",
     "text": [
      "   PacketCounter  SampleTimeFine      Gyr_X     Gyr_Y      Gyr_Z Unnamed: 11\n",
      "1              1      1255232210  12.263809 -0.726019 -17.096363            \n",
      "2              2      1255248877   5.177547  0.610038 -22.477610            \n",
      "3              3      1255265544  -1.303011  2.630488 -26.364588            \n",
      "4              4      1255282211  -4.977266  4.914535 -28.234817            \n",
      "5              5      1255298878  -9.409168  6.516964 -30.414976            \n"
     ]
    }
   ],
   "source": [
    "print(df_train.head())"
   ]
  },
  {
   "cell_type": "code",
   "execution_count": 8,
   "id": "09e66db0-d5b9-41c7-9a38-9ef633cff74b",
   "metadata": {},
   "outputs": [
    {
     "data": {
      "text/html": [
       "<div>\n",
       "<style scoped>\n",
       "    .dataframe tbody tr th:only-of-type {\n",
       "        vertical-align: middle;\n",
       "    }\n",
       "\n",
       "    .dataframe tbody tr th {\n",
       "        vertical-align: top;\n",
       "    }\n",
       "\n",
       "    .dataframe thead th {\n",
       "        text-align: right;\n",
       "    }\n",
       "</style>\n",
       "<table border=\"1\" class=\"dataframe\">\n",
       "  <thead>\n",
       "    <tr style=\"text-align: right;\">\n",
       "      <th></th>\n",
       "      <th>PacketCounter</th>\n",
       "      <th>SampleTimeFine</th>\n",
       "      <th>Gyr_X</th>\n",
       "      <th>Gyr_Y</th>\n",
       "      <th>Gyr_Z</th>\n",
       "      <th>Unnamed: 11</th>\n",
       "      <th>m</th>\n",
       "    </tr>\n",
       "  </thead>\n",
       "  <tbody>\n",
       "    <tr>\n",
       "      <th>1</th>\n",
       "      <td>1</td>\n",
       "      <td>1255232210</td>\n",
       "      <td>12.263809</td>\n",
       "      <td>-0.726019</td>\n",
       "      <td>-17.096363</td>\n",
       "      <td></td>\n",
       "      <td>21.052642</td>\n",
       "    </tr>\n",
       "    <tr>\n",
       "      <th>2</th>\n",
       "      <td>2</td>\n",
       "      <td>1255248877</td>\n",
       "      <td>5.177547</td>\n",
       "      <td>0.610038</td>\n",
       "      <td>-22.477610</td>\n",
       "      <td></td>\n",
       "      <td>23.074273</td>\n",
       "    </tr>\n",
       "    <tr>\n",
       "      <th>3</th>\n",
       "      <td>3</td>\n",
       "      <td>1255265544</td>\n",
       "      <td>-1.303011</td>\n",
       "      <td>2.630488</td>\n",
       "      <td>-26.364588</td>\n",
       "      <td></td>\n",
       "      <td>26.527510</td>\n",
       "    </tr>\n",
       "    <tr>\n",
       "      <th>4</th>\n",
       "      <td>4</td>\n",
       "      <td>1255282211</td>\n",
       "      <td>-4.977266</td>\n",
       "      <td>4.914535</td>\n",
       "      <td>-28.234817</td>\n",
       "      <td></td>\n",
       "      <td>29.088327</td>\n",
       "    </tr>\n",
       "    <tr>\n",
       "      <th>5</th>\n",
       "      <td>5</td>\n",
       "      <td>1255298878</td>\n",
       "      <td>-9.409168</td>\n",
       "      <td>6.516964</td>\n",
       "      <td>-30.414976</td>\n",
       "      <td></td>\n",
       "      <td>32.497293</td>\n",
       "    </tr>\n",
       "  </tbody>\n",
       "</table>\n",
       "</div>"
      ],
      "text/plain": [
       "   PacketCounter  SampleTimeFine      Gyr_X     Gyr_Y      Gyr_Z Unnamed: 11  \\\n",
       "1              1      1255232210  12.263809 -0.726019 -17.096363               \n",
       "2              2      1255248877   5.177547  0.610038 -22.477610               \n",
       "3              3      1255265544  -1.303011  2.630488 -26.364588               \n",
       "4              4      1255282211  -4.977266  4.914535 -28.234817               \n",
       "5              5      1255298878  -9.409168  6.516964 -30.414976               \n",
       "\n",
       "           m  \n",
       "1  21.052642  \n",
       "2  23.074273  \n",
       "3  26.527510  \n",
       "4  29.088327  \n",
       "5  32.497293  "
      ]
     },
     "execution_count": 8,
     "metadata": {},
     "output_type": "execute_result"
    }
   ],
   "source": [
    "def magnitude(activity):\n",
    "    x2 = activity['Gyr_X'] * activity['Gyr_X']\n",
    "    y2 = activity['Gyr_Y'] * activity['Gyr_Y']\n",
    "    z2 = activity['Gyr_Z'] * activity['Gyr_Z']\n",
    "    m2 = x2 + y2 + z2\n",
    "    m = m2.apply(lambda x: math.sqrt(x))\n",
    "    return m\n",
    "\n",
    "df_train['m'] = magnitude(df_train)\n",
    "df_train.head()"
   ]
  },
  {
   "cell_type": "code",
   "execution_count": 9,
   "id": "6cefa4b8-788a-4da9-9a86-f6261e6d39f5",
   "metadata": {},
   "outputs": [
    {
     "name": "stdout",
     "output_type": "stream",
     "text": [
      "   PacketCounter  SampleTimeFine  Label\n",
      "1              1      1255232210      1\n",
      "2              2      1255248877      1\n",
      "3              3      1255265544      1\n",
      "4              4      1255282211      1\n",
      "5              5      1255298878      1\n"
     ]
    }
   ],
   "source": [
    "print(label_train.head())"
   ]
  },
  {
   "cell_type": "code",
   "execution_count": 10,
   "id": "6dd80d57-1abd-477d-bec7-6bb93def8f22",
   "metadata": {},
   "outputs": [
    {
     "data": {
      "text/html": [
       "<div>\n",
       "<style scoped>\n",
       "    .dataframe tbody tr th:only-of-type {\n",
       "        vertical-align: middle;\n",
       "    }\n",
       "\n",
       "    .dataframe tbody tr th {\n",
       "        vertical-align: top;\n",
       "    }\n",
       "\n",
       "    .dataframe thead th {\n",
       "        text-align: right;\n",
       "    }\n",
       "</style>\n",
       "<table border=\"1\" class=\"dataframe\">\n",
       "  <thead>\n",
       "    <tr style=\"text-align: right;\">\n",
       "      <th></th>\n",
       "      <th>index</th>\n",
       "      <th>label</th>\n",
       "    </tr>\n",
       "  </thead>\n",
       "  <tbody>\n",
       "    <tr>\n",
       "      <th>0</th>\n",
       "      <td>1</td>\n",
       "      <td>121</td>\n",
       "    </tr>\n",
       "    <tr>\n",
       "      <th>1</th>\n",
       "      <td>2</td>\n",
       "      <td>127</td>\n",
       "    </tr>\n",
       "    <tr>\n",
       "      <th>2</th>\n",
       "      <td>3</td>\n",
       "      <td>154</td>\n",
       "    </tr>\n",
       "  </tbody>\n",
       "</table>\n",
       "</div>"
      ],
      "text/plain": [
       "   index  label\n",
       "0      1    121\n",
       "1      2    127\n",
       "2      3    154"
      ]
     },
     "execution_count": 10,
     "metadata": {},
     "output_type": "execute_result"
    }
   ],
   "source": [
    "pd.DataFrame.from_dict(Counter(label_train['Label']), orient=\"Index\", columns=['label']).reset_index()"
   ]
  },
  {
   "cell_type": "markdown",
   "id": "c31ff570-ebfb-44ea-96b1-b5be4523cdfa",
   "metadata": {},
   "source": [
    "#### Plot Acceleration Data"
   ]
  },
  {
   "cell_type": "code",
   "execution_count": 11,
   "id": "88031ec4-3422-41b4-afd0-8badd684978a",
   "metadata": {},
   "outputs": [
    {
     "data": {
      "image/png": "[encoded data removed]",
      "text/plain": [
       "<Figure size 720x216 with 1 Axes>"
      ]
     },
     "metadata": {
      "needs_background": "light"
     },
     "output_type": "display_data"
    }
   ],
   "source": [
    "plt.figure(figsize=(10,3))\n",
    "plt.plot(df_train['PacketCounter'], df_train['Gyr_X'], linewidth=0.5, color='r', label='x axis')\n",
    "plt.plot(df_train['PacketCounter'], df_train['Gyr_Y'], linewidth=0.5, color='b', label='y axis')\n",
    "plt.plot(df_train['PacketCounter'], df_train['Gyr_Z'], linewidth=0.5, color='g', label='z axis')\n",
    "plt.xlabel('PacketCounter')\n",
    "plt.ylabel('Gyr')\n",
    "plt.legend(loc='center left', bbox_to_anchor=(1, 0.5));"
   ]
  },
  {
   "cell_type": "code",
   "execution_count": 12,
   "id": "8643fc5b-b65f-404d-801e-c93a1c6ede1a",
   "metadata": {},
   "outputs": [
    {
     "data": {
      "image/png": "[encoded data removed]",
      "text/plain": [
       "<Figure size 720x576 with 4 Axes>"
      ]
     },
     "metadata": {
      "needs_background": "light"
     },
     "output_type": "display_data"
    }
   ],
   "source": [
    "fig, ax = plt.subplots(nrows=4, ncols=1, figsize=(10,8))\n",
    "\n",
    "ax[0].set_title('X-axis:')\n",
    "ax[0].plot(df_train['PacketCounter'], df_train['Gyr_X'], linewidth=0.5, color='r')\n",
    "\n",
    "ax[1].set_title('Y-axis: ')\n",
    "ax[1].plot(df_train['PacketCounter'], df_train['Gyr_Y'], linewidth=0.5, color='b')\n",
    "\n",
    "ax[2].set_title('Z-axis: ')\n",
    "ax[2].plot(df_train['PacketCounter'], df_train['Gyr_Z'], linewidth=0.5, color='g')\n",
    "\n",
    "ax[3].set_title('Magnitude, m: Combined X-Y-Z')\n",
    "ax[3].plot(df_train['PacketCounter'], df_train['m'], linewidth=0.5, color='k')\n",
    "\n",
    "fig.subplots_adjust(hspace=.5)"
   ]
  },
  {
   "cell_type": "code",
   "execution_count": 14,
   "id": "f51a527c-98d7-40ce-b73f-34af9eaea512",
   "metadata": {},
   "outputs": [],
   "source": [
    "# Separating data for each activity\n",
    "train_df = pd.concat([df_train, label_train['Label']], axis=1).dropna()\n",
    "columns = ['PacketCounter', 'Gyr_X', 'Gyr_Y', 'Gyr_Z', 'm', 'Label']\n",
    "\n",
    "idle = train_df[columns][train_df.Label == 1]\n",
    "waack = train_df[columns][train_df.Label == 2]\n",
    "wrist_on_elbow = train_df[columns][train_df.Label == 3]"
   ]
  },
  {
   "cell_type": "code",
   "execution_count": 15,
   "id": "3fdd0055-498a-472a-a19f-900e456cdd1c",
   "metadata": {},
   "outputs": [
    {
     "data": {
      "text/html": [
       "<div>\n",
       "<style scoped>\n",
       "    .dataframe tbody tr th:only-of-type {\n",
       "        vertical-align: middle;\n",
       "    }\n",
       "\n",
       "    .dataframe tbody tr th {\n",
       "        vertical-align: top;\n",
       "    }\n",
       "\n",
       "    .dataframe thead th {\n",
       "        text-align: right;\n",
       "    }\n",
       "</style>\n",
       "<table border=\"1\" class=\"dataframe\">\n",
       "  <thead>\n",
       "    <tr style=\"text-align: right;\">\n",
       "      <th></th>\n",
       "      <th>PacketCounter</th>\n",
       "      <th>Gyr_X</th>\n",
       "      <th>Gyr_Y</th>\n",
       "      <th>Gyr_Z</th>\n",
       "      <th>m</th>\n",
       "      <th>Label</th>\n",
       "    </tr>\n",
       "  </thead>\n",
       "  <tbody>\n",
       "    <tr>\n",
       "      <th>249</th>\n",
       "      <td>249</td>\n",
       "      <td>-8.962578</td>\n",
       "      <td>87.369560</td>\n",
       "      <td>-86.098282</td>\n",
       "      <td>122.990577</td>\n",
       "      <td>3</td>\n",
       "    </tr>\n",
       "    <tr>\n",
       "      <th>250</th>\n",
       "      <td>250</td>\n",
       "      <td>0.576594</td>\n",
       "      <td>78.986862</td>\n",
       "      <td>-61.385826</td>\n",
       "      <td>100.037376</td>\n",
       "      <td>3</td>\n",
       "    </tr>\n",
       "    <tr>\n",
       "      <th>251</th>\n",
       "      <td>251</td>\n",
       "      <td>7.326230</td>\n",
       "      <td>69.258179</td>\n",
       "      <td>-42.335625</td>\n",
       "      <td>81.502602</td>\n",
       "      <td>3</td>\n",
       "    </tr>\n",
       "    <tr>\n",
       "      <th>252</th>\n",
       "      <td>252</td>\n",
       "      <td>13.184861</td>\n",
       "      <td>59.779140</td>\n",
       "      <td>-26.451519</td>\n",
       "      <td>66.686348</td>\n",
       "      <td>3</td>\n",
       "    </tr>\n",
       "    <tr>\n",
       "      <th>253</th>\n",
       "      <td>253</td>\n",
       "      <td>15.456020</td>\n",
       "      <td>51.498135</td>\n",
       "      <td>-16.024084</td>\n",
       "      <td>56.104525</td>\n",
       "      <td>3</td>\n",
       "    </tr>\n",
       "  </tbody>\n",
       "</table>\n",
       "</div>"
      ],
      "text/plain": [
       "     PacketCounter      Gyr_X      Gyr_Y      Gyr_Z           m  Label\n",
       "249            249  -8.962578  87.369560 -86.098282  122.990577      3\n",
       "250            250   0.576594  78.986862 -61.385826  100.037376      3\n",
       "251            251   7.326230  69.258179 -42.335625   81.502602      3\n",
       "252            252  13.184861  59.779140 -26.451519   66.686348      3\n",
       "253            253  15.456020  51.498135 -16.024084   56.104525      3"
      ]
     },
     "execution_count": 15,
     "metadata": {},
     "output_type": "execute_result"
    }
   ],
   "source": [
    "wrist_on_elbow.head()"
   ]
  },
  {
   "cell_type": "code",
   "execution_count": 16,
   "id": "5d5a4095-b460-4c40-b451-4789077d367b",
   "metadata": {},
   "outputs": [
    {
     "data": {
      "text/html": [
       "<div>\n",
       "<style scoped>\n",
       "    .dataframe tbody tr th:only-of-type {\n",
       "        vertical-align: middle;\n",
       "    }\n",
       "\n",
       "    .dataframe tbody tr th {\n",
       "        vertical-align: top;\n",
       "    }\n",
       "\n",
       "    .dataframe thead th {\n",
       "        text-align: right;\n",
       "    }\n",
       "</style>\n",
       "<table border=\"1\" class=\"dataframe\">\n",
       "  <thead>\n",
       "    <tr style=\"text-align: right;\">\n",
       "      <th></th>\n",
       "      <th>PacketCounter</th>\n",
       "      <th>Gyr_X</th>\n",
       "      <th>Gyr_Y</th>\n",
       "      <th>Gyr_Z</th>\n",
       "      <th>m</th>\n",
       "      <th>Label</th>\n",
       "    </tr>\n",
       "  </thead>\n",
       "  <tbody>\n",
       "    <tr>\n",
       "      <th>122</th>\n",
       "      <td>122</td>\n",
       "      <td>42.043419</td>\n",
       "      <td>-91.959190</td>\n",
       "      <td>309.075531</td>\n",
       "      <td>325.195058</td>\n",
       "      <td>2</td>\n",
       "    </tr>\n",
       "    <tr>\n",
       "      <th>123</th>\n",
       "      <td>123</td>\n",
       "      <td>24.752884</td>\n",
       "      <td>-80.789124</td>\n",
       "      <td>293.916840</td>\n",
       "      <td>305.821347</td>\n",
       "      <td>2</td>\n",
       "    </tr>\n",
       "    <tr>\n",
       "      <th>124</th>\n",
       "      <td>124</td>\n",
       "      <td>8.085079</td>\n",
       "      <td>-72.326698</td>\n",
       "      <td>275.449921</td>\n",
       "      <td>284.902051</td>\n",
       "      <td>2</td>\n",
       "    </tr>\n",
       "    <tr>\n",
       "      <th>125</th>\n",
       "      <td>125</td>\n",
       "      <td>-6.428979</td>\n",
       "      <td>-64.825363</td>\n",
       "      <td>254.924103</td>\n",
       "      <td>263.115864</td>\n",
       "      <td>2</td>\n",
       "    </tr>\n",
       "    <tr>\n",
       "      <th>126</th>\n",
       "      <td>126</td>\n",
       "      <td>-19.808086</td>\n",
       "      <td>-53.674900</td>\n",
       "      <td>235.394196</td>\n",
       "      <td>242.247358</td>\n",
       "      <td>2</td>\n",
       "    </tr>\n",
       "  </tbody>\n",
       "</table>\n",
       "</div>"
      ],
      "text/plain": [
       "     PacketCounter      Gyr_X      Gyr_Y       Gyr_Z           m  Label\n",
       "122            122  42.043419 -91.959190  309.075531  325.195058      2\n",
       "123            123  24.752884 -80.789124  293.916840  305.821347      2\n",
       "124            124   8.085079 -72.326698  275.449921  284.902051      2\n",
       "125            125  -6.428979 -64.825363  254.924103  263.115864      2\n",
       "126            126 -19.808086 -53.674900  235.394196  242.247358      2"
      ]
     },
     "execution_count": 16,
     "metadata": {},
     "output_type": "execute_result"
    }
   ],
   "source": [
    "waack.head()"
   ]
  },
  {
   "cell_type": "code",
   "execution_count": 17,
   "id": "6b694290-472a-4b9a-a051-3071840e19cc",
   "metadata": {},
   "outputs": [
    {
     "data": {
      "text/html": [
       "<div>\n",
       "<style scoped>\n",
       "    .dataframe tbody tr th:only-of-type {\n",
       "        vertical-align: middle;\n",
       "    }\n",
       "\n",
       "    .dataframe tbody tr th {\n",
       "        vertical-align: top;\n",
       "    }\n",
       "\n",
       "    .dataframe thead th {\n",
       "        text-align: right;\n",
       "    }\n",
       "</style>\n",
       "<table border=\"1\" class=\"dataframe\">\n",
       "  <thead>\n",
       "    <tr style=\"text-align: right;\">\n",
       "      <th></th>\n",
       "      <th>PacketCounter</th>\n",
       "      <th>Gyr_X</th>\n",
       "      <th>Gyr_Y</th>\n",
       "      <th>Gyr_Z</th>\n",
       "      <th>m</th>\n",
       "      <th>Label</th>\n",
       "    </tr>\n",
       "  </thead>\n",
       "  <tbody>\n",
       "    <tr>\n",
       "      <th>1</th>\n",
       "      <td>1</td>\n",
       "      <td>12.263809</td>\n",
       "      <td>-0.726019</td>\n",
       "      <td>-17.096363</td>\n",
       "      <td>21.052642</td>\n",
       "      <td>1</td>\n",
       "    </tr>\n",
       "    <tr>\n",
       "      <th>2</th>\n",
       "      <td>2</td>\n",
       "      <td>5.177547</td>\n",
       "      <td>0.610038</td>\n",
       "      <td>-22.477610</td>\n",
       "      <td>23.074273</td>\n",
       "      <td>1</td>\n",
       "    </tr>\n",
       "    <tr>\n",
       "      <th>3</th>\n",
       "      <td>3</td>\n",
       "      <td>-1.303011</td>\n",
       "      <td>2.630488</td>\n",
       "      <td>-26.364588</td>\n",
       "      <td>26.527510</td>\n",
       "      <td>1</td>\n",
       "    </tr>\n",
       "    <tr>\n",
       "      <th>4</th>\n",
       "      <td>4</td>\n",
       "      <td>-4.977266</td>\n",
       "      <td>4.914535</td>\n",
       "      <td>-28.234817</td>\n",
       "      <td>29.088327</td>\n",
       "      <td>1</td>\n",
       "    </tr>\n",
       "    <tr>\n",
       "      <th>5</th>\n",
       "      <td>5</td>\n",
       "      <td>-9.409168</td>\n",
       "      <td>6.516964</td>\n",
       "      <td>-30.414976</td>\n",
       "      <td>32.497293</td>\n",
       "      <td>1</td>\n",
       "    </tr>\n",
       "  </tbody>\n",
       "</table>\n",
       "</div>"
      ],
      "text/plain": [
       "   PacketCounter      Gyr_X     Gyr_Y      Gyr_Z          m  Label\n",
       "1              1  12.263809 -0.726019 -17.096363  21.052642      1\n",
       "2              2   5.177547  0.610038 -22.477610  23.074273      1\n",
       "3              3  -1.303011  2.630488 -26.364588  26.527510      1\n",
       "4              4  -4.977266  4.914535 -28.234817  29.088327      1\n",
       "5              5  -9.409168  6.516964 -30.414976  32.497293      1"
      ]
     },
     "execution_count": 17,
     "metadata": {},
     "output_type": "execute_result"
    }
   ],
   "source": [
    "idle.head()"
   ]
  },
  {
   "cell_type": "markdown",
   "id": "ff06a9ba-0401-420b-b09f-a2a49147b029",
   "metadata": {},
   "source": [
    "#### Plot Activity Data"
   ]
  },
  {
   "cell_type": "code",
   "execution_count": 18,
   "id": "4fe8f62e-ee28-401c-b6d4-5e7a3bfed13d",
   "metadata": {},
   "outputs": [
    {
     "data": {
      "image/png": "[encoded data removed]",
      "text/plain": [
       "<Figure size 720x576 with 3 Axes>"
      ]
     },
     "metadata": {
      "needs_background": "light"
     },
     "output_type": "display_data"
    }
   ],
   "source": [
    "def plot_axis(ax, x, y, title):\n",
    "    ax.plot(x, y)\n",
    "    ax.set_title(title)\n",
    "    ax.xaxis.set_visible(False)\n",
    "    ax.set_ylim([min(y) - np.std(y), max(y) + np.std(y)])\n",
    "    ax.set_xlim([min(x), max(x)])\n",
    "    ax.grid(True)\n",
    "    \n",
    "def plot_activity(activities, titles):\n",
    "    fig, axs = plt.subplots(nrows=len(activities), figsize=(10, 8))\n",
    "    for i in range(0, len(activities)):\n",
    "        plot_axis(axs[i], activities[i]['PacketCounter'], activities[i]['m'], titles[i])\n",
    "    plt.subplots_adjust(hspace=0.2)\n",
    "    plt.show()\n",
    "\n",
    "plot_activity([wrist_on_elbow, waack, idle],\n",
    "              ['Idle', 'Waack', 'Wrist on Elbow'])"
   ]
  },
  {
   "cell_type": "markdown",
   "id": "f0d3399a-7ff5-47fd-942f-48d6d632f368",
   "metadata": {},
   "source": [
    "#### Split training data"
   ]
  },
  {
   "cell_type": "code",
   "execution_count": 19,
   "id": "ef9500cb-1062-40e9-8e04-c2eee9cfb10d",
   "metadata": {},
   "outputs": [],
   "source": [
    "X_train, X_test, y_train, y_test = train_test_split(train_df, label_train, test_size = 0.2, random_state = 0)"
   ]
  },
  {
   "cell_type": "code",
   "execution_count": 20,
   "id": "6b39e27b-7638-4c8c-bfc7-985d299f6641",
   "metadata": {},
   "outputs": [
    {
     "name": "stdout",
     "output_type": "stream",
     "text": [
      "X_train shape: (321, 8)\n",
      "y_train shape: (321, 3)\n"
     ]
    }
   ],
   "source": [
    "print(\"X_train shape:\", X_train.shape)\n",
    "print(\"y_train shape:\", y_train.shape)"
   ]
  },
  {
   "cell_type": "code",
   "execution_count": 21,
   "id": "9058c61a-3e18-484c-aa15-6ae8f52af613",
   "metadata": {},
   "outputs": [
    {
     "name": "stdout",
     "output_type": "stream",
     "text": [
      "X_test shape: (81, 8)\n",
      "y_test shape: (81, 3)\n"
     ]
    }
   ],
   "source": [
    "print(\"X_test shape:\", X_test.shape)\n",
    "print(\"y_test shape:\", y_test.shape)"
   ]
  },
  {
   "cell_type": "code",
   "execution_count": 22,
   "id": "5c2ae12f-b9b9-4a81-85e5-ebab0efb8edb",
   "metadata": {},
   "outputs": [],
   "source": [
    "def create_dataset(X, y, time_steps=1, step=1):\n",
    "    Xs, ys = [], []\n",
    "    for i in range(0, len(X) - time_steps, step):\n",
    "        v = X.iloc[i:(i + time_steps)].values\n",
    "        labels = label_train['Label'].iloc[i: i + time_steps]\n",
    "        Xs.append(v)        \n",
    "        ys.append(stats.mode(labels)[0][0])\n",
    "    return np.array(Xs), np.array(ys).reshape(-1, 1)\n",
    "\n",
    "TIME_STEPS = 300 #400 #200 #300\n",
    "STEP = 150  #100 #60 #80 #40 #150\n",
    "\n",
    "X_train, y_train = create_dataset(\n",
    "    df[['Gyr_X', 'Gyr_Y', 'Gyr_Z']], \n",
    "    TIME_STEPS, \n",
    "    STEP\n",
    ")\n",
    "\n",
    "X_test, y_test = create_dataset(\n",
    "    df[['Gyr_X', 'Gyr_Y', 'Gyr_Z']], \n",
    "    TIME_STEPS, \n",
    "    STEP\n",
    ")"
   ]
  },
  {
   "cell_type": "code",
   "execution_count": 23,
   "id": "f92ad08f-1886-4c48-b8a0-81a19fa8b31b",
   "metadata": {},
   "outputs": [
    {
     "name": "stdout",
     "output_type": "stream",
     "text": [
      "(252, 150, 3) (252, 1)\n"
     ]
    }
   ],
   "source": [
    "print(X_train.shape, y_train.shape)"
   ]
  },
  {
   "cell_type": "code",
   "execution_count": 24,
   "id": "8a9fed22-3dc4-453b-be2a-8933bc95fde9",
   "metadata": {},
   "outputs": [],
   "source": [
    "enc = OneHotEncoder(handle_unknown='ignore', sparse=False)\n",
    "\n",
    "enc = enc.fit(y_train)\n",
    "\n",
    "y_train = enc.transform(y_train)\n",
    "y_test = enc.transform(y_test)"
   ]
  },
  {
   "cell_type": "code",
   "execution_count": 25,
   "id": "b2a662ce-d3f5-4fbb-878c-a6fe726fe3a9",
   "metadata": {},
   "outputs": [
    {
     "name": "stdout",
     "output_type": "stream",
     "text": [
      "(252, 150, 3) (252, 3)\n"
     ]
    }
   ],
   "source": [
    "print(X_train.shape, y_train.shape)"
   ]
  },
  {
   "cell_type": "markdown",
   "id": "980b7bf1-fcd5-4510-926a-735d8405823f",
   "metadata": {},
   "source": [
    "#### Train the model"
   ]
  },
  {
   "cell_type": "code",
   "execution_count": 26,
   "id": "1aa88a2c-34d7-48a6-ad95-82cfc2998dcb",
   "metadata": {},
   "outputs": [],
   "source": [
    "model = keras.Sequential()\n",
    "model.add(\n",
    "    keras.layers.Bidirectional(\n",
    "      keras.layers.LSTM(\n",
    "          units=128, \n",
    "          input_shape=[X_train.shape[0], X_train.shape[1]]\n",
    "      )\n",
    "    )\n",
    ")\n",
    "model.add(keras.layers.Dropout(rate=0.5))\n",
    "model.add(keras.layers.Dense(units=128, activation='relu'))\n",
    "model.add(keras.layers.Dense(y_train.shape[1], activation='softmax'))\n",
    "model.compile(loss='categorical_crossentropy', optimizer='adam', metrics=['acc'])"
   ]
  },
  {
   "cell_type": "code",
   "execution_count": 27,
   "id": "acb8aa07-29ff-4d74-80ba-12e65ffad5e1",
   "metadata": {},
   "outputs": [
    {
     "name": "stdout",
     "output_type": "stream",
     "text": [
      "Train on 226 samples, validate on 26 samples\n",
      "Epoch 1/20\n",
      "226/226 [==============================] - 4s 16ms/sample - loss: 1.0882 - acc: 0.4558 - val_loss: 1.1704 - val_acc: 0.0000e+00\n",
      "Epoch 2/20\n",
      "226/226 [==============================] - 1s 4ms/sample - loss: 0.5152 - acc: 0.8584 - val_loss: 1.5711 - val_acc: 0.0000e+00\n",
      "Epoch 3/20\n",
      "226/226 [==============================] - 1s 4ms/sample - loss: 0.2829 - acc: 0.9336 - val_loss: 1.8964 - val_acc: 0.0000e+00\n",
      "Epoch 4/20\n",
      "226/226 [==============================] - 1s 4ms/sample - loss: 0.1908 - acc: 0.9469 - val_loss: 2.0314 - val_acc: 0.0385\n",
      "Epoch 5/20\n",
      "226/226 [==============================] - 1s 4ms/sample - loss: 0.0924 - acc: 0.9912 - val_loss: 2.0304 - val_acc: 0.1154\n",
      "Epoch 6/20\n",
      "226/226 [==============================] - 1s 4ms/sample - loss: 0.0626 - acc: 0.9912 - val_loss: 2.1250 - val_acc: 0.1538\n",
      "Epoch 7/20\n",
      "226/226 [==============================] - 1s 4ms/sample - loss: 0.0474 - acc: 0.9867 - val_loss: 2.2709 - val_acc: 0.1538\n",
      "Epoch 8/20\n",
      "226/226 [==============================] - 1s 4ms/sample - loss: 0.0398 - acc: 0.9912 - val_loss: 2.2915 - val_acc: 0.1538\n",
      "Epoch 9/20\n",
      "226/226 [==============================] - 1s 4ms/sample - loss: 0.0164 - acc: 1.0000 - val_loss: 2.3708 - val_acc: 0.1923\n",
      "Epoch 10/20\n",
      "226/226 [==============================] - 1s 4ms/sample - loss: 0.0193 - acc: 0.9956 - val_loss: 2.3450 - val_acc: 0.1923\n",
      "Epoch 11/20\n",
      "226/226 [==============================] - 1s 4ms/sample - loss: 0.0137 - acc: 1.0000 - val_loss: 2.3237 - val_acc: 0.1923\n",
      "Epoch 12/20\n",
      "226/226 [==============================] - 1s 4ms/sample - loss: 0.0068 - acc: 1.0000 - val_loss: 2.3214 - val_acc: 0.1923\n",
      "Epoch 13/20\n",
      "226/226 [==============================] - 1s 4ms/sample - loss: 0.0107 - acc: 1.0000 - val_loss: 2.3149 - val_acc: 0.2308\n",
      "Epoch 14/20\n",
      "226/226 [==============================] - 1s 4ms/sample - loss: 0.0085 - acc: 1.0000 - val_loss: 2.3788 - val_acc: 0.2308\n",
      "Epoch 15/20\n",
      "226/226 [==============================] - 1s 4ms/sample - loss: 0.0081 - acc: 1.0000 - val_loss: 2.3579 - val_acc: 0.2308\n",
      "Epoch 16/20\n",
      "226/226 [==============================] - 1s 4ms/sample - loss: 0.0084 - acc: 0.9956 - val_loss: 2.3473 - val_acc: 0.2308\n",
      "Epoch 17/20\n",
      "226/226 [==============================] - 1s 4ms/sample - loss: 0.0128 - acc: 0.9956 - val_loss: 2.2844 - val_acc: 0.2308\n",
      "Epoch 18/20\n",
      "226/226 [==============================] - 1s 4ms/sample - loss: 0.0086 - acc: 0.9956 - val_loss: 2.2489 - val_acc: 0.2692\n",
      "Epoch 19/20\n",
      "226/226 [==============================] - 1s 4ms/sample - loss: 0.0115 - acc: 0.9912 - val_loss: 2.2528 - val_acc: 0.2692\n",
      "Epoch 20/20\n",
      "226/226 [==============================] - 1s 4ms/sample - loss: 0.0072 - acc: 1.0000 - val_loss: 2.2858 - val_acc: 0.2692\n"
     ]
    }
   ],
   "source": [
    "history = model.fit(\n",
    "    X_train, y_train,\n",
    "    epochs=20,\n",
    "    batch_size=64, #64 #128 #32\n",
    "    validation_split=0.1,\n",
    "    shuffle=True\n",
    ")"
   ]
  },
  {
   "cell_type": "markdown",
   "id": "cc916602-8b91-4942-a4e2-6e55a7912bbd",
   "metadata": {},
   "source": [
    "#### Evaluation"
   ]
  },
  {
   "cell_type": "code",
   "execution_count": 28,
   "id": "8b46756b-8233-4ff2-bf2c-d197dd3b214f",
   "metadata": {},
   "outputs": [
    {
     "data": {
      "image/png": "[encoded data removed]",
      "text/plain": [
       "<Figure size 432x288 with 1 Axes>"
      ]
     },
     "metadata": {
      "needs_background": "light"
     },
     "output_type": "display_data"
    }
   ],
   "source": [
    "plt.plot(history.history['loss'], label='train')\n",
    "plt.plot(history.history['val_loss'], label='test')\n",
    "plt.legend();"
   ]
  },
  {
   "cell_type": "code",
   "execution_count": 29,
   "id": "12e3ff24-d0d3-446a-9551-2c40d6c6a5fc",
   "metadata": {},
   "outputs": [
    {
     "data": {
      "image/png": "[encoded data removed]",
      "text/plain": [
       "<Figure size 432x288 with 1 Axes>"
      ]
     },
     "metadata": {
      "needs_background": "light"
     },
     "output_type": "display_data"
    }
   ],
   "source": [
    "plt.plot(history.history['acc'], label='train')\n",
    "plt.plot(history.history['val_acc'], label='test')\n",
    "plt.legend();"
   ]
  },
  {
   "cell_type": "code",
   "execution_count": 30,
   "id": "7c96a67c-164c-4736-a493-33c9c59570a4",
   "metadata": {},
   "outputs": [
    {
     "name": "stdout",
     "output_type": "stream",
     "text": [
      "252/252 [==============================] - 0s 772us/sample - loss: 0.2377 - acc: 0.9246\n"
     ]
    },
    {
     "data": {
      "text/plain": [
       "[0.2377275353083239, 0.92460316]"
      ]
     },
     "execution_count": 30,
     "metadata": {},
     "output_type": "execute_result"
    }
   ],
   "source": [
    "model.evaluate(X_test, y_test)"
   ]
  },
  {
   "cell_type": "code",
   "execution_count": 31,
   "id": "2fa0d1a8-7d02-4372-ba58-a0387cff1794",
   "metadata": {},
   "outputs": [
    {
     "name": "stdout",
     "output_type": "stream",
     "text": [
      "252/252 [==============================] - 0s 879us/sample - loss: 0.2377 - acc: 0.9246\n"
     ]
    },
    {
     "data": {
      "text/plain": [
       "[0.2377275353083239, 0.92460316]"
      ]
     },
     "execution_count": 31,
     "metadata": {},
     "output_type": "execute_result"
    }
   ],
   "source": [
    "model.evaluate(X_train, y_train)"
   ]
  },
  {
   "cell_type": "markdown",
   "id": "ebc228f8-9cc2-4bf6-a310-742f60d1c7c8",
   "metadata": {},
   "source": [
    "#### Confusion Matrix"
   ]
  },
  {
   "cell_type": "code",
   "execution_count": 35,
   "id": "c9ccfdeb-2b95-4e8a-a3f6-09488ee036b3",
   "metadata": {},
   "outputs": [],
   "source": [
    "y_pred = model.predict(X_test)"
   ]
  },
  {
   "cell_type": "code",
   "execution_count": 36,
   "id": "1f77f538-91f1-4820-ae12-f2b4e2c61592",
   "metadata": {},
   "outputs": [],
   "source": [
    "column_names = 'Idle', 'Waack', 'Wrist_on_Elbow'\n",
    "\n",
    "def plot_cm(y_true, y_pred, class_names):\n",
    "  cm = confusion_matrix(y_true, y_pred)\n",
    "  fig, ax = plt.subplots(figsize=(18, 16)) \n",
    "  ax = sns.heatmap(\n",
    "      cm, \n",
    "      annot=True, \n",
    "      fmt=\"d\", \n",
    "      cmap=sns.diverging_palette(220, 20, n=7),\n",
    "      ax=ax\n",
    "  )\n",
    "\n",
    "  plt.ylabel('Actual')\n",
    "  plt.xlabel('Predicted')\n",
    "  ax.set_xticklabels(column_names)\n",
    "  ax.set_yticklabels(column_names)\n",
    "  b, t = plt.ylim() # discover the values for bottom and top\n",
    "  #b += 0.5 # Add 0.5 to the bottom\n",
    "  #t -= 0.5 # Subtract 0.5 from the top\n",
    "  plt.ylim(b, t) # update the ylim(bottom, top) values\n",
    "  plt.show() # ta-da!"
   ]
  },
  {
   "cell_type": "code",
   "execution_count": 37,
   "id": "090d6d30-5a0d-41a5-8a9a-36d96545ef81",
   "metadata": {},
   "outputs": [
    {
     "data": {
      "image/png": "[encoded data removed]",
      "text/plain": [
       "<Figure size 1296x1152 with 2 Axes>"
      ]
     },
     "metadata": {
      "needs_background": "light"
     },
     "output_type": "display_data"
    }
   ],
   "source": [
    "plot_cm(\n",
    "  enc.inverse_transform(y_test),\n",
    "  enc.inverse_transform(y_pred),\n",
    "  enc.categories_[0]\n",
    ")"
   ]
  },
  {
   "cell_type": "code",
   "execution_count": null,
   "id": "1b505018-8796-4514-b320-31b5b065fc6f",
   "metadata": {},
   "outputs": [],
   "source": []
  },
  {
   "cell_type": "code",
   "execution_count": null,
   "id": "267406f8-769d-4480-b622-b4410036335b",
   "metadata": {},
   "outputs": [],
   "source": []
  },
  {
   "cell_type": "code",
   "execution_count": null,
   "id": "fad2a60e-978f-428e-87d4-274ec5e80a1c",
   "metadata": {},
   "outputs": [],
   "source": []
  }
 ],
 "metadata": {
  "kernelspec": {
   "display_name": "Python 3",
   "language": "python",
   "name": "python3"
  },
  "language_info": {
   "codemirror_mode": {
    "name": "ipython",
    "version": 3
   },
   "file_extension": ".py",
   "mimetype": "text/x-python",
   "name": "python",
   "nbconvert_exporter": "python",
   "pygments_lexer": "ipython3",
   "version": "3.6.13"
  }
 },
 "nbformat": 4,
 "nbformat_minor": 5
}
