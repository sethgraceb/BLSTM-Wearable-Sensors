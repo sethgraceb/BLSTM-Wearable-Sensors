{
 "cells": [
  {
   "cell_type": "markdown",
   "id": "31e714c5",
   "metadata": {},
   "source": [
    "# Bidirectional LSTM (Right Wrist)"
   ]
  },
  {
   "cell_type": "markdown",
   "id": "8cbb9cbb",
   "metadata": {},
   "source": [
    "##### https://www.kaggle.com/malekzadeh/human-activity-recognition-with-mobile-sensing"
   ]
  },
  {
   "cell_type": "markdown",
   "id": "2f2100e0",
   "metadata": {},
   "source": [
    "##### https://github.com/akhuperkar/HAR-Smartphone-Accelerometer/blob/master/HAR%20Using%20Machine%20Learning%20.ipynb"
   ]
  },
  {
   "cell_type": "markdown",
   "id": "fd2d3f8e",
   "metadata": {},
   "source": [
    "#### Import Libraries"
   ]
  },
  {
   "cell_type": "code",
   "execution_count": 46,
   "id": "a9525e85",
   "metadata": {},
   "outputs": [],
   "source": [
    "import os\n",
    "import numpy as np\n",
    "import pandas as pd\n",
    "import scipy.io as sio\n",
    "import scipy.stats\n",
    "import math\n",
    "\n",
    "import matplotlib.pyplot as plt\n",
    "%matplotlib inline\n",
    "\n",
    "from scipy import stats\n",
    "import seaborn as sns\n",
    "from tensorflow import keras\n",
    "\n",
    "from sklearn.preprocessing import OneHotEncoder\n",
    "from sklearn.preprocessing import StandardScaler\n",
    "from sklearn.metrics import accuracy_score, confusion_matrix, classification_report\n",
    "from sklearn.model_selection import cross_val_score, GridSearchCV, RandomizedSearchCV, train_test_split\n",
    "\n",
    "from collections import defaultdict, Counter\n",
    "\n",
    "import warnings\n",
    "warnings.filterwarnings(\"ignore\")"
   ]
  },
  {
   "cell_type": "code",
   "execution_count": 47,
   "id": "945fdeb0",
   "metadata": {},
   "outputs": [],
   "source": [
    "df = pd.read_csv('euler_data_right_wrist.csv')\n",
    "df = df.drop([0])"
   ]
  },
  {
   "cell_type": "code",
   "execution_count": 48,
   "id": "f9082fa7",
   "metadata": {},
   "outputs": [
    {
     "name": "stdout",
     "output_type": "stream",
     "text": [
      "     PacketCounter  SampleTimeFine    Euler_X    Euler_Y     Euler_Z  \\\n",
      "1                1      1255232210 -20.794828  71.605827 -150.512237   \n",
      "2                2      1255248877 -20.555086  71.585938 -150.417175   \n",
      "3                3      1255265544 -20.665386  71.593971 -150.555023   \n",
      "4                4      1255282211 -20.999645  71.611618 -150.844482   \n",
      "5                5      1255298878 -21.633123  71.622208 -151.341782   \n",
      "..             ...             ...        ...        ...         ...   \n",
      "398            398      1261849009 -61.390083  69.506126  162.856979   \n",
      "399            399      1261865676 -61.487030  69.503754  162.686813   \n",
      "400            400      1261882343 -61.533802  69.505417  162.584656   \n",
      "401            401      1261899010 -61.532497  69.501297  162.541519   \n",
      "402            402      1261915677 -61.468365  69.500519  162.558487   \n",
      "\n",
      "    Unnamed: 11  \n",
      "1                \n",
      "2                \n",
      "3                \n",
      "4                \n",
      "5                \n",
      "..          ...  \n",
      "398              \n",
      "399              \n",
      "400              \n",
      "401              \n",
      "402              \n",
      "\n",
      "[402 rows x 6 columns]\n"
     ]
    }
   ],
   "source": [
    "print(df)"
   ]
  },
  {
   "cell_type": "code",
   "execution_count": 49,
   "id": "fb5e0def",
   "metadata": {},
   "outputs": [
    {
     "name": "stdout",
     "output_type": "stream",
     "text": [
      "     PacketCounter  SampleTimeFine  Label  Unnamed: 3  Unnamed: 4 Unnamed: 5\n",
      "1                1      1255232210      1         NaN         NaN           \n",
      "2                2      1255248877      1         NaN         NaN           \n",
      "3                3      1255265544      1         NaN         NaN           \n",
      "4                4      1255282211      1         NaN         NaN           \n",
      "5                5      1255298878      1         NaN         NaN           \n",
      "..             ...             ...    ...         ...         ...        ...\n",
      "398            398      1261849009      3         NaN         NaN           \n",
      "399            399      1261865676      3         NaN         NaN           \n",
      "400            400      1261882343      3         NaN         NaN           \n",
      "401            401      1261899010      3         NaN         NaN           \n",
      "402            402      1261915677      3         NaN         NaN           \n",
      "\n",
      "[402 rows x 6 columns]\n"
     ]
    }
   ],
   "source": [
    "df2 = pd.read_csv('euler_data_right_wrist_label.csv')\n",
    "df2 = df2.drop([0])\n",
    "print(df2)"
   ]
  },
  {
   "cell_type": "code",
   "execution_count": 50,
   "id": "a232c2e9",
   "metadata": {},
   "outputs": [
    {
     "name": "stdout",
     "output_type": "stream",
     "text": [
      "Shape of original data: (402, 6)\n",
      "Shape of labels data: (402, 6)\n"
     ]
    }
   ],
   "source": [
    "df_train = df\n",
    "label_train = df2\n",
    "print(\"Shape of original data:\", df_train.shape)\n",
    "print(\"Shape of labels data:\", label_train.shape)"
   ]
  },
  {
   "cell_type": "code",
   "execution_count": 51,
   "id": "9bd9f488",
   "metadata": {},
   "outputs": [
    {
     "name": "stdout",
     "output_type": "stream",
     "text": [
      "   PacketCounter  SampleTimeFine    Euler_X    Euler_Y     Euler_Z Unnamed: 11\n",
      "1              1      1255232210 -20.794828  71.605827 -150.512237            \n",
      "2              2      1255248877 -20.555086  71.585938 -150.417175            \n",
      "3              3      1255265544 -20.665386  71.593971 -150.555023            \n",
      "4              4      1255282211 -20.999645  71.611618 -150.844482            \n",
      "5              5      1255298878 -21.633123  71.622208 -151.341782            \n"
     ]
    }
   ],
   "source": [
    "print(df_train.head())"
   ]
  },
  {
   "cell_type": "code",
   "execution_count": 52,
   "id": "84d91c51",
   "metadata": {},
   "outputs": [
    {
     "data": {
      "text/html": [
       "<div>\n",
       "<style scoped>\n",
       "    .dataframe tbody tr th:only-of-type {\n",
       "        vertical-align: middle;\n",
       "    }\n",
       "\n",
       "    .dataframe tbody tr th {\n",
       "        vertical-align: top;\n",
       "    }\n",
       "\n",
       "    .dataframe thead th {\n",
       "        text-align: right;\n",
       "    }\n",
       "</style>\n",
       "<table border=\"1\" class=\"dataframe\">\n",
       "  <thead>\n",
       "    <tr style=\"text-align: right;\">\n",
       "      <th></th>\n",
       "      <th>PacketCounter</th>\n",
       "      <th>SampleTimeFine</th>\n",
       "      <th>Euler_X</th>\n",
       "      <th>Euler_Y</th>\n",
       "      <th>Euler_Z</th>\n",
       "      <th>Unnamed: 11</th>\n",
       "      <th>m</th>\n",
       "    </tr>\n",
       "  </thead>\n",
       "  <tbody>\n",
       "    <tr>\n",
       "      <th>1</th>\n",
       "      <td>1</td>\n",
       "      <td>1255232210</td>\n",
       "      <td>-20.794828</td>\n",
       "      <td>71.605827</td>\n",
       "      <td>-150.512237</td>\n",
       "      <td></td>\n",
       "      <td>167.969500</td>\n",
       "    </tr>\n",
       "    <tr>\n",
       "      <th>2</th>\n",
       "      <td>2</td>\n",
       "      <td>1255248877</td>\n",
       "      <td>-20.555086</td>\n",
       "      <td>71.585938</td>\n",
       "      <td>-150.417175</td>\n",
       "      <td></td>\n",
       "      <td>167.846313</td>\n",
       "    </tr>\n",
       "    <tr>\n",
       "      <th>3</th>\n",
       "      <td>3</td>\n",
       "      <td>1255265544</td>\n",
       "      <td>-20.665386</td>\n",
       "      <td>71.593971</td>\n",
       "      <td>-150.555023</td>\n",
       "      <td></td>\n",
       "      <td>167.986815</td>\n",
       "    </tr>\n",
       "    <tr>\n",
       "      <th>4</th>\n",
       "      <td>4</td>\n",
       "      <td>1255282211</td>\n",
       "      <td>-20.999645</td>\n",
       "      <td>71.611618</td>\n",
       "      <td>-150.844482</td>\n",
       "      <td></td>\n",
       "      <td>168.295178</td>\n",
       "    </tr>\n",
       "    <tr>\n",
       "      <th>5</th>\n",
       "      <td>5</td>\n",
       "      <td>1255298878</td>\n",
       "      <td>-21.633123</td>\n",
       "      <td>71.622208</td>\n",
       "      <td>-151.341782</td>\n",
       "      <td></td>\n",
       "      <td>168.825553</td>\n",
       "    </tr>\n",
       "  </tbody>\n",
       "</table>\n",
       "</div>"
      ],
      "text/plain": [
       "   PacketCounter  SampleTimeFine    Euler_X    Euler_Y     Euler_Z  \\\n",
       "1              1      1255232210 -20.794828  71.605827 -150.512237   \n",
       "2              2      1255248877 -20.555086  71.585938 -150.417175   \n",
       "3              3      1255265544 -20.665386  71.593971 -150.555023   \n",
       "4              4      1255282211 -20.999645  71.611618 -150.844482   \n",
       "5              5      1255298878 -21.633123  71.622208 -151.341782   \n",
       "\n",
       "  Unnamed: 11           m  \n",
       "1              167.969500  \n",
       "2              167.846313  \n",
       "3              167.986815  \n",
       "4              168.295178  \n",
       "5              168.825553  "
      ]
     },
     "execution_count": 52,
     "metadata": {},
     "output_type": "execute_result"
    }
   ],
   "source": [
    "def magnitude(activity):\n",
    "    x2 = activity['Euler_X'] * activity['Euler_X']\n",
    "    y2 = activity['Euler_Y'] * activity['Euler_Y']\n",
    "    z2 = activity['Euler_Z'] * activity['Euler_Z']\n",
    "    m2 = x2 + y2 + z2\n",
    "    m = m2.apply(lambda x: math.sqrt(x))\n",
    "    return m\n",
    "\n",
    "df_train['m'] = magnitude(df_train)\n",
    "df_train.head()"
   ]
  },
  {
   "cell_type": "code",
   "execution_count": 53,
   "id": "198828b5",
   "metadata": {},
   "outputs": [
    {
     "name": "stdout",
     "output_type": "stream",
     "text": [
      "   PacketCounter  SampleTimeFine  Label  Unnamed: 3  Unnamed: 4 Unnamed: 5\n",
      "1              1      1255232210      1         NaN         NaN           \n",
      "2              2      1255248877      1         NaN         NaN           \n",
      "3              3      1255265544      1         NaN         NaN           \n",
      "4              4      1255282211      1         NaN         NaN           \n",
      "5              5      1255298878      1         NaN         NaN           \n"
     ]
    }
   ],
   "source": [
    "print(label_train.head())"
   ]
  },
  {
   "cell_type": "code",
   "execution_count": 54,
   "id": "287f3097",
   "metadata": {},
   "outputs": [
    {
     "data": {
      "text/html": [
       "<div>\n",
       "<style scoped>\n",
       "    .dataframe tbody tr th:only-of-type {\n",
       "        vertical-align: middle;\n",
       "    }\n",
       "\n",
       "    .dataframe tbody tr th {\n",
       "        vertical-align: top;\n",
       "    }\n",
       "\n",
       "    .dataframe thead th {\n",
       "        text-align: right;\n",
       "    }\n",
       "</style>\n",
       "<table border=\"1\" class=\"dataframe\">\n",
       "  <thead>\n",
       "    <tr style=\"text-align: right;\">\n",
       "      <th></th>\n",
       "      <th>index</th>\n",
       "      <th>label</th>\n",
       "    </tr>\n",
       "  </thead>\n",
       "  <tbody>\n",
       "    <tr>\n",
       "      <th>0</th>\n",
       "      <td>1</td>\n",
       "      <td>121</td>\n",
       "    </tr>\n",
       "    <tr>\n",
       "      <th>1</th>\n",
       "      <td>2</td>\n",
       "      <td>127</td>\n",
       "    </tr>\n",
       "    <tr>\n",
       "      <th>2</th>\n",
       "      <td>3</td>\n",
       "      <td>154</td>\n",
       "    </tr>\n",
       "  </tbody>\n",
       "</table>\n",
       "</div>"
      ],
      "text/plain": [
       "   index  label\n",
       "0      1    121\n",
       "1      2    127\n",
       "2      3    154"
      ]
     },
     "execution_count": 54,
     "metadata": {},
     "output_type": "execute_result"
    }
   ],
   "source": [
    "pd.DataFrame.from_dict(Counter(label_train['Label']), orient=\"Index\", columns=['label']).reset_index()"
   ]
  },
  {
   "cell_type": "markdown",
   "id": "5544b2f3",
   "metadata": {},
   "source": [
    "#### Plot Acceleration Data"
   ]
  },
  {
   "cell_type": "code",
   "execution_count": 55,
   "id": "567c698b",
   "metadata": {},
   "outputs": [
    {
     "data": {
      "image/png": "[encoded data removed]",
      "text/plain": [
       "<Figure size 720x216 with 1 Axes>"
      ]
     },
     "metadata": {
      "needs_background": "light"
     },
     "output_type": "display_data"
    }
   ],
   "source": [
    "plt.figure(figsize=(10,3))\n",
    "plt.plot(df_train['PacketCounter'], df_train['Euler_X'], linewidth=0.5, color='r', label='x axis')\n",
    "plt.plot(df_train['PacketCounter'], df_train['Euler_Y'], linewidth=0.5, color='b', label='y axis')\n",
    "plt.plot(df_train['PacketCounter'], df_train['Euler_Z'], linewidth=0.5, color='g', label='z axis')\n",
    "plt.xlabel('PacketCounter')\n",
    "plt.ylabel('Euler')\n",
    "plt.legend(loc='center left', bbox_to_anchor=(1, 0.5));"
   ]
  },
  {
   "cell_type": "code",
   "execution_count": 56,
   "id": "d0f2f567",
   "metadata": {},
   "outputs": [
    {
     "data": {
      "image/png": "[encoded data removed]",
      "text/plain": [
       "<Figure size 720x576 with 4 Axes>"
      ]
     },
     "metadata": {
      "needs_background": "light"
     },
     "output_type": "display_data"
    }
   ],
   "source": [
    "fig, ax = plt.subplots(nrows=4, ncols=1, figsize=(10,8))\n",
    "\n",
    "ax[0].set_title('X-axis:')\n",
    "ax[0].plot(df_train['PacketCounter'], df_train['Euler_X'], linewidth=0.5, color='r')\n",
    "\n",
    "ax[1].set_title('Y-axis: ')\n",
    "ax[1].plot(df_train['PacketCounter'], df_train['Euler_Y'], linewidth=0.5, color='b')\n",
    "\n",
    "ax[2].set_title('Z-axis: ')\n",
    "ax[2].plot(df_train['PacketCounter'], df_train['Euler_Z'], linewidth=0.5, color='g')\n",
    "\n",
    "ax[3].set_title('Magnitude, m: Combined X-Y-Z')\n",
    "ax[3].plot(df_train['PacketCounter'], df_train['m'], linewidth=0.5, color='k')\n",
    "\n",
    "fig.subplots_adjust(hspace=.5)"
   ]
  },
  {
   "cell_type": "code",
   "execution_count": 57,
   "id": "2aca2631",
   "metadata": {},
   "outputs": [],
   "source": [
    "# Separating data for each activity\n",
    "train_df = pd.concat([df_train, label_train['Label']], axis=1).dropna()\n",
    "columns = ['PacketCounter', 'Euler_X', 'Euler_Y', 'Euler_Z', 'm', 'Label']\n",
    "\n",
    "wrist_on_elbow = train_df[columns][train_df.Label == 1]\n",
    "waack = train_df[columns][train_df.Label == 2]\n",
    "idle = train_df[columns][train_df.Label == 3]"
   ]
  },
  {
   "cell_type": "code",
   "execution_count": 58,
   "id": "5435408e",
   "metadata": {},
   "outputs": [
    {
     "data": {
      "text/html": [
       "<div>\n",
       "<style scoped>\n",
       "    .dataframe tbody tr th:only-of-type {\n",
       "        vertical-align: middle;\n",
       "    }\n",
       "\n",
       "    .dataframe tbody tr th {\n",
       "        vertical-align: top;\n",
       "    }\n",
       "\n",
       "    .dataframe thead th {\n",
       "        text-align: right;\n",
       "    }\n",
       "</style>\n",
       "<table border=\"1\" class=\"dataframe\">\n",
       "  <thead>\n",
       "    <tr style=\"text-align: right;\">\n",
       "      <th></th>\n",
       "      <th>PacketCounter</th>\n",
       "      <th>Euler_X</th>\n",
       "      <th>Euler_Y</th>\n",
       "      <th>Euler_Z</th>\n",
       "      <th>m</th>\n",
       "      <th>Label</th>\n",
       "    </tr>\n",
       "  </thead>\n",
       "  <tbody>\n",
       "    <tr>\n",
       "      <th>1</th>\n",
       "      <td>1</td>\n",
       "      <td>-20.794828</td>\n",
       "      <td>71.605827</td>\n",
       "      <td>-150.512237</td>\n",
       "      <td>167.969500</td>\n",
       "      <td>1</td>\n",
       "    </tr>\n",
       "    <tr>\n",
       "      <th>2</th>\n",
       "      <td>2</td>\n",
       "      <td>-20.555086</td>\n",
       "      <td>71.585938</td>\n",
       "      <td>-150.417175</td>\n",
       "      <td>167.846313</td>\n",
       "      <td>1</td>\n",
       "    </tr>\n",
       "    <tr>\n",
       "      <th>3</th>\n",
       "      <td>3</td>\n",
       "      <td>-20.665386</td>\n",
       "      <td>71.593971</td>\n",
       "      <td>-150.555023</td>\n",
       "      <td>167.986815</td>\n",
       "      <td>1</td>\n",
       "    </tr>\n",
       "    <tr>\n",
       "      <th>4</th>\n",
       "      <td>4</td>\n",
       "      <td>-20.999645</td>\n",
       "      <td>71.611618</td>\n",
       "      <td>-150.844482</td>\n",
       "      <td>168.295178</td>\n",
       "      <td>1</td>\n",
       "    </tr>\n",
       "    <tr>\n",
       "      <th>5</th>\n",
       "      <td>5</td>\n",
       "      <td>-21.633123</td>\n",
       "      <td>71.622208</td>\n",
       "      <td>-151.341782</td>\n",
       "      <td>168.825553</td>\n",
       "      <td>1</td>\n",
       "    </tr>\n",
       "  </tbody>\n",
       "</table>\n",
       "</div>"
      ],
      "text/plain": [
       "   PacketCounter    Euler_X    Euler_Y     Euler_Z           m  Label\n",
       "1              1 -20.794828  71.605827 -150.512237  167.969500      1\n",
       "2              2 -20.555086  71.585938 -150.417175  167.846313      1\n",
       "3              3 -20.665386  71.593971 -150.555023  167.986815      1\n",
       "4              4 -20.999645  71.611618 -150.844482  168.295178      1\n",
       "5              5 -21.633123  71.622208 -151.341782  168.825553      1"
      ]
     },
     "execution_count": 58,
     "metadata": {},
     "output_type": "execute_result"
    }
   ],
   "source": [
    "wrist_on_elbow.head()"
   ]
  },
  {
   "cell_type": "code",
   "execution_count": 59,
   "id": "3aa65f39",
   "metadata": {},
   "outputs": [
    {
     "data": {
      "text/html": [
       "<div>\n",
       "<style scoped>\n",
       "    .dataframe tbody tr th:only-of-type {\n",
       "        vertical-align: middle;\n",
       "    }\n",
       "\n",
       "    .dataframe tbody tr th {\n",
       "        vertical-align: top;\n",
       "    }\n",
       "\n",
       "    .dataframe thead th {\n",
       "        text-align: right;\n",
       "    }\n",
       "</style>\n",
       "<table border=\"1\" class=\"dataframe\">\n",
       "  <thead>\n",
       "    <tr style=\"text-align: right;\">\n",
       "      <th></th>\n",
       "      <th>PacketCounter</th>\n",
       "      <th>Euler_X</th>\n",
       "      <th>Euler_Y</th>\n",
       "      <th>Euler_Z</th>\n",
       "      <th>m</th>\n",
       "      <th>Label</th>\n",
       "    </tr>\n",
       "  </thead>\n",
       "  <tbody>\n",
       "    <tr>\n",
       "      <th>122</th>\n",
       "      <td>122</td>\n",
       "      <td>44.268368</td>\n",
       "      <td>16.094757</td>\n",
       "      <td>-52.737774</td>\n",
       "      <td>70.710695</td>\n",
       "      <td>2</td>\n",
       "    </tr>\n",
       "    <tr>\n",
       "      <th>123</th>\n",
       "      <td>123</td>\n",
       "      <td>45.345085</td>\n",
       "      <td>11.677794</td>\n",
       "      <td>-50.115997</td>\n",
       "      <td>68.586885</td>\n",
       "      <td>2</td>\n",
       "    </tr>\n",
       "    <tr>\n",
       "      <th>124</th>\n",
       "      <td>124</td>\n",
       "      <td>45.916134</td>\n",
       "      <td>7.549989</td>\n",
       "      <td>-47.717361</td>\n",
       "      <td>66.650133</td>\n",
       "      <td>2</td>\n",
       "    </tr>\n",
       "    <tr>\n",
       "      <th>125</th>\n",
       "      <td>125</td>\n",
       "      <td>46.061089</td>\n",
       "      <td>3.745718</td>\n",
       "      <td>-45.517563</td>\n",
       "      <td>64.865267</td>\n",
       "      <td>2</td>\n",
       "    </tr>\n",
       "    <tr>\n",
       "      <th>126</th>\n",
       "      <td>126</td>\n",
       "      <td>45.840145</td>\n",
       "      <td>0.310195</td>\n",
       "      <td>-43.419395</td>\n",
       "      <td>63.139995</td>\n",
       "      <td>2</td>\n",
       "    </tr>\n",
       "  </tbody>\n",
       "</table>\n",
       "</div>"
      ],
      "text/plain": [
       "     PacketCounter    Euler_X    Euler_Y    Euler_Z          m  Label\n",
       "122            122  44.268368  16.094757 -52.737774  70.710695      2\n",
       "123            123  45.345085  11.677794 -50.115997  68.586885      2\n",
       "124            124  45.916134   7.549989 -47.717361  66.650133      2\n",
       "125            125  46.061089   3.745718 -45.517563  64.865267      2\n",
       "126            126  45.840145   0.310195 -43.419395  63.139995      2"
      ]
     },
     "execution_count": 59,
     "metadata": {},
     "output_type": "execute_result"
    }
   ],
   "source": [
    "waack.head()"
   ]
  },
  {
   "cell_type": "code",
   "execution_count": 60,
   "id": "8212a2a6",
   "metadata": {},
   "outputs": [
    {
     "data": {
      "text/html": [
       "<div>\n",
       "<style scoped>\n",
       "    .dataframe tbody tr th:only-of-type {\n",
       "        vertical-align: middle;\n",
       "    }\n",
       "\n",
       "    .dataframe tbody tr th {\n",
       "        vertical-align: top;\n",
       "    }\n",
       "\n",
       "    .dataframe thead th {\n",
       "        text-align: right;\n",
       "    }\n",
       "</style>\n",
       "<table border=\"1\" class=\"dataframe\">\n",
       "  <thead>\n",
       "    <tr style=\"text-align: right;\">\n",
       "      <th></th>\n",
       "      <th>PacketCounter</th>\n",
       "      <th>Euler_X</th>\n",
       "      <th>Euler_Y</th>\n",
       "      <th>Euler_Z</th>\n",
       "      <th>m</th>\n",
       "      <th>Label</th>\n",
       "    </tr>\n",
       "  </thead>\n",
       "  <tbody>\n",
       "    <tr>\n",
       "      <th>249</th>\n",
       "      <td>249</td>\n",
       "      <td>-28.052719</td>\n",
       "      <td>69.739937</td>\n",
       "      <td>-135.238998</td>\n",
       "      <td>154.726212</td>\n",
       "      <td>3</td>\n",
       "    </tr>\n",
       "    <tr>\n",
       "      <th>250</th>\n",
       "      <td>250</td>\n",
       "      <td>-32.399967</td>\n",
       "      <td>70.376556</td>\n",
       "      <td>-139.864716</td>\n",
       "      <td>159.889825</td>\n",
       "      <td>3</td>\n",
       "    </tr>\n",
       "    <tr>\n",
       "      <th>251</th>\n",
       "      <td>251</td>\n",
       "      <td>-35.878979</td>\n",
       "      <td>70.947166</td>\n",
       "      <td>-143.673065</td>\n",
       "      <td>164.203384</td>\n",
       "      <td>3</td>\n",
       "    </tr>\n",
       "    <tr>\n",
       "      <th>252</th>\n",
       "      <td>252</td>\n",
       "      <td>-38.551952</td>\n",
       "      <td>71.482811</td>\n",
       "      <td>-146.721283</td>\n",
       "      <td>167.699673</td>\n",
       "      <td>3</td>\n",
       "    </tr>\n",
       "    <tr>\n",
       "      <th>253</th>\n",
       "      <td>253</td>\n",
       "      <td>-40.662193</td>\n",
       "      <td>71.980972</td>\n",
       "      <td>-149.208160</td>\n",
       "      <td>170.580625</td>\n",
       "      <td>3</td>\n",
       "    </tr>\n",
       "  </tbody>\n",
       "</table>\n",
       "</div>"
      ],
      "text/plain": [
       "     PacketCounter    Euler_X    Euler_Y     Euler_Z           m  Label\n",
       "249            249 -28.052719  69.739937 -135.238998  154.726212      3\n",
       "250            250 -32.399967  70.376556 -139.864716  159.889825      3\n",
       "251            251 -35.878979  70.947166 -143.673065  164.203384      3\n",
       "252            252 -38.551952  71.482811 -146.721283  167.699673      3\n",
       "253            253 -40.662193  71.980972 -149.208160  170.580625      3"
      ]
     },
     "execution_count": 60,
     "metadata": {},
     "output_type": "execute_result"
    }
   ],
   "source": [
    "idle.head()"
   ]
  },
  {
   "cell_type": "markdown",
   "id": "1acbee4b",
   "metadata": {},
   "source": [
    "#### Plot Activity Data"
   ]
  },
  {
   "cell_type": "code",
   "execution_count": 61,
   "id": "138bcea1",
   "metadata": {},
   "outputs": [
    {
     "data": {
      "image/png": "[encoded data removed]",
      "text/plain": [
       "<Figure size 720x576 with 3 Axes>"
      ]
     },
     "metadata": {
      "needs_background": "light"
     },
     "output_type": "display_data"
    }
   ],
   "source": [
    "def plot_axis(ax, x, y, title):\n",
    "    ax.plot(x, y)\n",
    "    ax.set_title(title)\n",
    "    ax.xaxis.set_visible(False)\n",
    "    ax.set_ylim([min(y) - np.std(y), max(y) + np.std(y)])\n",
    "    ax.set_xlim([min(x), max(x)])\n",
    "    ax.grid(True)\n",
    "    \n",
    "def plot_activity(activities, titles):\n",
    "    fig, axs = plt.subplots(nrows=len(activities), figsize=(10, 8))\n",
    "    for i in range(0, len(activities)):\n",
    "        plot_axis(axs[i], activities[i]['PacketCounter'], activities[i]['m'], titles[i])\n",
    "    plt.subplots_adjust(hspace=0.2)\n",
    "    plt.show()\n",
    "\n",
    "plot_activity([wrist_on_elbow, waack, idle],\n",
    "              ['Wrist on Elbow', 'Waack', 'Idle'])"
   ]
  },
  {
   "cell_type": "markdown",
   "id": "bfcddba0",
   "metadata": {},
   "source": [
    "#### Split training data"
   ]
  },
  {
   "cell_type": "code",
   "execution_count": 62,
   "id": "aaf4274d",
   "metadata": {},
   "outputs": [],
   "source": [
    "X_train, X_test, y_train, y_test = train_test_split(train_df, label_train, test_size = 0.2, random_state = 0)"
   ]
  },
  {
   "cell_type": "code",
   "execution_count": 63,
   "id": "b26b6488",
   "metadata": {},
   "outputs": [
    {
     "name": "stdout",
     "output_type": "stream",
     "text": [
      "X_train shape: (321, 8)\n",
      "y_train shape: (321, 6)\n"
     ]
    }
   ],
   "source": [
    "print(\"X_train shape:\", X_train.shape)\n",
    "print(\"y_train shape:\", y_train.shape)"
   ]
  },
  {
   "cell_type": "code",
   "execution_count": 64,
   "id": "cd7327f1",
   "metadata": {},
   "outputs": [
    {
     "name": "stdout",
     "output_type": "stream",
     "text": [
      "X_test shape: (81, 8)\n",
      "y_test shape: (81, 6)\n"
     ]
    }
   ],
   "source": [
    "print(\"X_test shape:\", X_test.shape)\n",
    "print(\"y_test shape:\", y_test.shape)"
   ]
  },
  {
   "cell_type": "code",
   "execution_count": 65,
   "id": "18ef09d6",
   "metadata": {},
   "outputs": [],
   "source": [
    "def create_dataset(X, y, time_steps=1, step=1):\n",
    "    Xs, ys = [], []\n",
    "    for i in range(0, len(X) - time_steps, step):\n",
    "        v = X.iloc[i:(i + time_steps)].values\n",
    "        labels = label_train['Label'].iloc[i: i + time_steps]\n",
    "        Xs.append(v)        \n",
    "        ys.append(stats.mode(labels)[0][0])\n",
    "    return np.array(Xs), np.array(ys).reshape(-1, 1)\n",
    "\n",
    "TIME_STEPS = 300 #400 #200 #300\n",
    "STEP = 150  #100 #60 #80 #40 #150\n",
    "\n",
    "X_train, y_train = create_dataset(\n",
    "    df[['Euler_X', 'Euler_Y', 'Euler_Z']], \n",
    "    TIME_STEPS, \n",
    "    STEP\n",
    ")\n",
    "\n",
    "X_test, y_test = create_dataset(\n",
    "    df[['Euler_X', 'Euler_Y', 'Euler_Z']], \n",
    "    TIME_STEPS, \n",
    "    STEP\n",
    ")"
   ]
  },
  {
   "cell_type": "code",
   "execution_count": 66,
   "id": "3e827da9",
   "metadata": {},
   "outputs": [
    {
     "name": "stdout",
     "output_type": "stream",
     "text": [
      "(252, 150, 3) (252, 1)\n"
     ]
    }
   ],
   "source": [
    "print(X_train.shape, y_train.shape)"
   ]
  },
  {
   "cell_type": "code",
   "execution_count": 67,
   "id": "f0ae7336",
   "metadata": {},
   "outputs": [],
   "source": [
    "enc = OneHotEncoder(handle_unknown='ignore', sparse=False)\n",
    "\n",
    "enc = enc.fit(y_train)\n",
    "\n",
    "y_train = enc.transform(y_train)\n",
    "y_test = enc.transform(y_test)"
   ]
  },
  {
   "cell_type": "code",
   "execution_count": 68,
   "id": "5bc1293e",
   "metadata": {},
   "outputs": [
    {
     "name": "stdout",
     "output_type": "stream",
     "text": [
      "(252, 150, 3) (252, 3)\n"
     ]
    }
   ],
   "source": [
    "print(X_train.shape, y_train.shape)"
   ]
  },
  {
   "cell_type": "markdown",
   "id": "065a0889",
   "metadata": {},
   "source": [
    "#### Train the model"
   ]
  },
  {
   "cell_type": "code",
   "execution_count": 69,
   "id": "c713725f",
   "metadata": {},
   "outputs": [],
   "source": [
    "model = keras.Sequential()\n",
    "model.add(\n",
    "    keras.layers.Bidirectional(\n",
    "      keras.layers.LSTM(\n",
    "          units=128, \n",
    "          input_shape=[X_train.shape[0], X_train.shape[1]]\n",
    "      )\n",
    "    )\n",
    ")\n",
    "model.add(keras.layers.Dropout(rate=0.5))\n",
    "model.add(keras.layers.Dense(units=128, activation='relu'))\n",
    "model.add(keras.layers.Dense(y_train.shape[1], activation='softmax'))\n",
    "model.compile(loss='categorical_crossentropy', optimizer='adam', metrics=['acc'])"
   ]
  },
  {
   "cell_type": "code",
   "execution_count": 70,
   "id": "5e988619",
   "metadata": {},
   "outputs": [
    {
     "name": "stdout",
     "output_type": "stream",
     "text": [
      "Train on 226 samples, validate on 26 samples\n",
      "Epoch 1/20\n",
      "226/226 [==============================] - 4s 16ms/sample - loss: 0.9922 - acc: 0.4779 - val_loss: 1.6561 - val_acc: 0.0000e+00\n",
      "Epoch 2/20\n",
      "226/226 [==============================] - 1s 4ms/sample - loss: 0.5219 - acc: 0.7965 - val_loss: 1.9353 - val_acc: 0.0000e+00\n",
      "Epoch 3/20\n",
      "226/226 [==============================] - 1s 4ms/sample - loss: 0.3294 - acc: 0.9027 - val_loss: 2.0011 - val_acc: 0.0000e+00\n",
      "Epoch 4/20\n",
      "226/226 [==============================] - 1s 4ms/sample - loss: 0.2430 - acc: 0.9027 - val_loss: 1.8318 - val_acc: 0.0000e+00\n",
      "Epoch 5/20\n",
      "226/226 [==============================] - 1s 4ms/sample - loss: 0.1535 - acc: 0.9690 - val_loss: 1.7524 - val_acc: 0.1538\n",
      "Epoch 6/20\n",
      "226/226 [==============================] - 1s 4ms/sample - loss: 0.1042 - acc: 0.9735 - val_loss: 1.8230 - val_acc: 0.1538\n",
      "Epoch 7/20\n",
      "226/226 [==============================] - 1s 4ms/sample - loss: 0.0907 - acc: 0.9867 - val_loss: 1.9752 - val_acc: 0.1538\n",
      "Epoch 8/20\n",
      "226/226 [==============================] - 1s 4ms/sample - loss: 0.0525 - acc: 0.9912 - val_loss: 2.0558 - val_acc: 0.1923\n",
      "Epoch 9/20\n",
      "226/226 [==============================] - 1s 4ms/sample - loss: 0.0444 - acc: 0.9912 - val_loss: 2.1663 - val_acc: 0.1538\n",
      "Epoch 10/20\n",
      "226/226 [==============================] - 1s 4ms/sample - loss: 0.0376 - acc: 0.9867 - val_loss: 2.1526 - val_acc: 0.1923\n",
      "Epoch 11/20\n",
      "226/226 [==============================] - 1s 4ms/sample - loss: 0.0324 - acc: 0.9912 - val_loss: 2.2554 - val_acc: 0.1538\n",
      "Epoch 12/20\n",
      "226/226 [==============================] - 1s 4ms/sample - loss: 0.0321 - acc: 0.9867 - val_loss: 2.4264 - val_acc: 0.1538\n",
      "Epoch 13/20\n",
      "226/226 [==============================] - 1s 4ms/sample - loss: 0.0381 - acc: 0.9867 - val_loss: 2.3518 - val_acc: 0.1923\n",
      "Epoch 14/20\n",
      "226/226 [==============================] - 1s 4ms/sample - loss: 0.0293 - acc: 0.9912 - val_loss: 2.3530 - val_acc: 0.1923\n",
      "Epoch 15/20\n",
      "226/226 [==============================] - 1s 4ms/sample - loss: 0.0240 - acc: 0.9912 - val_loss: 2.5313 - val_acc: 0.1538\n",
      "Epoch 16/20\n",
      "226/226 [==============================] - 1s 4ms/sample - loss: 0.0215 - acc: 0.9912 - val_loss: 2.5913 - val_acc: 0.1538\n",
      "Epoch 17/20\n",
      "226/226 [==============================] - 1s 4ms/sample - loss: 0.0203 - acc: 0.9956 - val_loss: 2.6456 - val_acc: 0.1538\n",
      "Epoch 18/20\n",
      "226/226 [==============================] - 1s 4ms/sample - loss: 0.0219 - acc: 0.9912 - val_loss: 2.8803 - val_acc: 0.1154\n",
      "Epoch 19/20\n",
      "226/226 [==============================] - 1s 4ms/sample - loss: 0.0058 - acc: 1.0000 - val_loss: 3.0823 - val_acc: 0.1154\n",
      "Epoch 20/20\n",
      "226/226 [==============================] - 1s 4ms/sample - loss: 0.0178 - acc: 0.9956 - val_loss: 3.0749 - val_acc: 0.1154\n"
     ]
    }
   ],
   "source": [
    "history = model.fit(\n",
    "    X_train, y_train,\n",
    "    epochs=20,\n",
    "    batch_size=64, #64 #128 #32\n",
    "    validation_split=0.1,\n",
    "    shuffle=True\n",
    ")"
   ]
  },
  {
   "cell_type": "markdown",
   "id": "090727e7",
   "metadata": {},
   "source": [
    "#### Evaluation"
   ]
  },
  {
   "cell_type": "code",
   "execution_count": 71,
   "id": "bda22efc",
   "metadata": {},
   "outputs": [
    {
     "data": {
      "image/png": "[encoded data removed]",
      "text/plain": [
       "<Figure size 432x288 with 1 Axes>"
      ]
     },
     "metadata": {
      "needs_background": "light"
     },
     "output_type": "display_data"
    }
   ],
   "source": [
    "plt.plot(history.history['loss'], label='train')\n",
    "plt.plot(history.history['val_loss'], label='test')\n",
    "plt.legend();"
   ]
  },
  {
   "cell_type": "code",
   "execution_count": 72,
   "id": "e5742f4a",
   "metadata": {},
   "outputs": [
    {
     "data": {
      "image/png": "[encoded data removed]",
      "text/plain": [
       "<Figure size 432x288 with 1 Axes>"
      ]
     },
     "metadata": {
      "needs_background": "light"
     },
     "output_type": "display_data"
    }
   ],
   "source": [
    "plt.plot(history.history['acc'], label='train')\n",
    "plt.plot(history.history['val_acc'], label='test')\n",
    "plt.legend();"
   ]
  },
  {
   "cell_type": "code",
   "execution_count": 73,
   "id": "082be44e",
   "metadata": {},
   "outputs": [
    {
     "name": "stdout",
     "output_type": "stream",
     "text": [
      "252/252 [==============================] - 0s 803us/sample - loss: 0.3227 - acc: 0.9087\n"
     ]
    },
    {
     "data": {
      "text/plain": [
       "[0.322650243692647, 0.90873015]"
      ]
     },
     "execution_count": 73,
     "metadata": {},
     "output_type": "execute_result"
    }
   ],
   "source": [
    "model.evaluate(X_test, y_test)"
   ]
  },
  {
   "cell_type": "code",
   "execution_count": 74,
   "id": "e025b895",
   "metadata": {},
   "outputs": [
    {
     "name": "stdout",
     "output_type": "stream",
     "text": [
      "252/252 [==============================] - 0s 787us/sample - loss: 0.3227 - acc: 0.9087\n"
     ]
    },
    {
     "data": {
      "text/plain": [
       "[0.322650243692647, 0.90873015]"
      ]
     },
     "execution_count": 74,
     "metadata": {},
     "output_type": "execute_result"
    }
   ],
   "source": [
    "model.evaluate(X_train, y_train)"
   ]
  },
  {
   "cell_type": "markdown",
   "id": "f2515581",
   "metadata": {},
   "source": [
    "#### Confusion Matrix"
   ]
  },
  {
   "cell_type": "code",
   "execution_count": 35,
   "id": "822094db",
   "metadata": {},
   "outputs": [],
   "source": [
    "y_pred = model.predict(X_test)"
   ]
  },
  {
   "cell_type": "code",
   "execution_count": 36,
   "id": "5ee898ca",
   "metadata": {},
   "outputs": [],
   "source": [
    "column_names = 'Wrist_on_Elbow', 'Waack', 'Idle'\n",
    "\n",
    "def plot_cm(y_true, y_pred, class_names):\n",
    "  cm = confusion_matrix(y_true, y_pred)\n",
    "  fig, ax = plt.subplots(figsize=(18, 16)) \n",
    "  ax = sns.heatmap(\n",
    "      cm, \n",
    "      annot=True, \n",
    "      fmt=\"d\", \n",
    "      cmap=sns.diverging_palette(220, 20, n=7),\n",
    "      ax=ax\n",
    "  )\n",
    "\n",
    "  plt.ylabel('Actual')\n",
    "  plt.xlabel('Predicted')\n",
    "  ax.set_xticklabels(column_names)\n",
    "  ax.set_yticklabels(column_names)\n",
    "  b, t = plt.ylim() # discover the values for bottom and top\n",
    "  #b += 0.5 # Add 0.5 to the bottom\n",
    "  #t -= 0.5 # Subtract 0.5 from the top\n",
    "  plt.ylim(b, t) # update the ylim(bottom, top) values\n",
    "  plt.show() # ta-da!"
   ]
  },
  {
   "cell_type": "code",
   "execution_count": 37,
   "id": "6b3f9bd8",
   "metadata": {},
   "outputs": [
    {
     "data": {
      "image/png": "[encoded data removed]",
      "text/plain": [
       "<Figure size 1296x1152 with 2 Axes>"
      ]
     },
     "metadata": {
      "needs_background": "light"
     },
     "output_type": "display_data"
    }
   ],
   "source": [
    "plot_cm(\n",
    "  enc.inverse_transform(y_test),\n",
    "  enc.inverse_transform(y_pred),\n",
    "  enc.categories_[0]\n",
    ")"
   ]
  },
  {
   "cell_type": "code",
   "execution_count": null,
   "id": "80ba2f9d",
   "metadata": {},
   "outputs": [],
   "source": []
  },
  {
   "cell_type": "code",
   "execution_count": null,
   "id": "0221fde0",
   "metadata": {},
   "outputs": [],
   "source": []
  },
  {
   "cell_type": "code",
   "execution_count": null,
   "id": "71b2b20a",
   "metadata": {},
   "outputs": [],
   "source": []
  }
 ],
 "metadata": {
  "kernelspec": {
   "display_name": "Python 3",
   "language": "python",
   "name": "python3"
  },
  "language_info": {
   "codemirror_mode": {
    "name": "ipython",
    "version": 3
   },
   "file_extension": ".py",
   "mimetype": "text/x-python",
   "name": "python",
   "nbconvert_exporter": "python",
   "pygments_lexer": "ipython3",
   "version": "3.6.13"
  }
 },
 "nbformat": 4,
 "nbformat_minor": 5
}
