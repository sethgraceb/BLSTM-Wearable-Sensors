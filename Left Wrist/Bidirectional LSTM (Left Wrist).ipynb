{
 "cells": [
  {
   "cell_type": "markdown",
   "id": "00efe04b-fae0-4ad4-bb80-6206c1ba4157",
   "metadata": {},
   "source": [
    "# Bidirectional LSTM (Left Wrist)"
   ]
  },
  {
   "cell_type": "markdown",
   "id": "6ab8766d-8d28-4e27-9514-3112e34a1b89",
   "metadata": {},
   "source": [
    "##### https://www.kaggle.com/malekzadeh/human-activity-recognition-with-mobile-sensing"
   ]
  },
  {
   "cell_type": "markdown",
   "id": "17ccfc3f-200a-46ce-86f3-75e2c79069fe",
   "metadata": {},
   "source": [
    "##### https://github.com/akhuperkar/HAR-Smartphone-Accelerometer/blob/master/HAR%20Using%20Machine%20Learning%20.ipynb"
   ]
  },
  {
   "cell_type": "markdown",
   "id": "c25e1702-1934-4512-9505-e06703ae6f1c",
   "metadata": {},
   "source": [
    "#### Import Libraries"
   ]
  },
  {
   "cell_type": "code",
   "execution_count": 44,
   "id": "b2500ac0-0050-4d0e-9705-3a2f3d38b7fc",
   "metadata": {},
   "outputs": [],
   "source": [
    "import os\n",
    "import numpy as np\n",
    "import pandas as pd\n",
    "import scipy.io as sio\n",
    "import scipy.stats\n",
    "import math\n",
    "\n",
    "import matplotlib.pyplot as plt\n",
    "%matplotlib inline\n",
    "\n",
    "from scipy import stats\n",
    "import seaborn as sns\n",
    "from tensorflow import keras\n",
    "\n",
    "from sklearn.preprocessing import OneHotEncoder\n",
    "from sklearn.preprocessing import StandardScaler\n",
    "from sklearn.metrics import accuracy_score, confusion_matrix, classification_report\n",
    "from sklearn.model_selection import cross_val_score, GridSearchCV, RandomizedSearchCV, train_test_split\n",
    "\n",
    "from collections import defaultdict, Counter\n",
    "\n",
    "import warnings\n",
    "warnings.filterwarnings(\"ignore\")"
   ]
  },
  {
   "cell_type": "code",
   "execution_count": 45,
   "id": "ee210cfa-4bb4-41e1-9f63-f4917af1f53c",
   "metadata": {},
   "outputs": [],
   "source": [
    "df = pd.read_csv('acc_data_left_wrist.csv')\n",
    "df = df.drop([0])"
   ]
  },
  {
   "cell_type": "code",
   "execution_count": 46,
   "id": "8626e60a-b64b-47dc-968b-fa2fc1716d37",
   "metadata": {},
   "outputs": [
    {
     "name": "stdout",
     "output_type": "stream",
     "text": [
      "     PacketCounter  SampleTimeFine     Acc_X     Acc_Y     Acc_Z Unnamed: 11\n",
      "1                1        79897288 -4.997346 -3.298741  6.276892            \n",
      "2                2        79913955 -4.860229 -2.856503  5.838315            \n",
      "3                3        79930622 -4.415420 -2.575201  5.332450            \n",
      "4                4        79947289 -4.558330 -2.955828  5.380980            \n",
      "5                5        79963956 -4.934264 -3.140786  5.319851            \n",
      "..             ...             ...       ...       ...       ...         ...\n",
      "400            400        86547421 -6.872826 -1.958509  8.421577            \n",
      "401            401        86564088 -6.681528 -2.738561  7.557323            \n",
      "402            402        86580755 -6.418333 -2.019637  7.213793            \n",
      "403            403        86597422 -6.467324 -1.720638  7.605886            \n",
      "404            404        86614089 -6.680962 -2.298194  7.510460            \n",
      "\n",
      "[404 rows x 6 columns]\n"
     ]
    }
   ],
   "source": [
    "print(df)"
   ]
  },
  {
   "cell_type": "code",
   "execution_count": 47,
   "id": "0089e698-177a-43a1-a448-645cbb703cf4",
   "metadata": {},
   "outputs": [
    {
     "name": "stdout",
     "output_type": "stream",
     "text": [
      "     PacketCounter  SampleTimeFine  Label  Unnamed: 3  Unnamed: 4 Unnamed: 5\n",
      "1                1        79897288      1         NaN         NaN           \n",
      "2                2        79913955      1         NaN         NaN           \n",
      "3                3        79930622      1         NaN         NaN           \n",
      "4                4        79947289      1         NaN         NaN           \n",
      "5                5        79963956      1         NaN         NaN           \n",
      "..             ...             ...    ...         ...         ...        ...\n",
      "400            400        86547421      3         NaN         NaN           \n",
      "401            401        86564088      3         NaN         NaN           \n",
      "402            402        86580755      3         NaN         NaN           \n",
      "403            403        86597422      3         NaN         NaN           \n",
      "404            404        86614089      3         NaN         NaN           \n",
      "\n",
      "[404 rows x 6 columns]\n"
     ]
    }
   ],
   "source": [
    "df2 = pd.read_csv('acc_data_left_wrist_label.csv')\n",
    "df2 = df2.drop([0])\n",
    "print(df2)"
   ]
  },
  {
   "cell_type": "code",
   "execution_count": 48,
   "id": "a4ccc08f-6ee1-4975-9db5-c4fab3508df1",
   "metadata": {},
   "outputs": [
    {
     "name": "stdout",
     "output_type": "stream",
     "text": [
      "Shape of original data: (404, 6)\n",
      "Shape of labels data: (404, 6)\n"
     ]
    }
   ],
   "source": [
    "df_train = df\n",
    "label_train = df2\n",
    "print(\"Shape of original data:\", df_train.shape)\n",
    "print(\"Shape of labels data:\", label_train.shape)"
   ]
  },
  {
   "cell_type": "code",
   "execution_count": 49,
   "id": "7a5dfa75-5261-4ab3-b679-746abc403968",
   "metadata": {},
   "outputs": [
    {
     "name": "stdout",
     "output_type": "stream",
     "text": [
      "   PacketCounter  SampleTimeFine     Acc_X     Acc_Y     Acc_Z Unnamed: 11\n",
      "1              1        79897288 -4.997346 -3.298741  6.276892            \n",
      "2              2        79913955 -4.860229 -2.856503  5.838315            \n",
      "3              3        79930622 -4.415420 -2.575201  5.332450            \n",
      "4              4        79947289 -4.558330 -2.955828  5.380980            \n",
      "5              5        79963956 -4.934264 -3.140786  5.319851            \n"
     ]
    }
   ],
   "source": [
    "print(df_train.head())"
   ]
  },
  {
   "cell_type": "code",
   "execution_count": 50,
   "id": "09e66db0-d5b9-41c7-9a38-9ef633cff74b",
   "metadata": {},
   "outputs": [
    {
     "data": {
      "text/html": [
       "<div>\n",
       "<style scoped>\n",
       "    .dataframe tbody tr th:only-of-type {\n",
       "        vertical-align: middle;\n",
       "    }\n",
       "\n",
       "    .dataframe tbody tr th {\n",
       "        vertical-align: top;\n",
       "    }\n",
       "\n",
       "    .dataframe thead th {\n",
       "        text-align: right;\n",
       "    }\n",
       "</style>\n",
       "<table border=\"1\" class=\"dataframe\">\n",
       "  <thead>\n",
       "    <tr style=\"text-align: right;\">\n",
       "      <th></th>\n",
       "      <th>PacketCounter</th>\n",
       "      <th>SampleTimeFine</th>\n",
       "      <th>Acc_X</th>\n",
       "      <th>Acc_Y</th>\n",
       "      <th>Acc_Z</th>\n",
       "      <th>Unnamed: 11</th>\n",
       "      <th>m</th>\n",
       "    </tr>\n",
       "  </thead>\n",
       "  <tbody>\n",
       "    <tr>\n",
       "      <th>1</th>\n",
       "      <td>1</td>\n",
       "      <td>79897288</td>\n",
       "      <td>-4.997346</td>\n",
       "      <td>-3.298741</td>\n",
       "      <td>6.276892</td>\n",
       "      <td></td>\n",
       "      <td>8.674937</td>\n",
       "    </tr>\n",
       "    <tr>\n",
       "      <th>2</th>\n",
       "      <td>2</td>\n",
       "      <td>79913955</td>\n",
       "      <td>-4.860229</td>\n",
       "      <td>-2.856503</td>\n",
       "      <td>5.838315</td>\n",
       "      <td></td>\n",
       "      <td>8.115871</td>\n",
       "    </tr>\n",
       "    <tr>\n",
       "      <th>3</th>\n",
       "      <td>3</td>\n",
       "      <td>79930622</td>\n",
       "      <td>-4.415420</td>\n",
       "      <td>-2.575201</td>\n",
       "      <td>5.332450</td>\n",
       "      <td></td>\n",
       "      <td>7.386651</td>\n",
       "    </tr>\n",
       "    <tr>\n",
       "      <th>4</th>\n",
       "      <td>4</td>\n",
       "      <td>79947289</td>\n",
       "      <td>-4.558330</td>\n",
       "      <td>-2.955828</td>\n",
       "      <td>5.380980</td>\n",
       "      <td></td>\n",
       "      <td>7.646583</td>\n",
       "    </tr>\n",
       "    <tr>\n",
       "      <th>5</th>\n",
       "      <td>5</td>\n",
       "      <td>79963956</td>\n",
       "      <td>-4.934264</td>\n",
       "      <td>-3.140786</td>\n",
       "      <td>5.319851</td>\n",
       "      <td></td>\n",
       "      <td>7.906473</td>\n",
       "    </tr>\n",
       "  </tbody>\n",
       "</table>\n",
       "</div>"
      ],
      "text/plain": [
       "   PacketCounter  SampleTimeFine     Acc_X     Acc_Y     Acc_Z Unnamed: 11  \\\n",
       "1              1        79897288 -4.997346 -3.298741  6.276892               \n",
       "2              2        79913955 -4.860229 -2.856503  5.838315               \n",
       "3              3        79930622 -4.415420 -2.575201  5.332450               \n",
       "4              4        79947289 -4.558330 -2.955828  5.380980               \n",
       "5              5        79963956 -4.934264 -3.140786  5.319851               \n",
       "\n",
       "          m  \n",
       "1  8.674937  \n",
       "2  8.115871  \n",
       "3  7.386651  \n",
       "4  7.646583  \n",
       "5  7.906473  "
      ]
     },
     "execution_count": 50,
     "metadata": {},
     "output_type": "execute_result"
    }
   ],
   "source": [
    "def magnitude(activity):\n",
    "    x2 = activity['Acc_X'] * activity['Acc_X']\n",
    "    y2 = activity['Acc_Y'] * activity['Acc_Y']\n",
    "    z2 = activity['Acc_Z'] * activity['Acc_Z']\n",
    "    m2 = x2 + y2 + z2\n",
    "    m = m2.apply(lambda x: math.sqrt(x))\n",
    "    return m\n",
    "\n",
    "df_train['m'] = magnitude(df_train)\n",
    "df_train.head()"
   ]
  },
  {
   "cell_type": "code",
   "execution_count": 51,
   "id": "6cefa4b8-788a-4da9-9a86-f6261e6d39f5",
   "metadata": {},
   "outputs": [
    {
     "name": "stdout",
     "output_type": "stream",
     "text": [
      "   PacketCounter  SampleTimeFine  Label  Unnamed: 3  Unnamed: 4 Unnamed: 5\n",
      "1              1        79897288      1         NaN         NaN           \n",
      "2              2        79913955      1         NaN         NaN           \n",
      "3              3        79930622      1         NaN         NaN           \n",
      "4              4        79947289      1         NaN         NaN           \n",
      "5              5        79963956      1         NaN         NaN           \n"
     ]
    }
   ],
   "source": [
    "print(label_train.head())"
   ]
  },
  {
   "cell_type": "code",
   "execution_count": 52,
   "id": "6dd80d57-1abd-477d-bec7-6bb93def8f22",
   "metadata": {},
   "outputs": [
    {
     "data": {
      "text/html": [
       "<div>\n",
       "<style scoped>\n",
       "    .dataframe tbody tr th:only-of-type {\n",
       "        vertical-align: middle;\n",
       "    }\n",
       "\n",
       "    .dataframe tbody tr th {\n",
       "        vertical-align: top;\n",
       "    }\n",
       "\n",
       "    .dataframe thead th {\n",
       "        text-align: right;\n",
       "    }\n",
       "</style>\n",
       "<table border=\"1\" class=\"dataframe\">\n",
       "  <thead>\n",
       "    <tr style=\"text-align: right;\">\n",
       "      <th></th>\n",
       "      <th>index</th>\n",
       "      <th>label</th>\n",
       "    </tr>\n",
       "  </thead>\n",
       "  <tbody>\n",
       "    <tr>\n",
       "      <th>0</th>\n",
       "      <td>1</td>\n",
       "      <td>81</td>\n",
       "    </tr>\n",
       "    <tr>\n",
       "      <th>1</th>\n",
       "      <td>2</td>\n",
       "      <td>169</td>\n",
       "    </tr>\n",
       "    <tr>\n",
       "      <th>2</th>\n",
       "      <td>3</td>\n",
       "      <td>154</td>\n",
       "    </tr>\n",
       "  </tbody>\n",
       "</table>\n",
       "</div>"
      ],
      "text/plain": [
       "   index  label\n",
       "0      1     81\n",
       "1      2    169\n",
       "2      3    154"
      ]
     },
     "execution_count": 52,
     "metadata": {},
     "output_type": "execute_result"
    }
   ],
   "source": [
    "pd.DataFrame.from_dict(Counter(label_train['Label']), orient=\"Index\", columns=['label']).reset_index()"
   ]
  },
  {
   "cell_type": "markdown",
   "id": "c31ff570-ebfb-44ea-96b1-b5be4523cdfa",
   "metadata": {},
   "source": [
    "#### Plot Acceleration Data"
   ]
  },
  {
   "cell_type": "code",
   "execution_count": 53,
   "id": "88031ec4-3422-41b4-afd0-8badd684978a",
   "metadata": {},
   "outputs": [
    {
     "data": {
      "image/png": "[encoded data removed]",
      "text/plain": [
       "<Figure size 720x216 with 1 Axes>"
      ]
     },
     "metadata": {
      "needs_background": "light"
     },
     "output_type": "display_data"
    }
   ],
   "source": [
    "plt.figure(figsize=(10,3))\n",
    "plt.plot(df_train['PacketCounter'], df_train['Acc_X'], linewidth=0.5, color='r', label='x axis')\n",
    "plt.plot(df_train['PacketCounter'], df_train['Acc_Y'], linewidth=0.5, color='b', label='y axis')\n",
    "plt.plot(df_train['PacketCounter'], df_train['Acc_Z'], linewidth=0.5, color='g', label='z axis')\n",
    "plt.xlabel('PacketCounter')\n",
    "plt.ylabel('acceleration')\n",
    "plt.legend(loc='center left', bbox_to_anchor=(1, 0.5));"
   ]
  },
  {
   "cell_type": "code",
   "execution_count": 54,
   "id": "8643fc5b-b65f-404d-801e-c93a1c6ede1a",
   "metadata": {},
   "outputs": [
    {
     "data": {
      "image/png": "[encoded data removed]",
      "text/plain": [
       "<Figure size 720x576 with 4 Axes>"
      ]
     },
     "metadata": {
      "needs_background": "light"
     },
     "output_type": "display_data"
    }
   ],
   "source": [
    "fig, ax = plt.subplots(nrows=4, ncols=1, figsize=(10,8))\n",
    "\n",
    "ax[0].set_title('X-axis:')\n",
    "ax[0].plot(df_train['PacketCounter'], df_train['Acc_X'], linewidth=0.5, color='r')\n",
    "\n",
    "ax[1].set_title('Y-axis: ')\n",
    "ax[1].plot(df_train['PacketCounter'], df_train['Acc_Y'], linewidth=0.5, color='b')\n",
    "\n",
    "ax[2].set_title('Z-axis: ')\n",
    "ax[2].plot(df_train['PacketCounter'], df_train['Acc_Z'], linewidth=0.5, color='g')\n",
    "\n",
    "ax[3].set_title('Magnitude, m: Combined X-Y-Z')\n",
    "ax[3].plot(df_train['PacketCounter'], df_train['m'], linewidth=0.5, color='k')\n",
    "\n",
    "fig.subplots_adjust(hspace=.5)"
   ]
  },
  {
   "cell_type": "code",
   "execution_count": 55,
   "id": "f51a527c-98d7-40ce-b73f-34af9eaea512",
   "metadata": {},
   "outputs": [],
   "source": [
    "# Separating data for each activity\n",
    "train_df = pd.concat([df_train, label_train['Label']], axis=1).dropna()\n",
    "columns = ['PacketCounter', 'Acc_X', 'Acc_Y', 'Acc_Z', 'm', 'Label']\n",
    "\n",
    "wrist_on_elbow = train_df[columns][train_df.Label == 1]\n",
    "waack = train_df[columns][train_df.Label == 2]\n",
    "idle = train_df[columns][train_df.Label == 3]"
   ]
  },
  {
   "cell_type": "code",
   "execution_count": 56,
   "id": "3fdd0055-498a-472a-a19f-900e456cdd1c",
   "metadata": {},
   "outputs": [
    {
     "data": {
      "text/html": [
       "<div>\n",
       "<style scoped>\n",
       "    .dataframe tbody tr th:only-of-type {\n",
       "        vertical-align: middle;\n",
       "    }\n",
       "\n",
       "    .dataframe tbody tr th {\n",
       "        vertical-align: top;\n",
       "    }\n",
       "\n",
       "    .dataframe thead th {\n",
       "        text-align: right;\n",
       "    }\n",
       "</style>\n",
       "<table border=\"1\" class=\"dataframe\">\n",
       "  <thead>\n",
       "    <tr style=\"text-align: right;\">\n",
       "      <th></th>\n",
       "      <th>PacketCounter</th>\n",
       "      <th>Acc_X</th>\n",
       "      <th>Acc_Y</th>\n",
       "      <th>Acc_Z</th>\n",
       "      <th>m</th>\n",
       "      <th>Label</th>\n",
       "    </tr>\n",
       "  </thead>\n",
       "  <tbody>\n",
       "    <tr>\n",
       "      <th>1</th>\n",
       "      <td>1</td>\n",
       "      <td>-4.997346</td>\n",
       "      <td>-3.298741</td>\n",
       "      <td>6.276892</td>\n",
       "      <td>8.674937</td>\n",
       "      <td>1</td>\n",
       "    </tr>\n",
       "    <tr>\n",
       "      <th>2</th>\n",
       "      <td>2</td>\n",
       "      <td>-4.860229</td>\n",
       "      <td>-2.856503</td>\n",
       "      <td>5.838315</td>\n",
       "      <td>8.115871</td>\n",
       "      <td>1</td>\n",
       "    </tr>\n",
       "    <tr>\n",
       "      <th>3</th>\n",
       "      <td>3</td>\n",
       "      <td>-4.415420</td>\n",
       "      <td>-2.575201</td>\n",
       "      <td>5.332450</td>\n",
       "      <td>7.386651</td>\n",
       "      <td>1</td>\n",
       "    </tr>\n",
       "    <tr>\n",
       "      <th>4</th>\n",
       "      <td>4</td>\n",
       "      <td>-4.558330</td>\n",
       "      <td>-2.955828</td>\n",
       "      <td>5.380980</td>\n",
       "      <td>7.646583</td>\n",
       "      <td>1</td>\n",
       "    </tr>\n",
       "    <tr>\n",
       "      <th>5</th>\n",
       "      <td>5</td>\n",
       "      <td>-4.934264</td>\n",
       "      <td>-3.140786</td>\n",
       "      <td>5.319851</td>\n",
       "      <td>7.906473</td>\n",
       "      <td>1</td>\n",
       "    </tr>\n",
       "  </tbody>\n",
       "</table>\n",
       "</div>"
      ],
      "text/plain": [
       "   PacketCounter     Acc_X     Acc_Y     Acc_Z         m  Label\n",
       "1              1 -4.997346 -3.298741  6.276892  8.674937      1\n",
       "2              2 -4.860229 -2.856503  5.838315  8.115871      1\n",
       "3              3 -4.415420 -2.575201  5.332450  7.386651      1\n",
       "4              4 -4.558330 -2.955828  5.380980  7.646583      1\n",
       "5              5 -4.934264 -3.140786  5.319851  7.906473      1"
      ]
     },
     "execution_count": 56,
     "metadata": {},
     "output_type": "execute_result"
    }
   ],
   "source": [
    "wrist_on_elbow.head()"
   ]
  },
  {
   "cell_type": "code",
   "execution_count": 57,
   "id": "5d5a4095-b460-4c40-b451-4789077d367b",
   "metadata": {},
   "outputs": [
    {
     "data": {
      "text/html": [
       "<div>\n",
       "<style scoped>\n",
       "    .dataframe tbody tr th:only-of-type {\n",
       "        vertical-align: middle;\n",
       "    }\n",
       "\n",
       "    .dataframe tbody tr th {\n",
       "        vertical-align: top;\n",
       "    }\n",
       "\n",
       "    .dataframe thead th {\n",
       "        text-align: right;\n",
       "    }\n",
       "</style>\n",
       "<table border=\"1\" class=\"dataframe\">\n",
       "  <thead>\n",
       "    <tr style=\"text-align: right;\">\n",
       "      <th></th>\n",
       "      <th>PacketCounter</th>\n",
       "      <th>Acc_X</th>\n",
       "      <th>Acc_Y</th>\n",
       "      <th>Acc_Z</th>\n",
       "      <th>m</th>\n",
       "      <th>Label</th>\n",
       "    </tr>\n",
       "  </thead>\n",
       "  <tbody>\n",
       "    <tr>\n",
       "      <th>82</th>\n",
       "      <td>82</td>\n",
       "      <td>-9.505702</td>\n",
       "      <td>-1.052089</td>\n",
       "      <td>3.289883</td>\n",
       "      <td>10.113782</td>\n",
       "      <td>2</td>\n",
       "    </tr>\n",
       "    <tr>\n",
       "      <th>83</th>\n",
       "      <td>83</td>\n",
       "      <td>-9.288963</td>\n",
       "      <td>-1.122441</td>\n",
       "      <td>3.086882</td>\n",
       "      <td>9.852591</td>\n",
       "      <td>2</td>\n",
       "    </tr>\n",
       "    <tr>\n",
       "      <th>84</th>\n",
       "      <td>84</td>\n",
       "      <td>-9.232818</td>\n",
       "      <td>-1.257930</td>\n",
       "      <td>2.894299</td>\n",
       "      <td>9.757268</td>\n",
       "      <td>2</td>\n",
       "    </tr>\n",
       "    <tr>\n",
       "      <th>85</th>\n",
       "      <td>85</td>\n",
       "      <td>-9.253806</td>\n",
       "      <td>-1.289210</td>\n",
       "      <td>2.738945</td>\n",
       "      <td>9.736365</td>\n",
       "      <td>2</td>\n",
       "    </tr>\n",
       "    <tr>\n",
       "      <th>86</th>\n",
       "      <td>86</td>\n",
       "      <td>-9.261637</td>\n",
       "      <td>-1.220554</td>\n",
       "      <td>2.802252</td>\n",
       "      <td>9.752963</td>\n",
       "      <td>2</td>\n",
       "    </tr>\n",
       "  </tbody>\n",
       "</table>\n",
       "</div>"
      ],
      "text/plain": [
       "    PacketCounter     Acc_X     Acc_Y     Acc_Z          m  Label\n",
       "82             82 -9.505702 -1.052089  3.289883  10.113782      2\n",
       "83             83 -9.288963 -1.122441  3.086882   9.852591      2\n",
       "84             84 -9.232818 -1.257930  2.894299   9.757268      2\n",
       "85             85 -9.253806 -1.289210  2.738945   9.736365      2\n",
       "86             86 -9.261637 -1.220554  2.802252   9.752963      2"
      ]
     },
     "execution_count": 57,
     "metadata": {},
     "output_type": "execute_result"
    }
   ],
   "source": [
    "waack.head()"
   ]
  },
  {
   "cell_type": "code",
   "execution_count": 58,
   "id": "6b694290-472a-4b9a-a051-3071840e19cc",
   "metadata": {},
   "outputs": [
    {
     "data": {
      "text/html": [
       "<div>\n",
       "<style scoped>\n",
       "    .dataframe tbody tr th:only-of-type {\n",
       "        vertical-align: middle;\n",
       "    }\n",
       "\n",
       "    .dataframe tbody tr th {\n",
       "        vertical-align: top;\n",
       "    }\n",
       "\n",
       "    .dataframe thead th {\n",
       "        text-align: right;\n",
       "    }\n",
       "</style>\n",
       "<table border=\"1\" class=\"dataframe\">\n",
       "  <thead>\n",
       "    <tr style=\"text-align: right;\">\n",
       "      <th></th>\n",
       "      <th>PacketCounter</th>\n",
       "      <th>Acc_X</th>\n",
       "      <th>Acc_Y</th>\n",
       "      <th>Acc_Z</th>\n",
       "      <th>m</th>\n",
       "      <th>Label</th>\n",
       "    </tr>\n",
       "  </thead>\n",
       "  <tbody>\n",
       "    <tr>\n",
       "      <th>251</th>\n",
       "      <td>251</td>\n",
       "      <td>-9.583763</td>\n",
       "      <td>-5.296456</td>\n",
       "      <td>5.994767</td>\n",
       "      <td>12.483517</td>\n",
       "      <td>3</td>\n",
       "    </tr>\n",
       "    <tr>\n",
       "      <th>252</th>\n",
       "      <td>252</td>\n",
       "      <td>-9.061045</td>\n",
       "      <td>-6.487133</td>\n",
       "      <td>6.100417</td>\n",
       "      <td>12.704350</td>\n",
       "      <td>3</td>\n",
       "    </tr>\n",
       "    <tr>\n",
       "      <th>253</th>\n",
       "      <td>253</td>\n",
       "      <td>-8.696379</td>\n",
       "      <td>-6.435246</td>\n",
       "      <td>5.823425</td>\n",
       "      <td>12.286239</td>\n",
       "      <td>3</td>\n",
       "    </tr>\n",
       "    <tr>\n",
       "      <th>254</th>\n",
       "      <td>254</td>\n",
       "      <td>-8.729246</td>\n",
       "      <td>-5.539299</td>\n",
       "      <td>5.619998</td>\n",
       "      <td>11.767240</td>\n",
       "      <td>3</td>\n",
       "    </tr>\n",
       "    <tr>\n",
       "      <th>255</th>\n",
       "      <td>255</td>\n",
       "      <td>-9.196158</td>\n",
       "      <td>-4.137349</td>\n",
       "      <td>5.303192</td>\n",
       "      <td>11.393456</td>\n",
       "      <td>3</td>\n",
       "    </tr>\n",
       "  </tbody>\n",
       "</table>\n",
       "</div>"
      ],
      "text/plain": [
       "     PacketCounter     Acc_X     Acc_Y     Acc_Z          m  Label\n",
       "251            251 -9.583763 -5.296456  5.994767  12.483517      3\n",
       "252            252 -9.061045 -6.487133  6.100417  12.704350      3\n",
       "253            253 -8.696379 -6.435246  5.823425  12.286239      3\n",
       "254            254 -8.729246 -5.539299  5.619998  11.767240      3\n",
       "255            255 -9.196158 -4.137349  5.303192  11.393456      3"
      ]
     },
     "execution_count": 58,
     "metadata": {},
     "output_type": "execute_result"
    }
   ],
   "source": [
    "idle.head()"
   ]
  },
  {
   "cell_type": "markdown",
   "id": "ff06a9ba-0401-420b-b09f-a2a49147b029",
   "metadata": {},
   "source": [
    "#### Plot Activity Data"
   ]
  },
  {
   "cell_type": "code",
   "execution_count": 59,
   "id": "4fe8f62e-ee28-401c-b6d4-5e7a3bfed13d",
   "metadata": {},
   "outputs": [
    {
     "data": {
      "image/png": "[encoded data removed]",
      "text/plain": [
       "<Figure size 720x576 with 3 Axes>"
      ]
     },
     "metadata": {
      "needs_background": "light"
     },
     "output_type": "display_data"
    }
   ],
   "source": [
    "def plot_axis(ax, x, y, title):\n",
    "    ax.plot(x, y)\n",
    "    ax.set_title(title)\n",
    "    ax.xaxis.set_visible(False)\n",
    "    ax.set_ylim([min(y) - np.std(y), max(y) + np.std(y)])\n",
    "    ax.set_xlim([min(x), max(x)])\n",
    "    ax.grid(True)\n",
    "    \n",
    "def plot_activity(activities, titles):\n",
    "    fig, axs = plt.subplots(nrows=len(activities), figsize=(10, 8))\n",
    "    for i in range(0, len(activities)):\n",
    "        plot_axis(axs[i], activities[i]['PacketCounter'], activities[i]['m'], titles[i])\n",
    "    plt.subplots_adjust(hspace=0.2)\n",
    "    plt.show()\n",
    "\n",
    "plot_activity([wrist_on_elbow, waack, idle],\n",
    "              ['Wrist on Elbow', 'Waack', 'Idle'])"
   ]
  },
  {
   "cell_type": "markdown",
   "id": "f0d3399a-7ff5-47fd-942f-48d6d632f368",
   "metadata": {},
   "source": [
    "#### Split training data"
   ]
  },
  {
   "cell_type": "code",
   "execution_count": 60,
   "id": "ef9500cb-1062-40e9-8e04-c2eee9cfb10d",
   "metadata": {},
   "outputs": [],
   "source": [
    "X_train, X_test, y_train, y_test = train_test_split(train_df, label_train, test_size = 0.2, random_state = 0)"
   ]
  },
  {
   "cell_type": "code",
   "execution_count": 61,
   "id": "6b39e27b-7638-4c8c-bfc7-985d299f6641",
   "metadata": {},
   "outputs": [
    {
     "name": "stdout",
     "output_type": "stream",
     "text": [
      "X_train shape: (323, 8)\n",
      "y_train shape: (323, 6)\n"
     ]
    }
   ],
   "source": [
    "print(\"X_train shape:\", X_train.shape)\n",
    "print(\"y_train shape:\", y_train.shape)"
   ]
  },
  {
   "cell_type": "code",
   "execution_count": 62,
   "id": "9058c61a-3e18-484c-aa15-6ae8f52af613",
   "metadata": {},
   "outputs": [
    {
     "name": "stdout",
     "output_type": "stream",
     "text": [
      "X_test shape: (81, 8)\n",
      "y_test shape: (81, 6)\n"
     ]
    }
   ],
   "source": [
    "print(\"X_test shape:\", X_test.shape)\n",
    "print(\"y_test shape:\", y_test.shape)"
   ]
  },
  {
   "cell_type": "code",
   "execution_count": 63,
   "id": "5c2ae12f-b9b9-4a81-85e5-ebab0efb8edb",
   "metadata": {},
   "outputs": [],
   "source": [
    "def create_dataset(X, y, time_steps=1, step=1):\n",
    "    Xs, ys = [], []\n",
    "    for i in range(0, len(X) - time_steps, step):\n",
    "        v = X.iloc[i:(i + time_steps)].values\n",
    "        labels = label_train['Label'].iloc[i: i + time_steps]\n",
    "        Xs.append(v)        \n",
    "        ys.append(stats.mode(labels)[0][0])\n",
    "    return np.array(Xs), np.array(ys).reshape(-1, 1)\n",
    "\n",
    "TIME_STEPS = 300 #400 #200 #300\n",
    "STEP = 150  #100 #60 #80 #40 #150\n",
    "\n",
    "X_train, y_train = create_dataset(\n",
    "    df[['Acc_X', 'Acc_Y', 'Acc_Z']], \n",
    "    TIME_STEPS, \n",
    "    STEP\n",
    ")\n",
    "\n",
    "X_test, y_test = create_dataset(\n",
    "    df[['Acc_X', 'Acc_Y', 'Acc_Z']], \n",
    "    TIME_STEPS, \n",
    "    STEP\n",
    ")"
   ]
  },
  {
   "cell_type": "code",
   "execution_count": 64,
   "id": "f92ad08f-1886-4c48-b8a0-81a19fa8b31b",
   "metadata": {},
   "outputs": [
    {
     "name": "stdout",
     "output_type": "stream",
     "text": [
      "(254, 150, 3) (254, 1)\n"
     ]
    }
   ],
   "source": [
    "print(X_train.shape, y_train.shape)"
   ]
  },
  {
   "cell_type": "code",
   "execution_count": 65,
   "id": "8a9fed22-3dc4-453b-be2a-8933bc95fde9",
   "metadata": {},
   "outputs": [],
   "source": [
    "enc = OneHotEncoder(handle_unknown='ignore', sparse=False)\n",
    "\n",
    "enc = enc.fit(y_train)\n",
    "\n",
    "y_train = enc.transform(y_train)\n",
    "y_test = enc.transform(y_test)"
   ]
  },
  {
   "cell_type": "code",
   "execution_count": 66,
   "id": "b2a662ce-d3f5-4fbb-878c-a6fe726fe3a9",
   "metadata": {},
   "outputs": [
    {
     "name": "stdout",
     "output_type": "stream",
     "text": [
      "(254, 150, 3) (254, 3)\n"
     ]
    }
   ],
   "source": [
    "print(X_train.shape, y_train.shape)"
   ]
  },
  {
   "cell_type": "markdown",
   "id": "980b7bf1-fcd5-4510-926a-735d8405823f",
   "metadata": {},
   "source": [
    "#### Train the model"
   ]
  },
  {
   "cell_type": "code",
   "execution_count": 67,
   "id": "1aa88a2c-34d7-48a6-ad95-82cfc2998dcb",
   "metadata": {},
   "outputs": [],
   "source": [
    "model = keras.Sequential()\n",
    "model.add(\n",
    "    keras.layers.Bidirectional(\n",
    "      keras.layers.LSTM(\n",
    "          units=128, \n",
    "          input_shape=[X_train.shape[0], X_train.shape[1]]\n",
    "      )\n",
    "    )\n",
    ")\n",
    "model.add(keras.layers.Dropout(rate=0.5))\n",
    "model.add(keras.layers.Dense(units=128, activation='relu'))\n",
    "model.add(keras.layers.Dense(y_train.shape[1], activation='softmax'))\n",
    "model.compile(loss='categorical_crossentropy', optimizer='adam', metrics=['acc'])"
   ]
  },
  {
   "cell_type": "code",
   "execution_count": 68,
   "id": "acb8aa07-29ff-4d74-80ba-12e65ffad5e1",
   "metadata": {},
   "outputs": [
    {
     "name": "stdout",
     "output_type": "stream",
     "text": [
      "Train on 228 samples, validate on 26 samples\n",
      "Epoch 1/20\n",
      "228/228 [==============================] - 4s 16ms/sample - loss: 0.8633 - acc: 0.6009 - val_loss: 1.6525 - val_acc: 0.0000e+00\n",
      "Epoch 2/20\n",
      "228/228 [==============================] - 1s 4ms/sample - loss: 0.3885 - acc: 0.8289 - val_loss: 1.2491 - val_acc: 0.2692\n",
      "Epoch 3/20\n",
      "228/228 [==============================] - 1s 4ms/sample - loss: 0.2210 - acc: 0.9298 - val_loss: 1.0231 - val_acc: 0.3846\n",
      "Epoch 4/20\n",
      "228/228 [==============================] - 1s 4ms/sample - loss: 0.1503 - acc: 0.9474 - val_loss: 1.6579 - val_acc: 0.3462\n",
      "Epoch 5/20\n",
      "228/228 [==============================] - 1s 4ms/sample - loss: 0.0778 - acc: 0.9781 - val_loss: 3.2185 - val_acc: 0.2692\n",
      "Epoch 6/20\n",
      "228/228 [==============================] - 1s 4ms/sample - loss: 0.0657 - acc: 0.9825 - val_loss: 3.3717 - val_acc: 0.3077\n",
      "Epoch 7/20\n",
      "228/228 [==============================] - 1s 4ms/sample - loss: 0.0331 - acc: 0.9912 - val_loss: 1.6336 - val_acc: 0.4231\n",
      "Epoch 8/20\n",
      "228/228 [==============================] - 1s 4ms/sample - loss: 0.0244 - acc: 0.9956 - val_loss: 1.0536 - val_acc: 0.4615\n",
      "Epoch 9/20\n",
      "228/228 [==============================] - 1s 4ms/sample - loss: 0.0301 - acc: 0.9868 - val_loss: 0.5611 - val_acc: 0.5769\n",
      "Epoch 10/20\n",
      "228/228 [==============================] - 1s 4ms/sample - loss: 0.0190 - acc: 0.9956 - val_loss: 1.3584 - val_acc: 0.4231\n",
      "Epoch 11/20\n",
      "228/228 [==============================] - 1s 4ms/sample - loss: 0.0092 - acc: 1.0000 - val_loss: 1.9400 - val_acc: 0.3846\n",
      "Epoch 12/20\n",
      "228/228 [==============================] - 1s 4ms/sample - loss: 0.0142 - acc: 0.9912 - val_loss: 1.3501 - val_acc: 0.4231\n",
      "Epoch 13/20\n",
      "228/228 [==============================] - 1s 4ms/sample - loss: 0.0204 - acc: 0.9912 - val_loss: 0.8497 - val_acc: 0.5385\n",
      "Epoch 14/20\n",
      "228/228 [==============================] - 1s 4ms/sample - loss: 0.0182 - acc: 0.9956 - val_loss: 1.4391 - val_acc: 0.4231\n",
      "Epoch 15/20\n",
      "228/228 [==============================] - 1s 4ms/sample - loss: 0.0143 - acc: 0.9956 - val_loss: 3.0432 - val_acc: 0.3462\n",
      "Epoch 16/20\n",
      "228/228 [==============================] - 1s 4ms/sample - loss: 0.0193 - acc: 0.9912 - val_loss: 1.5647 - val_acc: 0.4231\n",
      "Epoch 17/20\n",
      "228/228 [==============================] - 1s 4ms/sample - loss: 0.0141 - acc: 0.9956 - val_loss: 1.6913 - val_acc: 0.4231\n",
      "Epoch 18/20\n",
      "228/228 [==============================] - 1s 4ms/sample - loss: 0.0157 - acc: 0.9912 - val_loss: 3.6350 - val_acc: 0.3462\n",
      "Epoch 19/20\n",
      "228/228 [==============================] - 1s 4ms/sample - loss: 0.0134 - acc: 0.9956 - val_loss: 4.0843 - val_acc: 0.3077\n",
      "Epoch 20/20\n",
      "228/228 [==============================] - 1s 4ms/sample - loss: 0.0315 - acc: 0.9868 - val_loss: 1.9857 - val_acc: 0.4231\n"
     ]
    }
   ],
   "source": [
    "history = model.fit(\n",
    "    X_train, y_train,\n",
    "    epochs=20,\n",
    "    batch_size=64, #64 #128 #32\n",
    "    validation_split=0.1,\n",
    "    shuffle=True\n",
    ")"
   ]
  },
  {
   "cell_type": "markdown",
   "id": "cc916602-8b91-4942-a4e2-6e55a7912bbd",
   "metadata": {},
   "source": [
    "#### Evaluation"
   ]
  },
  {
   "cell_type": "code",
   "execution_count": 69,
   "id": "8b46756b-8233-4ff2-bf2c-d197dd3b214f",
   "metadata": {},
   "outputs": [
    {
     "data": {
      "image/png": "[encoded data removed]",
      "text/plain": [
       "<Figure size 432x288 with 1 Axes>"
      ]
     },
     "metadata": {
      "needs_background": "light"
     },
     "output_type": "display_data"
    }
   ],
   "source": [
    "plt.plot(history.history['loss'], label='train')\n",
    "plt.plot(history.history['val_loss'], label='test')\n",
    "plt.legend();"
   ]
  },
  {
   "cell_type": "code",
   "execution_count": 70,
   "id": "12e3ff24-d0d3-446a-9551-2c40d6c6a5fc",
   "metadata": {},
   "outputs": [
    {
     "data": {
      "image/png": "[encoded data removed]",
      "text/plain": [
       "<Figure size 432x288 with 1 Axes>"
      ]
     },
     "metadata": {
      "needs_background": "light"
     },
     "output_type": "display_data"
    }
   ],
   "source": [
    "plt.plot(history.history['acc'], label='train')\n",
    "plt.plot(history.history['val_acc'], label='test')\n",
    "plt.legend();"
   ]
  },
  {
   "cell_type": "code",
   "execution_count": 71,
   "id": "7c96a67c-164c-4736-a493-33c9c59570a4",
   "metadata": {},
   "outputs": [
    {
     "name": "stdout",
     "output_type": "stream",
     "text": [
      "254/254 [==============================] - 0s 883us/sample - loss: 0.2090 - acc: 0.9409\n"
     ]
    },
    {
     "data": {
      "text/plain": [
       "[0.20897559954429148, 0.9409449]"
      ]
     },
     "execution_count": 71,
     "metadata": {},
     "output_type": "execute_result"
    }
   ],
   "source": [
    "model.evaluate(X_test, y_test)"
   ]
  },
  {
   "cell_type": "code",
   "execution_count": 72,
   "id": "2fa0d1a8-7d02-4372-ba58-a0387cff1794",
   "metadata": {},
   "outputs": [
    {
     "name": "stdout",
     "output_type": "stream",
     "text": [
      "254/254 [==============================] - 0s 931us/sample - loss: 0.2090 - acc: 0.9409\n"
     ]
    },
    {
     "data": {
      "text/plain": [
       "[0.20897559954429148, 0.9409449]"
      ]
     },
     "execution_count": 72,
     "metadata": {},
     "output_type": "execute_result"
    }
   ],
   "source": [
    "model.evaluate(X_train, y_train)"
   ]
  },
  {
   "cell_type": "markdown",
   "id": "ebc228f8-9cc2-4bf6-a310-742f60d1c7c8",
   "metadata": {},
   "source": [
    "#### Confusion Matrix"
   ]
  },
  {
   "cell_type": "code",
   "execution_count": 73,
   "id": "c9ccfdeb-2b95-4e8a-a3f6-09488ee036b3",
   "metadata": {},
   "outputs": [],
   "source": [
    "y_pred = model.predict(X_test)"
   ]
  },
  {
   "cell_type": "code",
   "execution_count": 74,
   "id": "1f77f538-91f1-4820-ae12-f2b4e2c61592",
   "metadata": {},
   "outputs": [],
   "source": [
    "column_names = 'Wrist_on_Elbow', 'Waack', 'Idle'\n",
    "\n",
    "def plot_cm(y_true, y_pred, class_names):\n",
    "  cm = confusion_matrix(y_true, y_pred)\n",
    "  fig, ax = plt.subplots(figsize=(18, 16)) \n",
    "  ax = sns.heatmap(\n",
    "      cm, \n",
    "      annot=True, \n",
    "      fmt=\"d\", \n",
    "      cmap=sns.diverging_palette(220, 20, n=7),\n",
    "      ax=ax\n",
    "  )\n",
    "\n",
    "  plt.ylabel('Actual')\n",
    "  plt.xlabel('Predicted')\n",
    "  ax.set_xticklabels(column_names)\n",
    "  ax.set_yticklabels(column_names)\n",
    "  b, t = plt.ylim() # discover the values for bottom and top\n",
    "  #b += 0.5 # Add 0.5 to the bottom\n",
    "  #t -= 0.5 # Subtract 0.5 from the top\n",
    "  plt.ylim(b, t) # update the ylim(bottom, top) values\n",
    "  plt.show() # ta-da!"
   ]
  },
  {
   "cell_type": "code",
   "execution_count": 75,
   "id": "090d6d30-5a0d-41a5-8a9a-36d96545ef81",
   "metadata": {},
   "outputs": [
    {
     "data": {
      "image/png": "[encoded data removed]",
      "text/plain": [
       "<Figure size 1296x1152 with 2 Axes>"
      ]
     },
     "metadata": {
      "needs_background": "light"
     },
     "output_type": "display_data"
    }
   ],
   "source": [
    "plot_cm(\n",
    "  enc.inverse_transform(y_test),\n",
    "  enc.inverse_transform(y_pred),\n",
    "  enc.categories_[0]\n",
    ")"
   ]
  },
  {
   "cell_type": "code",
   "execution_count": null,
   "id": "1b505018-8796-4514-b320-31b5b065fc6f",
   "metadata": {},
   "outputs": [],
   "source": []
  },
  {
   "cell_type": "code",
   "execution_count": null,
   "id": "267406f8-769d-4480-b622-b4410036335b",
   "metadata": {},
   "outputs": [],
   "source": []
  },
  {
   "cell_type": "code",
   "execution_count": null,
   "id": "fad2a60e-978f-428e-87d4-274ec5e80a1c",
   "metadata": {},
   "outputs": [],
   "source": []
  }
 ],
 "metadata": {
  "kernelspec": {
   "display_name": "Python 3",
   "language": "python",
   "name": "python3"
  },
  "language_info": {
   "codemirror_mode": {
    "name": "ipython",
    "version": 3
   },
   "file_extension": ".py",
   "mimetype": "text/x-python",
   "name": "python",
   "nbconvert_exporter": "python",
   "pygments_lexer": "ipython3",
   "version": "3.6.13"
  }
 },
 "nbformat": 4,
 "nbformat_minor": 5
}
