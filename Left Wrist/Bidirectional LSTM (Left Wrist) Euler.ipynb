{
 "cells": [
  {
   "cell_type": "markdown",
   "id": "00efe04b-fae0-4ad4-bb80-6206c1ba4157",
   "metadata": {},
   "source": [
    "# Bidirectional LSTM (Left Wrist)"
   ]
  },
  {
   "cell_type": "markdown",
   "id": "6ab8766d-8d28-4e27-9514-3112e34a1b89",
   "metadata": {},
   "source": [
    "##### https://www.kaggle.com/malekzadeh/human-activity-recognition-with-mobile-sensing"
   ]
  },
  {
   "cell_type": "markdown",
   "id": "17ccfc3f-200a-46ce-86f3-75e2c79069fe",
   "metadata": {},
   "source": [
    "##### https://github.com/akhuperkar/HAR-Smartphone-Accelerometer/blob/master/HAR%20Using%20Machine%20Learning%20.ipynb"
   ]
  },
  {
   "cell_type": "markdown",
   "id": "c25e1702-1934-4512-9505-e06703ae6f1c",
   "metadata": {},
   "source": [
    "#### Import Libraries"
   ]
  },
  {
   "cell_type": "code",
   "execution_count": 1,
   "id": "b2500ac0-0050-4d0e-9705-3a2f3d38b7fc",
   "metadata": {},
   "outputs": [],
   "source": [
    "import os\n",
    "import numpy as np\n",
    "import pandas as pd\n",
    "import scipy.io as sio\n",
    "import scipy.stats\n",
    "import math\n",
    "\n",
    "import matplotlib.pyplot as plt\n",
    "%matplotlib inline\n",
    "\n",
    "from scipy import stats\n",
    "import seaborn as sns\n",
    "from tensorflow import keras\n",
    "\n",
    "from sklearn.preprocessing import OneHotEncoder\n",
    "from sklearn.preprocessing import StandardScaler\n",
    "from sklearn.metrics import accuracy_score, confusion_matrix, classification_report\n",
    "from sklearn.model_selection import cross_val_score, GridSearchCV, RandomizedSearchCV, train_test_split\n",
    "\n",
    "from collections import defaultdict, Counter\n",
    "\n",
    "import warnings\n",
    "warnings.filterwarnings(\"ignore\")"
   ]
  },
  {
   "cell_type": "code",
   "execution_count": 2,
   "id": "ee210cfa-4bb4-41e1-9f63-f4917af1f53c",
   "metadata": {},
   "outputs": [],
   "source": [
    "df = pd.read_csv('euler_data_left_wrist.csv')\n",
    "df = df.drop([0])"
   ]
  },
  {
   "cell_type": "code",
   "execution_count": 3,
   "id": "8626e60a-b64b-47dc-968b-fa2fc1716d37",
   "metadata": {},
   "outputs": [
    {
     "name": "stdout",
     "output_type": "stream",
     "text": [
      "     PacketCounter  SampleTimeFine    Euler_X    Euler_Y     Euler_Z  \\\n",
      "1                1        79897288 -44.006100  39.279148 -159.631714   \n",
      "2                2        79913955 -42.771473  40.480717 -158.369705   \n",
      "3                3        79930622 -42.201080  41.910305 -157.384995   \n",
      "4                4        79947289 -42.532143  43.498165 -156.531906   \n",
      "5                5        79963956 -43.704803  45.181152 -155.828735   \n",
      "..             ...             ...        ...        ...         ...   \n",
      "400            400        86547421 -11.955125  32.864365 -128.397095   \n",
      "401            401        86564088 -12.330739  32.791779 -128.447784   \n",
      "402            402        86580755 -12.582192  32.730774 -128.498215   \n",
      "403            403        86597422 -12.890846  32.547947 -128.550507   \n",
      "404            404        86614089 -13.413615  32.255054 -128.663208   \n",
      "\n",
      "    Unnamed: 11  \n",
      "1                \n",
      "2                \n",
      "3                \n",
      "4                \n",
      "5                \n",
      "..          ...  \n",
      "400              \n",
      "401              \n",
      "402              \n",
      "403              \n",
      "404              \n",
      "\n",
      "[404 rows x 6 columns]\n"
     ]
    }
   ],
   "source": [
    "print(df)"
   ]
  },
  {
   "cell_type": "code",
   "execution_count": 4,
   "id": "0089e698-177a-43a1-a448-645cbb703cf4",
   "metadata": {},
   "outputs": [
    {
     "name": "stdout",
     "output_type": "stream",
     "text": [
      "     PacketCounter  SampleTimeFine  Label  Unnamed: 3  Unnamed: 4 Unnamed: 5\n",
      "1                1        79897288      1         NaN         NaN           \n",
      "2                2        79913955      1         NaN         NaN           \n",
      "3                3        79930622      1         NaN         NaN           \n",
      "4                4        79947289      1         NaN         NaN           \n",
      "5                5        79963956      1         NaN         NaN           \n",
      "..             ...             ...    ...         ...         ...        ...\n",
      "400            400        86547421      3         NaN         NaN           \n",
      "401            401        86564088      3         NaN         NaN           \n",
      "402            402        86580755      3         NaN         NaN           \n",
      "403            403        86597422      3         NaN         NaN           \n",
      "404            404        86614089      3         NaN         NaN           \n",
      "\n",
      "[404 rows x 6 columns]\n"
     ]
    }
   ],
   "source": [
    "df2 = pd.read_csv('Euler_data_left_wrist_label.csv')\n",
    "df2 = df2.drop([0])\n",
    "print(df2)"
   ]
  },
  {
   "cell_type": "code",
   "execution_count": 5,
   "id": "a4ccc08f-6ee1-4975-9db5-c4fab3508df1",
   "metadata": {},
   "outputs": [
    {
     "name": "stdout",
     "output_type": "stream",
     "text": [
      "Shape of original data: (404, 6)\n",
      "Shape of labels data: (404, 6)\n"
     ]
    }
   ],
   "source": [
    "df_train = df\n",
    "label_train = df2\n",
    "print(\"Shape of original data:\", df_train.shape)\n",
    "print(\"Shape of labels data:\", label_train.shape)"
   ]
  },
  {
   "cell_type": "code",
   "execution_count": 10,
   "id": "7a5dfa75-5261-4ab3-b679-746abc403968",
   "metadata": {},
   "outputs": [
    {
     "name": "stdout",
     "output_type": "stream",
     "text": [
      "   PacketCounter  SampleTimeFine    Euler_X    Euler_Y     Euler_Z Unnamed: 11\n",
      "1              1        79897288 -44.006100  39.279148 -159.631714            \n",
      "2              2        79913955 -42.771473  40.480717 -158.369705            \n",
      "3              3        79930622 -42.201080  41.910305 -157.384995            \n",
      "4              4        79947289 -42.532143  43.498165 -156.531906            \n",
      "5              5        79963956 -43.704803  45.181152 -155.828735            \n"
     ]
    }
   ],
   "source": [
    "print(df_train.head())"
   ]
  },
  {
   "cell_type": "code",
   "execution_count": 12,
   "id": "09e66db0-d5b9-41c7-9a38-9ef633cff74b",
   "metadata": {},
   "outputs": [
    {
     "data": {
      "text/html": [
       "<div>\n",
       "<style scoped>\n",
       "    .dataframe tbody tr th:only-of-type {\n",
       "        vertical-align: middle;\n",
       "    }\n",
       "\n",
       "    .dataframe tbody tr th {\n",
       "        vertical-align: top;\n",
       "    }\n",
       "\n",
       "    .dataframe thead th {\n",
       "        text-align: right;\n",
       "    }\n",
       "</style>\n",
       "<table border=\"1\" class=\"dataframe\">\n",
       "  <thead>\n",
       "    <tr style=\"text-align: right;\">\n",
       "      <th></th>\n",
       "      <th>PacketCounter</th>\n",
       "      <th>SampleTimeFine</th>\n",
       "      <th>Euler_X</th>\n",
       "      <th>Euler_Y</th>\n",
       "      <th>Euler_Z</th>\n",
       "      <th>Unnamed: 11</th>\n",
       "      <th>m</th>\n",
       "    </tr>\n",
       "  </thead>\n",
       "  <tbody>\n",
       "    <tr>\n",
       "      <th>1</th>\n",
       "      <td>1</td>\n",
       "      <td>79897288</td>\n",
       "      <td>-44.006100</td>\n",
       "      <td>39.279148</td>\n",
       "      <td>-159.631714</td>\n",
       "      <td></td>\n",
       "      <td>170.181293</td>\n",
       "    </tr>\n",
       "    <tr>\n",
       "      <th>2</th>\n",
       "      <td>2</td>\n",
       "      <td>79913955</td>\n",
       "      <td>-42.771473</td>\n",
       "      <td>40.480717</td>\n",
       "      <td>-158.369705</td>\n",
       "      <td></td>\n",
       "      <td>168.964644</td>\n",
       "    </tr>\n",
       "    <tr>\n",
       "      <th>3</th>\n",
       "      <td>3</td>\n",
       "      <td>79930622</td>\n",
       "      <td>-42.201080</td>\n",
       "      <td>41.910305</td>\n",
       "      <td>-157.384995</td>\n",
       "      <td></td>\n",
       "      <td>168.248154</td>\n",
       "    </tr>\n",
       "    <tr>\n",
       "      <th>4</th>\n",
       "      <td>4</td>\n",
       "      <td>79947289</td>\n",
       "      <td>-42.532143</td>\n",
       "      <td>43.498165</td>\n",
       "      <td>-156.531906</td>\n",
       "      <td></td>\n",
       "      <td>167.938415</td>\n",
       "    </tr>\n",
       "    <tr>\n",
       "      <th>5</th>\n",
       "      <td>5</td>\n",
       "      <td>79963956</td>\n",
       "      <td>-43.704803</td>\n",
       "      <td>45.181152</td>\n",
       "      <td>-155.828735</td>\n",
       "      <td></td>\n",
       "      <td>168.029882</td>\n",
       "    </tr>\n",
       "  </tbody>\n",
       "</table>\n",
       "</div>"
      ],
      "text/plain": [
       "   PacketCounter  SampleTimeFine    Euler_X    Euler_Y     Euler_Z  \\\n",
       "1              1        79897288 -44.006100  39.279148 -159.631714   \n",
       "2              2        79913955 -42.771473  40.480717 -158.369705   \n",
       "3              3        79930622 -42.201080  41.910305 -157.384995   \n",
       "4              4        79947289 -42.532143  43.498165 -156.531906   \n",
       "5              5        79963956 -43.704803  45.181152 -155.828735   \n",
       "\n",
       "  Unnamed: 11           m  \n",
       "1              170.181293  \n",
       "2              168.964644  \n",
       "3              168.248154  \n",
       "4              167.938415  \n",
       "5              168.029882  "
      ]
     },
     "execution_count": 12,
     "metadata": {},
     "output_type": "execute_result"
    }
   ],
   "source": [
    "def magnitude(activity):\n",
    "    x2 = activity['Euler_X'] * activity['Euler_X']\n",
    "    y2 = activity['Euler_Y'] * activity['Euler_Y']\n",
    "    z2 = activity['Euler_Z'] * activity['Euler_Z']\n",
    "    m2 = x2 + y2 + z2\n",
    "    m = m2.apply(lambda x: math.sqrt(x))\n",
    "    return m\n",
    "\n",
    "df_train['m'] = magnitude(df_train)\n",
    "df_train.head()"
   ]
  },
  {
   "cell_type": "code",
   "execution_count": 13,
   "id": "6cefa4b8-788a-4da9-9a86-f6261e6d39f5",
   "metadata": {},
   "outputs": [
    {
     "name": "stdout",
     "output_type": "stream",
     "text": [
      "   PacketCounter  SampleTimeFine  Label  Unnamed: 3  Unnamed: 4 Unnamed: 5\n",
      "1              1        79897288      1         NaN         NaN           \n",
      "2              2        79913955      1         NaN         NaN           \n",
      "3              3        79930622      1         NaN         NaN           \n",
      "4              4        79947289      1         NaN         NaN           \n",
      "5              5        79963956      1         NaN         NaN           \n"
     ]
    }
   ],
   "source": [
    "print(label_train.head())"
   ]
  },
  {
   "cell_type": "code",
   "execution_count": 14,
   "id": "6dd80d57-1abd-477d-bec7-6bb93def8f22",
   "metadata": {},
   "outputs": [
    {
     "data": {
      "text/html": [
       "<div>\n",
       "<style scoped>\n",
       "    .dataframe tbody tr th:only-of-type {\n",
       "        vertical-align: middle;\n",
       "    }\n",
       "\n",
       "    .dataframe tbody tr th {\n",
       "        vertical-align: top;\n",
       "    }\n",
       "\n",
       "    .dataframe thead th {\n",
       "        text-align: right;\n",
       "    }\n",
       "</style>\n",
       "<table border=\"1\" class=\"dataframe\">\n",
       "  <thead>\n",
       "    <tr style=\"text-align: right;\">\n",
       "      <th></th>\n",
       "      <th>index</th>\n",
       "      <th>label</th>\n",
       "    </tr>\n",
       "  </thead>\n",
       "  <tbody>\n",
       "    <tr>\n",
       "      <th>0</th>\n",
       "      <td>1</td>\n",
       "      <td>81</td>\n",
       "    </tr>\n",
       "    <tr>\n",
       "      <th>1</th>\n",
       "      <td>2</td>\n",
       "      <td>169</td>\n",
       "    </tr>\n",
       "    <tr>\n",
       "      <th>2</th>\n",
       "      <td>3</td>\n",
       "      <td>154</td>\n",
       "    </tr>\n",
       "  </tbody>\n",
       "</table>\n",
       "</div>"
      ],
      "text/plain": [
       "   index  label\n",
       "0      1     81\n",
       "1      2    169\n",
       "2      3    154"
      ]
     },
     "execution_count": 14,
     "metadata": {},
     "output_type": "execute_result"
    }
   ],
   "source": [
    "pd.DataFrame.from_dict(Counter(label_train['Label']), orient=\"Index\", columns=['label']).reset_index()"
   ]
  },
  {
   "cell_type": "markdown",
   "id": "c31ff570-ebfb-44ea-96b1-b5be4523cdfa",
   "metadata": {},
   "source": [
    "#### Plot Acceleration Data"
   ]
  },
  {
   "cell_type": "code",
   "execution_count": 15,
   "id": "88031ec4-3422-41b4-afd0-8badd684978a",
   "metadata": {},
   "outputs": [
    {
     "data": {
      "image/png": "[encoded data removed]",
      "text/plain": [
       "<Figure size 720x216 with 1 Axes>"
      ]
     },
     "metadata": {
      "needs_background": "light"
     },
     "output_type": "display_data"
    }
   ],
   "source": [
    "plt.figure(figsize=(10,3))\n",
    "plt.plot(df_train['PacketCounter'], df_train['Euler_X'], linewidth=0.5, color='r', label='x axis')\n",
    "plt.plot(df_train['PacketCounter'], df_train['Euler_Y'], linewidth=0.5, color='b', label='y axis')\n",
    "plt.plot(df_train['PacketCounter'], df_train['Euler_Z'], linewidth=0.5, color='g', label='z axis')\n",
    "plt.xlabel('PacketCounter')\n",
    "plt.ylabel('Euler')\n",
    "plt.legend(loc='center left', bbox_to_anchor=(1, 0.5));"
   ]
  },
  {
   "cell_type": "code",
   "execution_count": 16,
   "id": "8643fc5b-b65f-404d-801e-c93a1c6ede1a",
   "metadata": {},
   "outputs": [
    {
     "data": {
      "image/png": "[encoded data removed]",
      "text/plain": [
       "<Figure size 720x576 with 4 Axes>"
      ]
     },
     "metadata": {
      "needs_background": "light"
     },
     "output_type": "display_data"
    }
   ],
   "source": [
    "fig, ax = plt.subplots(nrows=4, ncols=1, figsize=(10,8))\n",
    "\n",
    "ax[0].set_title('X-axis:')\n",
    "ax[0].plot(df_train['PacketCounter'], df_train['Euler_X'], linewidth=0.5, color='r')\n",
    "\n",
    "ax[1].set_title('Y-axis: ')\n",
    "ax[1].plot(df_train['PacketCounter'], df_train['Euler_Y'], linewidth=0.5, color='b')\n",
    "\n",
    "ax[2].set_title('Z-axis: ')\n",
    "ax[2].plot(df_train['PacketCounter'], df_train['Euler_Z'], linewidth=0.5, color='g')\n",
    "\n",
    "ax[3].set_title('Magnitude, m: Combined X-Y-Z')\n",
    "ax[3].plot(df_train['PacketCounter'], df_train['m'], linewidth=0.5, color='k')\n",
    "\n",
    "fig.subplots_adjust(hspace=.5)"
   ]
  },
  {
   "cell_type": "code",
   "execution_count": 17,
   "id": "f51a527c-98d7-40ce-b73f-34af9eaea512",
   "metadata": {},
   "outputs": [],
   "source": [
    "# Separating data for each activity\n",
    "train_df = pd.concat([df_train, label_train['Label']], axis=1).dropna()\n",
    "columns = ['PacketCounter', 'Euler_X', 'Euler_Y', 'Euler_Z', 'm', 'Label']\n",
    "\n",
    "wrist_on_elbow = train_df[columns][train_df.Label == 1]\n",
    "waack = train_df[columns][train_df.Label == 2]\n",
    "idle = train_df[columns][train_df.Label == 3]"
   ]
  },
  {
   "cell_type": "code",
   "execution_count": 18,
   "id": "3fdd0055-498a-472a-a19f-900e456cdd1c",
   "metadata": {},
   "outputs": [
    {
     "data": {
      "text/html": [
       "<div>\n",
       "<style scoped>\n",
       "    .dataframe tbody tr th:only-of-type {\n",
       "        vertical-align: middle;\n",
       "    }\n",
       "\n",
       "    .dataframe tbody tr th {\n",
       "        vertical-align: top;\n",
       "    }\n",
       "\n",
       "    .dataframe thead th {\n",
       "        text-align: right;\n",
       "    }\n",
       "</style>\n",
       "<table border=\"1\" class=\"dataframe\">\n",
       "  <thead>\n",
       "    <tr style=\"text-align: right;\">\n",
       "      <th></th>\n",
       "      <th>PacketCounter</th>\n",
       "      <th>Euler_X</th>\n",
       "      <th>Euler_Y</th>\n",
       "      <th>Euler_Z</th>\n",
       "      <th>m</th>\n",
       "      <th>Label</th>\n",
       "    </tr>\n",
       "  </thead>\n",
       "  <tbody>\n",
       "    <tr>\n",
       "      <th>1</th>\n",
       "      <td>1</td>\n",
       "      <td>-44.006100</td>\n",
       "      <td>39.279148</td>\n",
       "      <td>-159.631714</td>\n",
       "      <td>170.181293</td>\n",
       "      <td>1</td>\n",
       "    </tr>\n",
       "    <tr>\n",
       "      <th>2</th>\n",
       "      <td>2</td>\n",
       "      <td>-42.771473</td>\n",
       "      <td>40.480717</td>\n",
       "      <td>-158.369705</td>\n",
       "      <td>168.964644</td>\n",
       "      <td>1</td>\n",
       "    </tr>\n",
       "    <tr>\n",
       "      <th>3</th>\n",
       "      <td>3</td>\n",
       "      <td>-42.201080</td>\n",
       "      <td>41.910305</td>\n",
       "      <td>-157.384995</td>\n",
       "      <td>168.248154</td>\n",
       "      <td>1</td>\n",
       "    </tr>\n",
       "    <tr>\n",
       "      <th>4</th>\n",
       "      <td>4</td>\n",
       "      <td>-42.532143</td>\n",
       "      <td>43.498165</td>\n",
       "      <td>-156.531906</td>\n",
       "      <td>167.938415</td>\n",
       "      <td>1</td>\n",
       "    </tr>\n",
       "    <tr>\n",
       "      <th>5</th>\n",
       "      <td>5</td>\n",
       "      <td>-43.704803</td>\n",
       "      <td>45.181152</td>\n",
       "      <td>-155.828735</td>\n",
       "      <td>168.029882</td>\n",
       "      <td>1</td>\n",
       "    </tr>\n",
       "  </tbody>\n",
       "</table>\n",
       "</div>"
      ],
      "text/plain": [
       "   PacketCounter    Euler_X    Euler_Y     Euler_Z           m  Label\n",
       "1              1 -44.006100  39.279148 -159.631714  170.181293      1\n",
       "2              2 -42.771473  40.480717 -158.369705  168.964644      1\n",
       "3              3 -42.201080  41.910305 -157.384995  168.248154      1\n",
       "4              4 -42.532143  43.498165 -156.531906  167.938415      1\n",
       "5              5 -43.704803  45.181152 -155.828735  168.029882      1"
      ]
     },
     "execution_count": 18,
     "metadata": {},
     "output_type": "execute_result"
    }
   ],
   "source": [
    "wrist_on_elbow.head()"
   ]
  },
  {
   "cell_type": "code",
   "execution_count": 19,
   "id": "5d5a4095-b460-4c40-b451-4789077d367b",
   "metadata": {},
   "outputs": [
    {
     "data": {
      "text/html": [
       "<div>\n",
       "<style scoped>\n",
       "    .dataframe tbody tr th:only-of-type {\n",
       "        vertical-align: middle;\n",
       "    }\n",
       "\n",
       "    .dataframe tbody tr th {\n",
       "        vertical-align: top;\n",
       "    }\n",
       "\n",
       "    .dataframe thead th {\n",
       "        text-align: right;\n",
       "    }\n",
       "</style>\n",
       "<table border=\"1\" class=\"dataframe\">\n",
       "  <thead>\n",
       "    <tr style=\"text-align: right;\">\n",
       "      <th></th>\n",
       "      <th>PacketCounter</th>\n",
       "      <th>Euler_X</th>\n",
       "      <th>Euler_Y</th>\n",
       "      <th>Euler_Z</th>\n",
       "      <th>m</th>\n",
       "      <th>Label</th>\n",
       "    </tr>\n",
       "  </thead>\n",
       "  <tbody>\n",
       "    <tr>\n",
       "      <th>82</th>\n",
       "      <td>82</td>\n",
       "      <td>-30.617115</td>\n",
       "      <td>70.549210</td>\n",
       "      <td>-98.037521</td>\n",
       "      <td>124.603187</td>\n",
       "      <td>2</td>\n",
       "    </tr>\n",
       "    <tr>\n",
       "      <th>83</th>\n",
       "      <td>83</td>\n",
       "      <td>-30.334602</td>\n",
       "      <td>70.893494</td>\n",
       "      <td>-97.893745</td>\n",
       "      <td>124.616455</td>\n",
       "      <td>2</td>\n",
       "    </tr>\n",
       "    <tr>\n",
       "      <th>84</th>\n",
       "      <td>84</td>\n",
       "      <td>-30.197964</td>\n",
       "      <td>71.241745</td>\n",
       "      <td>-97.872292</td>\n",
       "      <td>124.764934</td>\n",
       "      <td>2</td>\n",
       "    </tr>\n",
       "    <tr>\n",
       "      <th>85</th>\n",
       "      <td>85</td>\n",
       "      <td>-30.184610</td>\n",
       "      <td>71.600502</td>\n",
       "      <td>-97.962601</td>\n",
       "      <td>125.037649</td>\n",
       "      <td>2</td>\n",
       "    </tr>\n",
       "    <tr>\n",
       "      <th>86</th>\n",
       "      <td>86</td>\n",
       "      <td>-30.168936</td>\n",
       "      <td>71.948547</td>\n",
       "      <td>-98.075966</td>\n",
       "      <td>125.322198</td>\n",
       "      <td>2</td>\n",
       "    </tr>\n",
       "  </tbody>\n",
       "</table>\n",
       "</div>"
      ],
      "text/plain": [
       "    PacketCounter    Euler_X    Euler_Y    Euler_Z           m  Label\n",
       "82             82 -30.617115  70.549210 -98.037521  124.603187      2\n",
       "83             83 -30.334602  70.893494 -97.893745  124.616455      2\n",
       "84             84 -30.197964  71.241745 -97.872292  124.764934      2\n",
       "85             85 -30.184610  71.600502 -97.962601  125.037649      2\n",
       "86             86 -30.168936  71.948547 -98.075966  125.322198      2"
      ]
     },
     "execution_count": 19,
     "metadata": {},
     "output_type": "execute_result"
    }
   ],
   "source": [
    "waack.head()"
   ]
  },
  {
   "cell_type": "code",
   "execution_count": 20,
   "id": "6b694290-472a-4b9a-a051-3071840e19cc",
   "metadata": {},
   "outputs": [
    {
     "data": {
      "text/html": [
       "<div>\n",
       "<style scoped>\n",
       "    .dataframe tbody tr th:only-of-type {\n",
       "        vertical-align: middle;\n",
       "    }\n",
       "\n",
       "    .dataframe tbody tr th {\n",
       "        vertical-align: top;\n",
       "    }\n",
       "\n",
       "    .dataframe thead th {\n",
       "        text-align: right;\n",
       "    }\n",
       "</style>\n",
       "<table border=\"1\" class=\"dataframe\">\n",
       "  <thead>\n",
       "    <tr style=\"text-align: right;\">\n",
       "      <th></th>\n",
       "      <th>PacketCounter</th>\n",
       "      <th>Euler_X</th>\n",
       "      <th>Euler_Y</th>\n",
       "      <th>Euler_Z</th>\n",
       "      <th>m</th>\n",
       "      <th>Label</th>\n",
       "    </tr>\n",
       "  </thead>\n",
       "  <tbody>\n",
       "    <tr>\n",
       "      <th>251</th>\n",
       "      <td>251</td>\n",
       "      <td>-26.200418</td>\n",
       "      <td>70.368416</td>\n",
       "      <td>-113.722214</td>\n",
       "      <td>136.275155</td>\n",
       "      <td>3</td>\n",
       "    </tr>\n",
       "    <tr>\n",
       "      <th>252</th>\n",
       "      <td>252</td>\n",
       "      <td>-28.125341</td>\n",
       "      <td>70.892448</td>\n",
       "      <td>-112.906685</td>\n",
       "      <td>136.252316</td>\n",
       "      <td>3</td>\n",
       "    </tr>\n",
       "    <tr>\n",
       "      <th>253</th>\n",
       "      <td>253</td>\n",
       "      <td>-29.763264</td>\n",
       "      <td>71.331276</td>\n",
       "      <td>-113.279068</td>\n",
       "      <td>137.135517</td>\n",
       "      <td>3</td>\n",
       "    </tr>\n",
       "    <tr>\n",
       "      <th>254</th>\n",
       "      <td>254</td>\n",
       "      <td>-30.825659</td>\n",
       "      <td>71.767731</td>\n",
       "      <td>-114.622955</td>\n",
       "      <td>138.705625</td>\n",
       "      <td>3</td>\n",
       "    </tr>\n",
       "    <tr>\n",
       "      <th>255</th>\n",
       "      <td>255</td>\n",
       "      <td>-31.325451</td>\n",
       "      <td>72.177826</td>\n",
       "      <td>-116.592262</td>\n",
       "      <td>140.658018</td>\n",
       "      <td>3</td>\n",
       "    </tr>\n",
       "  </tbody>\n",
       "</table>\n",
       "</div>"
      ],
      "text/plain": [
       "     PacketCounter    Euler_X    Euler_Y     Euler_Z           m  Label\n",
       "251            251 -26.200418  70.368416 -113.722214  136.275155      3\n",
       "252            252 -28.125341  70.892448 -112.906685  136.252316      3\n",
       "253            253 -29.763264  71.331276 -113.279068  137.135517      3\n",
       "254            254 -30.825659  71.767731 -114.622955  138.705625      3\n",
       "255            255 -31.325451  72.177826 -116.592262  140.658018      3"
      ]
     },
     "execution_count": 20,
     "metadata": {},
     "output_type": "execute_result"
    }
   ],
   "source": [
    "idle.head()"
   ]
  },
  {
   "cell_type": "markdown",
   "id": "ff06a9ba-0401-420b-b09f-a2a49147b029",
   "metadata": {},
   "source": [
    "#### Plot Activity Data"
   ]
  },
  {
   "cell_type": "code",
   "execution_count": 21,
   "id": "4fe8f62e-ee28-401c-b6d4-5e7a3bfed13d",
   "metadata": {},
   "outputs": [
    {
     "data": {
      "image/png": "[encoded data removed]",
      "text/plain": [
       "<Figure size 720x576 with 3 Axes>"
      ]
     },
     "metadata": {
      "needs_background": "light"
     },
     "output_type": "display_data"
    }
   ],
   "source": [
    "def plot_axis(ax, x, y, title):\n",
    "    ax.plot(x, y)\n",
    "    ax.set_title(title)\n",
    "    ax.xaxis.set_visible(False)\n",
    "    ax.set_ylim([min(y) - np.std(y), max(y) + np.std(y)])\n",
    "    ax.set_xlim([min(x), max(x)])\n",
    "    ax.grid(True)\n",
    "    \n",
    "def plot_activity(activities, titles):\n",
    "    fig, axs = plt.subplots(nrows=len(activities), figsize=(10, 8))\n",
    "    for i in range(0, len(activities)):\n",
    "        plot_axis(axs[i], activities[i]['PacketCounter'], activities[i]['m'], titles[i])\n",
    "    plt.subplots_adjust(hspace=0.2)\n",
    "    plt.show()\n",
    "\n",
    "plot_activity([wrist_on_elbow, waack, idle],\n",
    "              ['Wrist on Elbow', 'Waack', 'Idle'])"
   ]
  },
  {
   "cell_type": "markdown",
   "id": "f0d3399a-7ff5-47fd-942f-48d6d632f368",
   "metadata": {},
   "source": [
    "#### Split training data"
   ]
  },
  {
   "cell_type": "code",
   "execution_count": 22,
   "id": "ef9500cb-1062-40e9-8e04-c2eee9cfb10d",
   "metadata": {},
   "outputs": [],
   "source": [
    "X_train, X_test, y_train, y_test = train_test_split(train_df, label_train, test_size = 0.2, random_state = 0)"
   ]
  },
  {
   "cell_type": "code",
   "execution_count": 23,
   "id": "6b39e27b-7638-4c8c-bfc7-985d299f6641",
   "metadata": {},
   "outputs": [
    {
     "name": "stdout",
     "output_type": "stream",
     "text": [
      "X_train shape: (323, 8)\n",
      "y_train shape: (323, 6)\n"
     ]
    }
   ],
   "source": [
    "print(\"X_train shape:\", X_train.shape)\n",
    "print(\"y_train shape:\", y_train.shape)"
   ]
  },
  {
   "cell_type": "code",
   "execution_count": 24,
   "id": "9058c61a-3e18-484c-aa15-6ae8f52af613",
   "metadata": {},
   "outputs": [
    {
     "name": "stdout",
     "output_type": "stream",
     "text": [
      "X_test shape: (81, 8)\n",
      "y_test shape: (81, 6)\n"
     ]
    }
   ],
   "source": [
    "print(\"X_test shape:\", X_test.shape)\n",
    "print(\"y_test shape:\", y_test.shape)"
   ]
  },
  {
   "cell_type": "code",
   "execution_count": 25,
   "id": "5c2ae12f-b9b9-4a81-85e5-ebab0efb8edb",
   "metadata": {},
   "outputs": [],
   "source": [
    "def create_dataset(X, y, time_steps=1, step=1):\n",
    "    Xs, ys = [], []\n",
    "    for i in range(0, len(X) - time_steps, step):\n",
    "        v = X.iloc[i:(i + time_steps)].values\n",
    "        labels = label_train['Label'].iloc[i: i + time_steps]\n",
    "        Xs.append(v)        \n",
    "        ys.append(stats.mode(labels)[0][0])\n",
    "    return np.array(Xs), np.array(ys).reshape(-1, 1)\n",
    "\n",
    "TIME_STEPS = 300 #400 #200 #300\n",
    "STEP = 150  #100 #60 #80 #40 #150\n",
    "\n",
    "X_train, y_train = create_dataset(\n",
    "    df[['Euler_X', 'Euler_Y', 'Euler_Z']], \n",
    "    TIME_STEPS, \n",
    "    STEP\n",
    ")\n",
    "\n",
    "X_test, y_test = create_dataset(\n",
    "    df[['Euler_X', 'Euler_Y', 'Euler_Z']], \n",
    "    TIME_STEPS, \n",
    "    STEP\n",
    ")"
   ]
  },
  {
   "cell_type": "code",
   "execution_count": 26,
   "id": "f92ad08f-1886-4c48-b8a0-81a19fa8b31b",
   "metadata": {},
   "outputs": [
    {
     "name": "stdout",
     "output_type": "stream",
     "text": [
      "(254, 150, 3) (254, 1)\n"
     ]
    }
   ],
   "source": [
    "print(X_train.shape, y_train.shape)"
   ]
  },
  {
   "cell_type": "code",
   "execution_count": 27,
   "id": "8a9fed22-3dc4-453b-be2a-8933bc95fde9",
   "metadata": {},
   "outputs": [],
   "source": [
    "enc = OneHotEncoder(handle_unknown='ignore', sparse=False)\n",
    "\n",
    "enc = enc.fit(y_train)\n",
    "\n",
    "y_train = enc.transform(y_train)\n",
    "y_test = enc.transform(y_test)"
   ]
  },
  {
   "cell_type": "code",
   "execution_count": 28,
   "id": "b2a662ce-d3f5-4fbb-878c-a6fe726fe3a9",
   "metadata": {},
   "outputs": [
    {
     "name": "stdout",
     "output_type": "stream",
     "text": [
      "(254, 150, 3) (254, 3)\n"
     ]
    }
   ],
   "source": [
    "print(X_train.shape, y_train.shape)"
   ]
  },
  {
   "cell_type": "markdown",
   "id": "980b7bf1-fcd5-4510-926a-735d8405823f",
   "metadata": {},
   "source": [
    "#### Train the model"
   ]
  },
  {
   "cell_type": "code",
   "execution_count": 29,
   "id": "1aa88a2c-34d7-48a6-ad95-82cfc2998dcb",
   "metadata": {},
   "outputs": [],
   "source": [
    "model = keras.Sequential()\n",
    "model.add(\n",
    "    keras.layers.Bidirectional(\n",
    "      keras.layers.LSTM(\n",
    "          units=128, \n",
    "          input_shape=[X_train.shape[0], X_train.shape[1]]\n",
    "      )\n",
    "    )\n",
    ")\n",
    "model.add(keras.layers.Dropout(rate=0.5))\n",
    "model.add(keras.layers.Dense(units=128, activation='relu'))\n",
    "model.add(keras.layers.Dense(y_train.shape[1], activation='softmax'))\n",
    "model.compile(loss='categorical_crossentropy', optimizer='adam', metrics=['acc'])"
   ]
  },
  {
   "cell_type": "code",
   "execution_count": 30,
   "id": "acb8aa07-29ff-4d74-80ba-12e65ffad5e1",
   "metadata": {},
   "outputs": [
    {
     "name": "stdout",
     "output_type": "stream",
     "text": [
      "Train on 228 samples, validate on 26 samples\n",
      "Epoch 1/20\n",
      "228/228 [==============================] - 4s 17ms/sample - loss: 1.0270 - acc: 0.4868 - val_loss: 1.7765 - val_acc: 0.0000e+00\n",
      "Epoch 2/20\n",
      "228/228 [==============================] - 1s 4ms/sample - loss: 0.4192 - acc: 0.8596 - val_loss: 1.9706 - val_acc: 0.0000e+00\n",
      "Epoch 3/20\n",
      "228/228 [==============================] - 1s 4ms/sample - loss: 0.2576 - acc: 0.9035 - val_loss: 1.9313 - val_acc: 0.0000e+00\n",
      "Epoch 4/20\n",
      "228/228 [==============================] - 1s 4ms/sample - loss: 0.1940 - acc: 0.9079 - val_loss: 1.8943 - val_acc: 0.0000e+00\n",
      "Epoch 5/20\n",
      "228/228 [==============================] - 1s 4ms/sample - loss: 0.1349 - acc: 0.9342 - val_loss: 1.8537 - val_acc: 0.0000e+00\n",
      "Epoch 6/20\n",
      "228/228 [==============================] - 1s 4ms/sample - loss: 0.1160 - acc: 0.9430 - val_loss: 1.9099 - val_acc: 0.0000e+00\n",
      "Epoch 7/20\n",
      "228/228 [==============================] - 1s 4ms/sample - loss: 0.0832 - acc: 0.9825 - val_loss: 1.9435 - val_acc: 0.1538\n",
      "Epoch 8/20\n",
      "228/228 [==============================] - 1s 4ms/sample - loss: 0.0911 - acc: 0.9605 - val_loss: 1.9192 - val_acc: 0.2308\n",
      "Epoch 9/20\n",
      "228/228 [==============================] - 1s 4ms/sample - loss: 0.0824 - acc: 0.9649 - val_loss: 1.9337 - val_acc: 0.3077\n",
      "Epoch 10/20\n",
      "228/228 [==============================] - 1s 4ms/sample - loss: 0.0717 - acc: 0.9693 - val_loss: 2.0297 - val_acc: 0.3077\n",
      "Epoch 11/20\n",
      "228/228 [==============================] - 1s 4ms/sample - loss: 0.0460 - acc: 0.9868 - val_loss: 2.1575 - val_acc: 0.3077\n",
      "Epoch 12/20\n",
      "228/228 [==============================] - 1s 4ms/sample - loss: 0.0651 - acc: 0.9781 - val_loss: 1.8896 - val_acc: 0.4231\n",
      "Epoch 13/20\n",
      "228/228 [==============================] - 1s 4ms/sample - loss: 0.0358 - acc: 1.0000 - val_loss: 1.4724 - val_acc: 0.5000\n",
      "Epoch 14/20\n",
      "228/228 [==============================] - 1s 4ms/sample - loss: 0.0366 - acc: 0.9868 - val_loss: 1.1756 - val_acc: 0.5385\n",
      "Epoch 15/20\n",
      "228/228 [==============================] - 1s 4ms/sample - loss: 0.0308 - acc: 0.9912 - val_loss: 1.1349 - val_acc: 0.5385\n",
      "Epoch 16/20\n",
      "228/228 [==============================] - 1s 4ms/sample - loss: 0.0238 - acc: 1.0000 - val_loss: 1.1732 - val_acc: 0.5000\n",
      "Epoch 17/20\n",
      "228/228 [==============================] - 1s 4ms/sample - loss: 0.0330 - acc: 0.9912 - val_loss: 1.1491 - val_acc: 0.5385\n",
      "Epoch 18/20\n",
      "228/228 [==============================] - 1s 4ms/sample - loss: 0.0310 - acc: 0.9825 - val_loss: 1.1310 - val_acc: 0.5385\n",
      "Epoch 19/20\n",
      "228/228 [==============================] - 1s 4ms/sample - loss: 0.0218 - acc: 0.9956 - val_loss: 1.1905 - val_acc: 0.5385\n",
      "Epoch 20/20\n",
      "228/228 [==============================] - 1s 4ms/sample - loss: 0.0282 - acc: 0.9912 - val_loss: 1.0841 - val_acc: 0.5769\n"
     ]
    }
   ],
   "source": [
    "history = model.fit(\n",
    "    X_train, y_train,\n",
    "    epochs=20,\n",
    "    batch_size=64, #64 #128 #32\n",
    "    validation_split=0.1,\n",
    "    shuffle=True\n",
    ")"
   ]
  },
  {
   "cell_type": "markdown",
   "id": "cc916602-8b91-4942-a4e2-6e55a7912bbd",
   "metadata": {},
   "source": [
    "#### Evaluation"
   ]
  },
  {
   "cell_type": "code",
   "execution_count": 31,
   "id": "8b46756b-8233-4ff2-bf2c-d197dd3b214f",
   "metadata": {},
   "outputs": [
    {
     "data": {
      "image/png": "[encoded data removed]",
      "text/plain": [
       "<Figure size 432x288 with 1 Axes>"
      ]
     },
     "metadata": {
      "needs_background": "light"
     },
     "output_type": "display_data"
    }
   ],
   "source": [
    "plt.plot(history.history['loss'], label='train')\n",
    "plt.plot(history.history['val_loss'], label='test')\n",
    "plt.legend();"
   ]
  },
  {
   "cell_type": "code",
   "execution_count": 32,
   "id": "12e3ff24-d0d3-446a-9551-2c40d6c6a5fc",
   "metadata": {},
   "outputs": [
    {
     "data": {
      "image/png": "[encoded data removed]",
      "text/plain": [
       "<Figure size 432x288 with 1 Axes>"
      ]
     },
     "metadata": {
      "needs_background": "light"
     },
     "output_type": "display_data"
    }
   ],
   "source": [
    "plt.plot(history.history['acc'], label='train')\n",
    "plt.plot(history.history['val_acc'], label='test')\n",
    "plt.legend();"
   ]
  },
  {
   "cell_type": "code",
   "execution_count": 33,
   "id": "7c96a67c-164c-4736-a493-33c9c59570a4",
   "metadata": {},
   "outputs": [
    {
     "name": "stdout",
     "output_type": "stream",
     "text": [
      "254/254 [==============================] - 0s 781us/sample - loss: 0.1249 - acc: 0.9528\n"
     ]
    },
    {
     "data": {
      "text/plain": [
       "[0.12493295861567613, 0.9527559]"
      ]
     },
     "execution_count": 33,
     "metadata": {},
     "output_type": "execute_result"
    }
   ],
   "source": [
    "model.evaluate(X_test, y_test)"
   ]
  },
  {
   "cell_type": "code",
   "execution_count": 34,
   "id": "2fa0d1a8-7d02-4372-ba58-a0387cff1794",
   "metadata": {},
   "outputs": [
    {
     "name": "stdout",
     "output_type": "stream",
     "text": [
      "254/254 [==============================] - 0s 793us/sample - loss: 0.1249 - acc: 0.9528\n"
     ]
    },
    {
     "data": {
      "text/plain": [
       "[0.12493295861567613, 0.9527559]"
      ]
     },
     "execution_count": 34,
     "metadata": {},
     "output_type": "execute_result"
    }
   ],
   "source": [
    "model.evaluate(X_train, y_train)"
   ]
  },
  {
   "cell_type": "markdown",
   "id": "ebc228f8-9cc2-4bf6-a310-742f60d1c7c8",
   "metadata": {},
   "source": [
    "#### Confusion Matrix"
   ]
  },
  {
   "cell_type": "code",
   "execution_count": 35,
   "id": "c9ccfdeb-2b95-4e8a-a3f6-09488ee036b3",
   "metadata": {},
   "outputs": [],
   "source": [
    "y_pred = model.predict(X_test)"
   ]
  },
  {
   "cell_type": "code",
   "execution_count": 36,
   "id": "1f77f538-91f1-4820-ae12-f2b4e2c61592",
   "metadata": {},
   "outputs": [],
   "source": [
    "column_names = 'Wrist_on_Elbow', 'Waack', 'Idle'\n",
    "\n",
    "def plot_cm(y_true, y_pred, class_names):\n",
    "  cm = confusion_matrix(y_true, y_pred)\n",
    "  fig, ax = plt.subplots(figsize=(18, 16)) \n",
    "  ax = sns.heatmap(\n",
    "      cm, \n",
    "      annot=True, \n",
    "      fmt=\"d\", \n",
    "      cmap=sns.diverging_palette(220, 20, n=7),\n",
    "      ax=ax\n",
    "  )\n",
    "\n",
    "  plt.ylabel('Actual')\n",
    "  plt.xlabel('Predicted')\n",
    "  ax.set_xticklabels(column_names)\n",
    "  ax.set_yticklabels(column_names)\n",
    "  b, t = plt.ylim() # discover the values for bottom and top\n",
    "  #b += 0.5 # Add 0.5 to the bottom\n",
    "  #t -= 0.5 # Subtract 0.5 from the top\n",
    "  plt.ylim(b, t) # update the ylim(bottom, top) values\n",
    "  plt.show() # ta-da!"
   ]
  },
  {
   "cell_type": "code",
   "execution_count": 37,
   "id": "090d6d30-5a0d-41a5-8a9a-36d96545ef81",
   "metadata": {},
   "outputs": [
    {
     "data": {
      "image/png": "[encoded data removed]",
      "text/plain": [
       "<Figure size 1296x1152 with 2 Axes>"
      ]
     },
     "metadata": {
      "needs_background": "light"
     },
     "output_type": "display_data"
    }
   ],
   "source": [
    "plot_cm(\n",
    "  enc.inverse_transform(y_test),\n",
    "  enc.inverse_transform(y_pred),\n",
    "  enc.categories_[0]\n",
    ")"
   ]
  },
  {
   "cell_type": "code",
   "execution_count": null,
   "id": "1b505018-8796-4514-b320-31b5b065fc6f",
   "metadata": {},
   "outputs": [],
   "source": []
  },
  {
   "cell_type": "code",
   "execution_count": null,
   "id": "267406f8-769d-4480-b622-b4410036335b",
   "metadata": {},
   "outputs": [],
   "source": []
  },
  {
   "cell_type": "code",
   "execution_count": null,
   "id": "fad2a60e-978f-428e-87d4-274ec5e80a1c",
   "metadata": {},
   "outputs": [],
   "source": []
  }
 ],
 "metadata": {
  "kernelspec": {
   "display_name": "Python 3",
   "language": "python",
   "name": "python3"
  },
  "language_info": {
   "codemirror_mode": {
    "name": "ipython",
    "version": 3
   },
   "file_extension": ".py",
   "mimetype": "text/x-python",
   "name": "python",
   "nbconvert_exporter": "python",
   "pygments_lexer": "ipython3",
   "version": "3.6.13"
  }
 },
 "nbformat": 4,
 "nbformat_minor": 5
}
