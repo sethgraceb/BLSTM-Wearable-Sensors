{
 "cells": [
  {
   "cell_type": "markdown",
   "id": "00efe04b-fae0-4ad4-bb80-6206c1ba4157",
   "metadata": {},
   "source": [
    "# Bidirectional LSTM (Left Wrist)"
   ]
  },
  {
   "cell_type": "markdown",
   "id": "6ab8766d-8d28-4e27-9514-3112e34a1b89",
   "metadata": {},
   "source": [
    "##### https://www.kaggle.com/malekzadeh/human-activity-recognition-with-mobile-sensing"
   ]
  },
  {
   "cell_type": "markdown",
   "id": "17ccfc3f-200a-46ce-86f3-75e2c79069fe",
   "metadata": {},
   "source": [
    "##### https://github.com/akhuperkar/HAR-Smartphone-Accelerometer/blob/master/HAR%20Using%20Machine%20Learning%20.ipynb"
   ]
  },
  {
   "cell_type": "markdown",
   "id": "c25e1702-1934-4512-9505-e06703ae6f1c",
   "metadata": {},
   "source": [
    "#### Import Libraries"
   ]
  },
  {
   "cell_type": "code",
   "execution_count": 1,
   "id": "b2500ac0-0050-4d0e-9705-3a2f3d38b7fc",
   "metadata": {},
   "outputs": [],
   "source": [
    "import os\n",
    "import numpy as np\n",
    "import pandas as pd\n",
    "import scipy.io as sio\n",
    "import scipy.stats\n",
    "import math\n",
    "\n",
    "import matplotlib.pyplot as plt\n",
    "%matplotlib inline\n",
    "\n",
    "from scipy import stats\n",
    "import seaborn as sns\n",
    "from tensorflow import keras\n",
    "\n",
    "from sklearn.preprocessing import OneHotEncoder\n",
    "from sklearn.preprocessing import StandardScaler\n",
    "from sklearn.metrics import accuracy_score, confusion_matrix, classification_report\n",
    "from sklearn.model_selection import cross_val_score, GridSearchCV, RandomizedSearchCV, train_test_split\n",
    "\n",
    "from collections import defaultdict, Counter\n",
    "\n",
    "import warnings\n",
    "warnings.filterwarnings(\"ignore\")"
   ]
  },
  {
   "cell_type": "code",
   "execution_count": 4,
   "id": "ee210cfa-4bb4-41e1-9f63-f4917af1f53c",
   "metadata": {},
   "outputs": [],
   "source": [
    "df = pd.read_csv('gyr_data_left_wrist.csv')\n",
    "df = df.drop([0])"
   ]
  },
  {
   "cell_type": "code",
   "execution_count": 5,
   "id": "8626e60a-b64b-47dc-968b-fa2fc1716d37",
   "metadata": {},
   "outputs": [
    {
     "name": "stdout",
     "output_type": "stream",
     "text": [
      "     PacketCounter  SampleTimeFine       Gyr_X       Gyr_Y      Gyr_Z  \\\n",
      "1                1        79897288  -58.390606   93.736000  25.881578   \n",
      "2                2        79913955  -74.599442   98.117401  33.774197   \n",
      "3                3        79930622  -96.426018  101.997231  44.852615   \n",
      "4                4        79947289 -124.858711  103.756897  57.781734   \n",
      "5                5        79963956 -151.972092  104.858955  69.761574   \n",
      "..             ...             ...         ...         ...        ...   \n",
      "400            400        86547421  -23.316536   -4.813910  -0.109783   \n",
      "401            401        86564088  -20.502579   -4.401914  -3.276708   \n",
      "402            402        86580755  -13.027262   -3.750080  -3.135976   \n",
      "403            403        86597422  -16.389172  -10.882780  -4.867873   \n",
      "404            404        86614089  -27.302483  -16.614273  -9.451398   \n",
      "\n",
      "    Unnamed: 11  \n",
      "1                \n",
      "2                \n",
      "3                \n",
      "4                \n",
      "5                \n",
      "..          ...  \n",
      "400              \n",
      "401              \n",
      "402              \n",
      "403              \n",
      "404              \n",
      "\n",
      "[404 rows x 6 columns]\n"
     ]
    }
   ],
   "source": [
    "print(df)"
   ]
  },
  {
   "cell_type": "code",
   "execution_count": 6,
   "id": "0089e698-177a-43a1-a448-645cbb703cf4",
   "metadata": {},
   "outputs": [
    {
     "name": "stdout",
     "output_type": "stream",
     "text": [
      "     PacketCounter  SampleTimeFine  Label\n",
      "1                1        79897288      1\n",
      "2                2        79913955      1\n",
      "3                3        79930622      1\n",
      "4                4        79947289      1\n",
      "5                5        79963956      1\n",
      "..             ...             ...    ...\n",
      "400            400        86547421      3\n",
      "401            401        86564088      3\n",
      "402            402        86580755      3\n",
      "403            403        86597422      3\n",
      "404            404        86614089      3\n",
      "\n",
      "[404 rows x 3 columns]\n"
     ]
    }
   ],
   "source": [
    "df2 = pd.read_csv('gyr_data_left_wrist_label.csv')\n",
    "df2 = df2.drop([0])\n",
    "print(df2)"
   ]
  },
  {
   "cell_type": "code",
   "execution_count": 7,
   "id": "a4ccc08f-6ee1-4975-9db5-c4fab3508df1",
   "metadata": {},
   "outputs": [
    {
     "name": "stdout",
     "output_type": "stream",
     "text": [
      "Shape of original data: (404, 6)\n",
      "Shape of labels data: (404, 3)\n"
     ]
    }
   ],
   "source": [
    "df_train = df\n",
    "label_train = df2\n",
    "print(\"Shape of original data:\", df_train.shape)\n",
    "print(\"Shape of labels data:\", label_train.shape)"
   ]
  },
  {
   "cell_type": "code",
   "execution_count": 8,
   "id": "7a5dfa75-5261-4ab3-b679-746abc403968",
   "metadata": {},
   "outputs": [
    {
     "name": "stdout",
     "output_type": "stream",
     "text": [
      "   PacketCounter  SampleTimeFine       Gyr_X       Gyr_Y      Gyr_Z  \\\n",
      "1              1        79897288  -58.390606   93.736000  25.881578   \n",
      "2              2        79913955  -74.599442   98.117401  33.774197   \n",
      "3              3        79930622  -96.426018  101.997231  44.852615   \n",
      "4              4        79947289 -124.858711  103.756897  57.781734   \n",
      "5              5        79963956 -151.972092  104.858955  69.761574   \n",
      "\n",
      "  Unnamed: 11  \n",
      "1              \n",
      "2              \n",
      "3              \n",
      "4              \n",
      "5              \n"
     ]
    }
   ],
   "source": [
    "print(df_train.head())"
   ]
  },
  {
   "cell_type": "code",
   "execution_count": 10,
   "id": "09e66db0-d5b9-41c7-9a38-9ef633cff74b",
   "metadata": {},
   "outputs": [
    {
     "data": {
      "text/html": [
       "<div>\n",
       "<style scoped>\n",
       "    .dataframe tbody tr th:only-of-type {\n",
       "        vertical-align: middle;\n",
       "    }\n",
       "\n",
       "    .dataframe tbody tr th {\n",
       "        vertical-align: top;\n",
       "    }\n",
       "\n",
       "    .dataframe thead th {\n",
       "        text-align: right;\n",
       "    }\n",
       "</style>\n",
       "<table border=\"1\" class=\"dataframe\">\n",
       "  <thead>\n",
       "    <tr style=\"text-align: right;\">\n",
       "      <th></th>\n",
       "      <th>PacketCounter</th>\n",
       "      <th>SampleTimeFine</th>\n",
       "      <th>Gyr_X</th>\n",
       "      <th>Gyr_Y</th>\n",
       "      <th>Gyr_Z</th>\n",
       "      <th>Unnamed: 11</th>\n",
       "      <th>m</th>\n",
       "    </tr>\n",
       "  </thead>\n",
       "  <tbody>\n",
       "    <tr>\n",
       "      <th>1</th>\n",
       "      <td>1</td>\n",
       "      <td>79897288</td>\n",
       "      <td>-58.390606</td>\n",
       "      <td>93.736000</td>\n",
       "      <td>25.881578</td>\n",
       "      <td></td>\n",
       "      <td>113.427319</td>\n",
       "    </tr>\n",
       "    <tr>\n",
       "      <th>2</th>\n",
       "      <td>2</td>\n",
       "      <td>79913955</td>\n",
       "      <td>-74.599442</td>\n",
       "      <td>98.117401</td>\n",
       "      <td>33.774197</td>\n",
       "      <td></td>\n",
       "      <td>127.799833</td>\n",
       "    </tr>\n",
       "    <tr>\n",
       "      <th>3</th>\n",
       "      <td>3</td>\n",
       "      <td>79930622</td>\n",
       "      <td>-96.426018</td>\n",
       "      <td>101.997231</td>\n",
       "      <td>44.852615</td>\n",
       "      <td></td>\n",
       "      <td>147.353890</td>\n",
       "    </tr>\n",
       "    <tr>\n",
       "      <th>4</th>\n",
       "      <td>4</td>\n",
       "      <td>79947289</td>\n",
       "      <td>-124.858711</td>\n",
       "      <td>103.756897</td>\n",
       "      <td>57.781734</td>\n",
       "      <td></td>\n",
       "      <td>172.319239</td>\n",
       "    </tr>\n",
       "    <tr>\n",
       "      <th>5</th>\n",
       "      <td>5</td>\n",
       "      <td>79963956</td>\n",
       "      <td>-151.972092</td>\n",
       "      <td>104.858955</td>\n",
       "      <td>69.761574</td>\n",
       "      <td></td>\n",
       "      <td>197.376783</td>\n",
       "    </tr>\n",
       "  </tbody>\n",
       "</table>\n",
       "</div>"
      ],
      "text/plain": [
       "   PacketCounter  SampleTimeFine       Gyr_X       Gyr_Y      Gyr_Z  \\\n",
       "1              1        79897288  -58.390606   93.736000  25.881578   \n",
       "2              2        79913955  -74.599442   98.117401  33.774197   \n",
       "3              3        79930622  -96.426018  101.997231  44.852615   \n",
       "4              4        79947289 -124.858711  103.756897  57.781734   \n",
       "5              5        79963956 -151.972092  104.858955  69.761574   \n",
       "\n",
       "  Unnamed: 11           m  \n",
       "1              113.427319  \n",
       "2              127.799833  \n",
       "3              147.353890  \n",
       "4              172.319239  \n",
       "5              197.376783  "
      ]
     },
     "execution_count": 10,
     "metadata": {},
     "output_type": "execute_result"
    }
   ],
   "source": [
    "def magnitude(activity):\n",
    "    x2 = activity['Gyr_X'] * activity['Gyr_X']\n",
    "    y2 = activity['Gyr_Y'] * activity['Gyr_Y']\n",
    "    z2 = activity['Gyr_Z'] * activity['Gyr_Z']\n",
    "    m2 = x2 + y2 + z2\n",
    "    m = m2.apply(lambda x: math.sqrt(x))\n",
    "    return m\n",
    "\n",
    "df_train['m'] = magnitude(df_train)\n",
    "df_train.head()"
   ]
  },
  {
   "cell_type": "code",
   "execution_count": 11,
   "id": "6cefa4b8-788a-4da9-9a86-f6261e6d39f5",
   "metadata": {},
   "outputs": [
    {
     "name": "stdout",
     "output_type": "stream",
     "text": [
      "   PacketCounter  SampleTimeFine  Label\n",
      "1              1        79897288      1\n",
      "2              2        79913955      1\n",
      "3              3        79930622      1\n",
      "4              4        79947289      1\n",
      "5              5        79963956      1\n"
     ]
    }
   ],
   "source": [
    "print(label_train.head())"
   ]
  },
  {
   "cell_type": "code",
   "execution_count": 12,
   "id": "6dd80d57-1abd-477d-bec7-6bb93def8f22",
   "metadata": {},
   "outputs": [
    {
     "data": {
      "text/html": [
       "<div>\n",
       "<style scoped>\n",
       "    .dataframe tbody tr th:only-of-type {\n",
       "        vertical-align: middle;\n",
       "    }\n",
       "\n",
       "    .dataframe tbody tr th {\n",
       "        vertical-align: top;\n",
       "    }\n",
       "\n",
       "    .dataframe thead th {\n",
       "        text-align: right;\n",
       "    }\n",
       "</style>\n",
       "<table border=\"1\" class=\"dataframe\">\n",
       "  <thead>\n",
       "    <tr style=\"text-align: right;\">\n",
       "      <th></th>\n",
       "      <th>index</th>\n",
       "      <th>label</th>\n",
       "    </tr>\n",
       "  </thead>\n",
       "  <tbody>\n",
       "    <tr>\n",
       "      <th>0</th>\n",
       "      <td>1</td>\n",
       "      <td>81</td>\n",
       "    </tr>\n",
       "    <tr>\n",
       "      <th>1</th>\n",
       "      <td>2</td>\n",
       "      <td>169</td>\n",
       "    </tr>\n",
       "    <tr>\n",
       "      <th>2</th>\n",
       "      <td>3</td>\n",
       "      <td>154</td>\n",
       "    </tr>\n",
       "  </tbody>\n",
       "</table>\n",
       "</div>"
      ],
      "text/plain": [
       "   index  label\n",
       "0      1     81\n",
       "1      2    169\n",
       "2      3    154"
      ]
     },
     "execution_count": 12,
     "metadata": {},
     "output_type": "execute_result"
    }
   ],
   "source": [
    "pd.DataFrame.from_dict(Counter(label_train['Label']), orient=\"Index\", columns=['label']).reset_index()"
   ]
  },
  {
   "cell_type": "markdown",
   "id": "c31ff570-ebfb-44ea-96b1-b5be4523cdfa",
   "metadata": {},
   "source": [
    "#### Plot Acceleration Data"
   ]
  },
  {
   "cell_type": "code",
   "execution_count": 13,
   "id": "88031ec4-3422-41b4-afd0-8badd684978a",
   "metadata": {},
   "outputs": [
    {
     "data": {
      "image/png": "[encoded data removed]",
      "text/plain": [
       "<Figure size 720x216 with 1 Axes>"
      ]
     },
     "metadata": {
      "needs_background": "light"
     },
     "output_type": "display_data"
    }
   ],
   "source": [
    "plt.figure(figsize=(10,3))\n",
    "plt.plot(df_train['PacketCounter'], df_train['Gyr_X'], linewidth=0.5, color='r', label='x axis')\n",
    "plt.plot(df_train['PacketCounter'], df_train['Gyr_Y'], linewidth=0.5, color='b', label='y axis')\n",
    "plt.plot(df_train['PacketCounter'], df_train['Gyr_Z'], linewidth=0.5, color='g', label='z axis')\n",
    "plt.xlabel('PacketCounter')\n",
    "plt.ylabel('Gyr')\n",
    "plt.legend(loc='center left', bbox_to_anchor=(1, 0.5));"
   ]
  },
  {
   "cell_type": "code",
   "execution_count": 14,
   "id": "8643fc5b-b65f-404d-801e-c93a1c6ede1a",
   "metadata": {},
   "outputs": [
    {
     "data": {
      "image/png": "[encoded data removed]",
      "text/plain": [
       "<Figure size 720x576 with 4 Axes>"
      ]
     },
     "metadata": {
      "needs_background": "light"
     },
     "output_type": "display_data"
    }
   ],
   "source": [
    "fig, ax = plt.subplots(nrows=4, ncols=1, figsize=(10,8))\n",
    "\n",
    "ax[0].set_title('X-axis:')\n",
    "ax[0].plot(df_train['PacketCounter'], df_train['Gyr_X'], linewidth=0.5, color='r')\n",
    "\n",
    "ax[1].set_title('Y-axis: ')\n",
    "ax[1].plot(df_train['PacketCounter'], df_train['Gyr_Y'], linewidth=0.5, color='b')\n",
    "\n",
    "ax[2].set_title('Z-axis: ')\n",
    "ax[2].plot(df_train['PacketCounter'], df_train['Gyr_Z'], linewidth=0.5, color='g')\n",
    "\n",
    "ax[3].set_title('Magnitude, m: Combined X-Y-Z')\n",
    "ax[3].plot(df_train['PacketCounter'], df_train['m'], linewidth=0.5, color='k')\n",
    "\n",
    "fig.subplots_adjust(hspace=.5)"
   ]
  },
  {
   "cell_type": "code",
   "execution_count": 15,
   "id": "f51a527c-98d7-40ce-b73f-34af9eaea512",
   "metadata": {},
   "outputs": [],
   "source": [
    "# Separating data for each activity\n",
    "train_df = pd.concat([df_train, label_train['Label']], axis=1).dropna()\n",
    "columns = ['PacketCounter', 'Gyr_X', 'Gyr_Y', 'Gyr_Z', 'm', 'Label']\n",
    "\n",
    "idle = train_df[columns][train_df.Label == 1]\n",
    "waack = train_df[columns][train_df.Label == 2]\n",
    "wrist_on_elbow = train_df[columns][train_df.Label == 3]"
   ]
  },
  {
   "cell_type": "code",
   "execution_count": 16,
   "id": "3fdd0055-498a-472a-a19f-900e456cdd1c",
   "metadata": {},
   "outputs": [
    {
     "data": {
      "text/html": [
       "<div>\n",
       "<style scoped>\n",
       "    .dataframe tbody tr th:only-of-type {\n",
       "        vertical-align: middle;\n",
       "    }\n",
       "\n",
       "    .dataframe tbody tr th {\n",
       "        vertical-align: top;\n",
       "    }\n",
       "\n",
       "    .dataframe thead th {\n",
       "        text-align: right;\n",
       "    }\n",
       "</style>\n",
       "<table border=\"1\" class=\"dataframe\">\n",
       "  <thead>\n",
       "    <tr style=\"text-align: right;\">\n",
       "      <th></th>\n",
       "      <th>PacketCounter</th>\n",
       "      <th>Gyr_X</th>\n",
       "      <th>Gyr_Y</th>\n",
       "      <th>Gyr_Z</th>\n",
       "      <th>m</th>\n",
       "      <th>Label</th>\n",
       "    </tr>\n",
       "  </thead>\n",
       "  <tbody>\n",
       "    <tr>\n",
       "      <th>251</th>\n",
       "      <td>251</td>\n",
       "      <td>-213.597000</td>\n",
       "      <td>20.827213</td>\n",
       "      <td>56.392113</td>\n",
       "      <td>221.895294</td>\n",
       "      <td>3</td>\n",
       "    </tr>\n",
       "    <tr>\n",
       "      <th>252</th>\n",
       "      <td>252</td>\n",
       "      <td>-161.469696</td>\n",
       "      <td>20.511398</td>\n",
       "      <td>29.164972</td>\n",
       "      <td>165.359535</td>\n",
       "      <td>3</td>\n",
       "    </tr>\n",
       "    <tr>\n",
       "      <th>253</th>\n",
       "      <td>253</td>\n",
       "      <td>-76.959274</td>\n",
       "      <td>26.592499</td>\n",
       "      <td>6.938375</td>\n",
       "      <td>81.719226</td>\n",
       "      <td>3</td>\n",
       "    </tr>\n",
       "    <tr>\n",
       "      <th>254</th>\n",
       "      <td>254</td>\n",
       "      <td>12.915119</td>\n",
       "      <td>35.627033</td>\n",
       "      <td>-8.149487</td>\n",
       "      <td>38.762094</td>\n",
       "      <td>3</td>\n",
       "    </tr>\n",
       "    <tr>\n",
       "      <th>255</th>\n",
       "      <td>255</td>\n",
       "      <td>82.524986</td>\n",
       "      <td>40.188549</td>\n",
       "      <td>-17.805826</td>\n",
       "      <td>93.501552</td>\n",
       "      <td>3</td>\n",
       "    </tr>\n",
       "  </tbody>\n",
       "</table>\n",
       "</div>"
      ],
      "text/plain": [
       "     PacketCounter       Gyr_X      Gyr_Y      Gyr_Z           m  Label\n",
       "251            251 -213.597000  20.827213  56.392113  221.895294      3\n",
       "252            252 -161.469696  20.511398  29.164972  165.359535      3\n",
       "253            253  -76.959274  26.592499   6.938375   81.719226      3\n",
       "254            254   12.915119  35.627033  -8.149487   38.762094      3\n",
       "255            255   82.524986  40.188549 -17.805826   93.501552      3"
      ]
     },
     "execution_count": 16,
     "metadata": {},
     "output_type": "execute_result"
    }
   ],
   "source": [
    "wrist_on_elbow.head()"
   ]
  },
  {
   "cell_type": "code",
   "execution_count": 17,
   "id": "5d5a4095-b460-4c40-b451-4789077d367b",
   "metadata": {},
   "outputs": [
    {
     "data": {
      "text/html": [
       "<div>\n",
       "<style scoped>\n",
       "    .dataframe tbody tr th:only-of-type {\n",
       "        vertical-align: middle;\n",
       "    }\n",
       "\n",
       "    .dataframe tbody tr th {\n",
       "        vertical-align: top;\n",
       "    }\n",
       "\n",
       "    .dataframe thead th {\n",
       "        text-align: right;\n",
       "    }\n",
       "</style>\n",
       "<table border=\"1\" class=\"dataframe\">\n",
       "  <thead>\n",
       "    <tr style=\"text-align: right;\">\n",
       "      <th></th>\n",
       "      <th>PacketCounter</th>\n",
       "      <th>Gyr_X</th>\n",
       "      <th>Gyr_Y</th>\n",
       "      <th>Gyr_Z</th>\n",
       "      <th>m</th>\n",
       "      <th>Label</th>\n",
       "    </tr>\n",
       "  </thead>\n",
       "  <tbody>\n",
       "    <tr>\n",
       "      <th>82</th>\n",
       "      <td>82</td>\n",
       "      <td>10.007911</td>\n",
       "      <td>15.060268</td>\n",
       "      <td>13.188450</td>\n",
       "      <td>22.380911</td>\n",
       "      <td>2</td>\n",
       "    </tr>\n",
       "    <tr>\n",
       "      <th>83</th>\n",
       "      <td>83</td>\n",
       "      <td>8.711575</td>\n",
       "      <td>16.390980</td>\n",
       "      <td>12.718203</td>\n",
       "      <td>22.501298</td>\n",
       "      <td>2</td>\n",
       "    </tr>\n",
       "    <tr>\n",
       "      <th>84</th>\n",
       "      <td>84</td>\n",
       "      <td>6.873602</td>\n",
       "      <td>17.893446</td>\n",
       "      <td>10.644144</td>\n",
       "      <td>21.925319</td>\n",
       "      <td>2</td>\n",
       "    </tr>\n",
       "    <tr>\n",
       "      <th>85</th>\n",
       "      <td>85</td>\n",
       "      <td>5.828820</td>\n",
       "      <td>19.545366</td>\n",
       "      <td>9.067372</td>\n",
       "      <td>22.320702</td>\n",
       "      <td>2</td>\n",
       "    </tr>\n",
       "    <tr>\n",
       "      <th>86</th>\n",
       "      <td>86</td>\n",
       "      <td>7.290476</td>\n",
       "      <td>19.196587</td>\n",
       "      <td>8.380875</td>\n",
       "      <td>22.178797</td>\n",
       "      <td>2</td>\n",
       "    </tr>\n",
       "  </tbody>\n",
       "</table>\n",
       "</div>"
      ],
      "text/plain": [
       "    PacketCounter      Gyr_X      Gyr_Y      Gyr_Z          m  Label\n",
       "82             82  10.007911  15.060268  13.188450  22.380911      2\n",
       "83             83   8.711575  16.390980  12.718203  22.501298      2\n",
       "84             84   6.873602  17.893446  10.644144  21.925319      2\n",
       "85             85   5.828820  19.545366   9.067372  22.320702      2\n",
       "86             86   7.290476  19.196587   8.380875  22.178797      2"
      ]
     },
     "execution_count": 17,
     "metadata": {},
     "output_type": "execute_result"
    }
   ],
   "source": [
    "waack.head()"
   ]
  },
  {
   "cell_type": "code",
   "execution_count": 18,
   "id": "6b694290-472a-4b9a-a051-3071840e19cc",
   "metadata": {},
   "outputs": [
    {
     "data": {
      "text/html": [
       "<div>\n",
       "<style scoped>\n",
       "    .dataframe tbody tr th:only-of-type {\n",
       "        vertical-align: middle;\n",
       "    }\n",
       "\n",
       "    .dataframe tbody tr th {\n",
       "        vertical-align: top;\n",
       "    }\n",
       "\n",
       "    .dataframe thead th {\n",
       "        text-align: right;\n",
       "    }\n",
       "</style>\n",
       "<table border=\"1\" class=\"dataframe\">\n",
       "  <thead>\n",
       "    <tr style=\"text-align: right;\">\n",
       "      <th></th>\n",
       "      <th>PacketCounter</th>\n",
       "      <th>Gyr_X</th>\n",
       "      <th>Gyr_Y</th>\n",
       "      <th>Gyr_Z</th>\n",
       "      <th>m</th>\n",
       "      <th>Label</th>\n",
       "    </tr>\n",
       "  </thead>\n",
       "  <tbody>\n",
       "    <tr>\n",
       "      <th>1</th>\n",
       "      <td>1</td>\n",
       "      <td>-58.390606</td>\n",
       "      <td>93.736000</td>\n",
       "      <td>25.881578</td>\n",
       "      <td>113.427319</td>\n",
       "      <td>1</td>\n",
       "    </tr>\n",
       "    <tr>\n",
       "      <th>2</th>\n",
       "      <td>2</td>\n",
       "      <td>-74.599442</td>\n",
       "      <td>98.117401</td>\n",
       "      <td>33.774197</td>\n",
       "      <td>127.799833</td>\n",
       "      <td>1</td>\n",
       "    </tr>\n",
       "    <tr>\n",
       "      <th>3</th>\n",
       "      <td>3</td>\n",
       "      <td>-96.426018</td>\n",
       "      <td>101.997231</td>\n",
       "      <td>44.852615</td>\n",
       "      <td>147.353890</td>\n",
       "      <td>1</td>\n",
       "    </tr>\n",
       "    <tr>\n",
       "      <th>4</th>\n",
       "      <td>4</td>\n",
       "      <td>-124.858711</td>\n",
       "      <td>103.756897</td>\n",
       "      <td>57.781734</td>\n",
       "      <td>172.319239</td>\n",
       "      <td>1</td>\n",
       "    </tr>\n",
       "    <tr>\n",
       "      <th>5</th>\n",
       "      <td>5</td>\n",
       "      <td>-151.972092</td>\n",
       "      <td>104.858955</td>\n",
       "      <td>69.761574</td>\n",
       "      <td>197.376783</td>\n",
       "      <td>1</td>\n",
       "    </tr>\n",
       "  </tbody>\n",
       "</table>\n",
       "</div>"
      ],
      "text/plain": [
       "   PacketCounter       Gyr_X       Gyr_Y      Gyr_Z           m  Label\n",
       "1              1  -58.390606   93.736000  25.881578  113.427319      1\n",
       "2              2  -74.599442   98.117401  33.774197  127.799833      1\n",
       "3              3  -96.426018  101.997231  44.852615  147.353890      1\n",
       "4              4 -124.858711  103.756897  57.781734  172.319239      1\n",
       "5              5 -151.972092  104.858955  69.761574  197.376783      1"
      ]
     },
     "execution_count": 18,
     "metadata": {},
     "output_type": "execute_result"
    }
   ],
   "source": [
    "idle.head()"
   ]
  },
  {
   "cell_type": "markdown",
   "id": "ff06a9ba-0401-420b-b09f-a2a49147b029",
   "metadata": {},
   "source": [
    "#### Plot Activity Data"
   ]
  },
  {
   "cell_type": "code",
   "execution_count": 38,
   "id": "4fe8f62e-ee28-401c-b6d4-5e7a3bfed13d",
   "metadata": {},
   "outputs": [
    {
     "data": {
      "image/png": "[encoded data removed]",
      "text/plain": [
       "<Figure size 720x576 with 3 Axes>"
      ]
     },
     "metadata": {
      "needs_background": "light"
     },
     "output_type": "display_data"
    }
   ],
   "source": [
    "def plot_axis(ax, x, y, title):\n",
    "    ax.plot(x, y)\n",
    "    ax.set_title(title)\n",
    "    ax.xaxis.set_visible(False)\n",
    "    ax.set_ylim([min(y) - np.std(y), max(y) + np.std(y)])\n",
    "    ax.set_xlim([min(x), max(x)])\n",
    "    ax.grid(True)\n",
    "    \n",
    "def plot_activity(activities, titles):\n",
    "    fig, axs = plt.subplots(nrows=len(activities), figsize=(10, 8))\n",
    "    for i in range(0, len(activities)):\n",
    "        plot_axis(axs[i], activities[i]['PacketCounter'], activities[i]['m'], titles[i])\n",
    "    plt.subplots_adjust(hspace=0.2)\n",
    "    plt.show()\n",
    "\n",
    "plot_activity([wrist_on_elbow, waack, idle],\n",
    "              ['Idle', 'Waack', 'Wrist on Elbow'])"
   ]
  },
  {
   "cell_type": "markdown",
   "id": "f0d3399a-7ff5-47fd-942f-48d6d632f368",
   "metadata": {},
   "source": [
    "#### Split training data"
   ]
  },
  {
   "cell_type": "code",
   "execution_count": 20,
   "id": "ef9500cb-1062-40e9-8e04-c2eee9cfb10d",
   "metadata": {},
   "outputs": [],
   "source": [
    "X_train, X_test, y_train, y_test = train_test_split(train_df, label_train, test_size = 0.2, random_state = 0)"
   ]
  },
  {
   "cell_type": "code",
   "execution_count": 21,
   "id": "6b39e27b-7638-4c8c-bfc7-985d299f6641",
   "metadata": {},
   "outputs": [
    {
     "name": "stdout",
     "output_type": "stream",
     "text": [
      "X_train shape: (323, 8)\n",
      "y_train shape: (323, 3)\n"
     ]
    }
   ],
   "source": [
    "print(\"X_train shape:\", X_train.shape)\n",
    "print(\"y_train shape:\", y_train.shape)"
   ]
  },
  {
   "cell_type": "code",
   "execution_count": 22,
   "id": "9058c61a-3e18-484c-aa15-6ae8f52af613",
   "metadata": {},
   "outputs": [
    {
     "name": "stdout",
     "output_type": "stream",
     "text": [
      "X_test shape: (81, 8)\n",
      "y_test shape: (81, 3)\n"
     ]
    }
   ],
   "source": [
    "print(\"X_test shape:\", X_test.shape)\n",
    "print(\"y_test shape:\", y_test.shape)"
   ]
  },
  {
   "cell_type": "code",
   "execution_count": 23,
   "id": "5c2ae12f-b9b9-4a81-85e5-ebab0efb8edb",
   "metadata": {},
   "outputs": [],
   "source": [
    "def create_dataset(X, y, time_steps=1, step=1):\n",
    "    Xs, ys = [], []\n",
    "    for i in range(0, len(X) - time_steps, step):\n",
    "        v = X.iloc[i:(i + time_steps)].values\n",
    "        labels = label_train['Label'].iloc[i: i + time_steps]\n",
    "        Xs.append(v)        \n",
    "        ys.append(stats.mode(labels)[0][0])\n",
    "    return np.array(Xs), np.array(ys).reshape(-1, 1)\n",
    "\n",
    "TIME_STEPS = 300 #400 #200 #300\n",
    "STEP = 150  #100 #60 #80 #40 #150\n",
    "\n",
    "X_train, y_train = create_dataset(\n",
    "    df[['Gyr_X', 'Gyr_Y', 'Gyr_Z']], \n",
    "    TIME_STEPS, \n",
    "    STEP\n",
    ")\n",
    "\n",
    "X_test, y_test = create_dataset(\n",
    "    df[['Gyr_X', 'Gyr_Y', 'Gyr_Z']], \n",
    "    TIME_STEPS, \n",
    "    STEP\n",
    ")"
   ]
  },
  {
   "cell_type": "code",
   "execution_count": 24,
   "id": "f92ad08f-1886-4c48-b8a0-81a19fa8b31b",
   "metadata": {},
   "outputs": [
    {
     "name": "stdout",
     "output_type": "stream",
     "text": [
      "(254, 150, 3) (254, 1)\n"
     ]
    }
   ],
   "source": [
    "print(X_train.shape, y_train.shape)"
   ]
  },
  {
   "cell_type": "code",
   "execution_count": 25,
   "id": "8a9fed22-3dc4-453b-be2a-8933bc95fde9",
   "metadata": {},
   "outputs": [],
   "source": [
    "enc = OneHotEncoder(handle_unknown='ignore', sparse=False)\n",
    "\n",
    "enc = enc.fit(y_train)\n",
    "\n",
    "y_train = enc.transform(y_train)\n",
    "y_test = enc.transform(y_test)"
   ]
  },
  {
   "cell_type": "code",
   "execution_count": 26,
   "id": "b2a662ce-d3f5-4fbb-878c-a6fe726fe3a9",
   "metadata": {},
   "outputs": [
    {
     "name": "stdout",
     "output_type": "stream",
     "text": [
      "(254, 150, 3) (254, 3)\n"
     ]
    }
   ],
   "source": [
    "print(X_train.shape, y_train.shape)"
   ]
  },
  {
   "cell_type": "markdown",
   "id": "980b7bf1-fcd5-4510-926a-735d8405823f",
   "metadata": {},
   "source": [
    "#### Train the model"
   ]
  },
  {
   "cell_type": "code",
   "execution_count": 27,
   "id": "1aa88a2c-34d7-48a6-ad95-82cfc2998dcb",
   "metadata": {},
   "outputs": [],
   "source": [
    "model = keras.Sequential()\n",
    "model.add(\n",
    "    keras.layers.Bidirectional(\n",
    "      keras.layers.LSTM(\n",
    "          units=128, \n",
    "          input_shape=[X_train.shape[0], X_train.shape[1]]\n",
    "      )\n",
    "    )\n",
    ")\n",
    "model.add(keras.layers.Dropout(rate=0.5))\n",
    "model.add(keras.layers.Dense(units=128, activation='relu'))\n",
    "model.add(keras.layers.Dense(y_train.shape[1], activation='softmax'))\n",
    "model.compile(loss='categorical_crossentropy', optimizer='adam', metrics=['acc'])"
   ]
  },
  {
   "cell_type": "code",
   "execution_count": 28,
   "id": "acb8aa07-29ff-4d74-80ba-12e65ffad5e1",
   "metadata": {},
   "outputs": [
    {
     "name": "stdout",
     "output_type": "stream",
     "text": [
      "Train on 228 samples, validate on 26 samples\n",
      "Epoch 1/20\n",
      "228/228 [==============================] - 4s 17ms/sample - loss: 1.0133 - acc: 0.4956 - val_loss: 1.9871 - val_acc: 0.0769\n",
      "Epoch 2/20\n",
      "228/228 [==============================] - 1s 4ms/sample - loss: 0.4229 - acc: 0.9123 - val_loss: 2.7103 - val_acc: 0.0385\n",
      "Epoch 3/20\n",
      "228/228 [==============================] - 1s 4ms/sample - loss: 0.2123 - acc: 0.9474 - val_loss: 3.3640 - val_acc: 0.0385\n",
      "Epoch 4/20\n",
      "228/228 [==============================] - 1s 4ms/sample - loss: 0.1388 - acc: 0.9649 - val_loss: 3.8517 - val_acc: 0.0385\n",
      "Epoch 5/20\n",
      "228/228 [==============================] - 1s 4ms/sample - loss: 0.0936 - acc: 0.9693 - val_loss: 4.2102 - val_acc: 0.0385\n",
      "Epoch 6/20\n",
      "228/228 [==============================] - 1s 4ms/sample - loss: 0.0569 - acc: 0.9868 - val_loss: 4.3772 - val_acc: 0.0385\n",
      "Epoch 7/20\n",
      "228/228 [==============================] - 1s 4ms/sample - loss: 0.0505 - acc: 0.9825 - val_loss: 4.5014 - val_acc: 0.0385\n",
      "Epoch 8/20\n",
      "228/228 [==============================] - 1s 4ms/sample - loss: 0.0398 - acc: 0.9825 - val_loss: 4.6876 - val_acc: 0.0000e+00\n",
      "Epoch 9/20\n",
      "228/228 [==============================] - 1s 4ms/sample - loss: 0.0334 - acc: 0.9956 - val_loss: 4.8799 - val_acc: 0.0000e+00\n",
      "Epoch 10/20\n",
      "228/228 [==============================] - 1s 4ms/sample - loss: 0.0270 - acc: 0.9912 - val_loss: 4.9867 - val_acc: 0.0000e+00\n",
      "Epoch 11/20\n",
      "228/228 [==============================] - 1s 4ms/sample - loss: 0.0148 - acc: 1.0000 - val_loss: 5.1181 - val_acc: 0.0000e+00\n",
      "Epoch 12/20\n",
      "228/228 [==============================] - 1s 4ms/sample - loss: 0.0186 - acc: 0.9956 - val_loss: 5.2512 - val_acc: 0.0000e+00\n",
      "Epoch 13/20\n",
      "228/228 [==============================] - 1s 4ms/sample - loss: 0.0091 - acc: 1.0000 - val_loss: 5.4512 - val_acc: 0.0000e+00\n",
      "Epoch 14/20\n",
      "228/228 [==============================] - 1s 4ms/sample - loss: 0.0101 - acc: 1.0000 - val_loss: 5.6096 - val_acc: 0.0000e+00\n",
      "Epoch 15/20\n",
      "228/228 [==============================] - 1s 4ms/sample - loss: 0.0131 - acc: 1.0000 - val_loss: 5.6668 - val_acc: 0.0000e+00\n",
      "Epoch 16/20\n",
      "228/228 [==============================] - 1s 4ms/sample - loss: 0.0127 - acc: 0.9956 - val_loss: 5.6890 - val_acc: 0.0000e+00\n",
      "Epoch 17/20\n",
      "228/228 [==============================] - 1s 4ms/sample - loss: 0.0126 - acc: 0.9956 - val_loss: 5.6483 - val_acc: 0.0000e+00\n",
      "Epoch 18/20\n",
      "228/228 [==============================] - 1s 4ms/sample - loss: 0.0068 - acc: 1.0000 - val_loss: 5.7020 - val_acc: 0.0000e+00\n",
      "Epoch 19/20\n",
      "228/228 [==============================] - 1s 4ms/sample - loss: 0.0062 - acc: 1.0000 - val_loss: 5.8875 - val_acc: 0.0385\n",
      "Epoch 20/20\n",
      "228/228 [==============================] - 1s 4ms/sample - loss: 0.0104 - acc: 0.9956 - val_loss: 6.0313 - val_acc: 0.0385\n"
     ]
    }
   ],
   "source": [
    "history = model.fit(\n",
    "    X_train, y_train,\n",
    "    epochs=20,\n",
    "    batch_size=64, #64 #128 #32\n",
    "    validation_split=0.1,\n",
    "    shuffle=True\n",
    ")"
   ]
  },
  {
   "cell_type": "markdown",
   "id": "cc916602-8b91-4942-a4e2-6e55a7912bbd",
   "metadata": {},
   "source": [
    "#### Evaluation"
   ]
  },
  {
   "cell_type": "code",
   "execution_count": 29,
   "id": "8b46756b-8233-4ff2-bf2c-d197dd3b214f",
   "metadata": {},
   "outputs": [
    {
     "data": {
      "image/png": "[encoded data removed]",
      "text/plain": [
       "<Figure size 432x288 with 1 Axes>"
      ]
     },
     "metadata": {
      "needs_background": "light"
     },
     "output_type": "display_data"
    }
   ],
   "source": [
    "plt.plot(history.history['loss'], label='train')\n",
    "plt.plot(history.history['val_loss'], label='test')\n",
    "plt.legend();"
   ]
  },
  {
   "cell_type": "code",
   "execution_count": 30,
   "id": "12e3ff24-d0d3-446a-9551-2c40d6c6a5fc",
   "metadata": {},
   "outputs": [
    {
     "data": {
      "image/png": "[encoded data removed]",
      "text/plain": [
       "<Figure size 432x288 with 1 Axes>"
      ]
     },
     "metadata": {
      "needs_background": "light"
     },
     "output_type": "display_data"
    }
   ],
   "source": [
    "plt.plot(history.history['acc'], label='train')\n",
    "plt.plot(history.history['val_acc'], label='test')\n",
    "plt.legend();"
   ]
  },
  {
   "cell_type": "code",
   "execution_count": 31,
   "id": "7c96a67c-164c-4736-a493-33c9c59570a4",
   "metadata": {},
   "outputs": [
    {
     "name": "stdout",
     "output_type": "stream",
     "text": [
      "254/254 [==============================] - 0s 758us/sample - loss: 0.6204 - acc: 0.9016\n"
     ]
    },
    {
     "data": {
      "text/plain": [
       "[0.6204409362165272, 0.9015748]"
      ]
     },
     "execution_count": 31,
     "metadata": {},
     "output_type": "execute_result"
    }
   ],
   "source": [
    "model.evaluate(X_test, y_test)"
   ]
  },
  {
   "cell_type": "code",
   "execution_count": 32,
   "id": "2fa0d1a8-7d02-4372-ba58-a0387cff1794",
   "metadata": {},
   "outputs": [
    {
     "name": "stdout",
     "output_type": "stream",
     "text": [
      "254/254 [==============================] - 0s 758us/sample - loss: 0.6204 - acc: 0.9016\n"
     ]
    },
    {
     "data": {
      "text/plain": [
       "[0.6204409362165272, 0.9015748]"
      ]
     },
     "execution_count": 32,
     "metadata": {},
     "output_type": "execute_result"
    }
   ],
   "source": [
    "model.evaluate(X_train, y_train)"
   ]
  },
  {
   "cell_type": "markdown",
   "id": "ebc228f8-9cc2-4bf6-a310-742f60d1c7c8",
   "metadata": {},
   "source": [
    "#### Confusion Matrix"
   ]
  },
  {
   "cell_type": "code",
   "execution_count": 35,
   "id": "c9ccfdeb-2b95-4e8a-a3f6-09488ee036b3",
   "metadata": {},
   "outputs": [],
   "source": [
    "y_pred = model.predict(X_test)"
   ]
  },
  {
   "cell_type": "code",
   "execution_count": 36,
   "id": "1f77f538-91f1-4820-ae12-f2b4e2c61592",
   "metadata": {},
   "outputs": [],
   "source": [
    "column_names = 'Idle', 'Waack', 'Wrist_on_Elbow'\n",
    "\n",
    "def plot_cm(y_true, y_pred, class_names):\n",
    "  cm = confusion_matrix(y_true, y_pred)\n",
    "  fig, ax = plt.subplots(figsize=(18, 16)) \n",
    "  ax = sns.heatmap(\n",
    "      cm, \n",
    "      annot=True, \n",
    "      fmt=\"d\", \n",
    "      cmap=sns.diverging_palette(220, 20, n=7),\n",
    "      ax=ax\n",
    "  )\n",
    "\n",
    "  plt.ylabel('Actual')\n",
    "  plt.xlabel('Predicted')\n",
    "  ax.set_xticklabels(column_names)\n",
    "  ax.set_yticklabels(column_names)\n",
    "  b, t = plt.ylim() # discover the values for bottom and top\n",
    "  #b += 0.5 # Add 0.5 to the bottom\n",
    "  #t -= 0.5 # Subtract 0.5 from the top\n",
    "  plt.ylim(b, t) # update the ylim(bottom, top) values\n",
    "  plt.show() # ta-da!"
   ]
  },
  {
   "cell_type": "code",
   "execution_count": 37,
   "id": "090d6d30-5a0d-41a5-8a9a-36d96545ef81",
   "metadata": {},
   "outputs": [
    {
     "data": {
      "image/png": "[encoded data removed]",
      "text/plain": [
       "<Figure size 1296x1152 with 2 Axes>"
      ]
     },
     "metadata": {
      "needs_background": "light"
     },
     "output_type": "display_data"
    }
   ],
   "source": [
    "plot_cm(\n",
    "  enc.inverse_transform(y_test),\n",
    "  enc.inverse_transform(y_pred),\n",
    "  enc.categories_[0]\n",
    ")"
   ]
  },
  {
   "cell_type": "code",
   "execution_count": null,
   "id": "1b505018-8796-4514-b320-31b5b065fc6f",
   "metadata": {},
   "outputs": [],
   "source": []
  },
  {
   "cell_type": "code",
   "execution_count": null,
   "id": "267406f8-769d-4480-b622-b4410036335b",
   "metadata": {},
   "outputs": [],
   "source": []
  },
  {
   "cell_type": "code",
   "execution_count": null,
   "id": "fad2a60e-978f-428e-87d4-274ec5e80a1c",
   "metadata": {},
   "outputs": [],
   "source": []
  }
 ],
 "metadata": {
  "kernelspec": {
   "display_name": "Python 3",
   "language": "python",
   "name": "python3"
  },
  "language_info": {
   "codemirror_mode": {
    "name": "ipython",
    "version": 3
   },
   "file_extension": ".py",
   "mimetype": "text/x-python",
   "name": "python",
   "nbconvert_exporter": "python",
   "pygments_lexer": "ipython3",
   "version": "3.6.13"
  }
 },
 "nbformat": 4,
 "nbformat_minor": 5
}
