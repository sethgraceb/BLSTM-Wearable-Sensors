{
 "cells": [
  {
   "cell_type": "markdown",
   "id": "3342a08d-6a2d-4bf6-91ea-8d68ae14e6f0",
   "metadata": {},
   "source": [
    "# Human Activity Recognition Using Accelerometer Data"
   ]
  },
  {
   "cell_type": "markdown",
   "id": "e6205f5c-1432-4393-b594-2b83fff00a44",
   "metadata": {},
   "source": [
    "##### https://www.youtube.com/watch?v=lUI6VMj43PE&t=18s\n",
    "##### https://github.com/laxmimerit/Human-Activity-Recognition-Using-Accelerometer-Data-and-CNN"
   ]
  },
  {
   "cell_type": "markdown",
   "id": "e32c9fb4-ea13-4bbb-8af2-c8cb6c5ce4e3",
   "metadata": {},
   "source": [
    "#### Right Wrist"
   ]
  },
  {
   "cell_type": "code",
   "execution_count": 1,
   "id": "1b14e7c7-7c2b-4869-a0ef-771c76405d65",
   "metadata": {},
   "outputs": [
    {
     "name": "stdout",
     "output_type": "stream",
     "text": [
      "2.1.0\n"
     ]
    }
   ],
   "source": [
    "import tensorflow as tf\n",
    "from tensorflow import keras\n",
    "from tensorflow.keras import layers, regularizers\n",
    "from tensorflow.keras import Sequential\n",
    "from tensorflow.keras.layers import Flatten, Dense, Dropout, BatchNormalization, Activation\n",
    "from tensorflow.keras.layers import Conv2D, MaxPool2D, LeakyReLU\n",
    "from tensorflow.keras.optimizers import Adam\n",
    "from sklearn.metrics import confusion_matrix, classification_report\n",
    "from sklearn.utils import shuffle\n",
    "print(tf.__version__)"
   ]
  },
  {
   "cell_type": "code",
   "execution_count": 2,
   "id": "b096839d-bd00-49aa-b012-898e722d11b9",
   "metadata": {},
   "outputs": [],
   "source": [
    "import pandas as pd\n",
    "import numpy as np\n",
    "import matplotlib.pyplot as plt\n",
    "from sklearn.model_selection import train_test_split\n",
    "from sklearn.preprocessing import StandardScaler, LabelEncoder\n",
    "\n",
    "#plt.rc('font', size=18)\n",
    "#plt.rcParams['figure.constrained_layout.use'] = False\n",
    "import sys"
   ]
  },
  {
   "cell_type": "code",
   "execution_count": 3,
   "id": "98163bdf-88f1-41d6-8371-0b88f59a51c5",
   "metadata": {},
   "outputs": [],
   "source": [
    "df = pd.read_csv('acc_data (right_wrist).csv')\n",
    "X = np.column_stack((np.array(df['Acc_X']), np.array(df['Acc_Y']), np.array(df['Acc_Z'])))\n",
    "y = np.array(df['PacketCounter']).reshape(-1, 1)\n",
    "#lines = df.readlines()"
   ]
  },
  {
   "cell_type": "code",
   "execution_count": 4,
   "id": "e70b4b89-756b-4834-80e3-f77d0ab6c6af",
   "metadata": {},
   "outputs": [
    {
     "name": "stdout",
     "output_type": "stream",
     "text": [
      "Error at line number:  0\n",
      "Error at line number:  1\n",
      "Error at line number:  2\n",
      "Error at line number:  3\n",
      "Error at line number:  4\n"
     ]
    }
   ],
   "source": [
    "processedList = []\n",
    "\n",
    "for i, line in enumerate(df):\n",
    "    try:\n",
    "        line = line.split(',')\n",
    "        last = line[5].split(';')[0]\n",
    "        last = last.strip()\n",
    "        if last == '':\n",
    "            break;\n",
    "        temp = [line[0], line[1], line[2], line[3], line[4], last]\n",
    "        processedList.append(temp)\n",
    "    except:\n",
    "        print('Error at line number: ', i)"
   ]
  },
  {
   "cell_type": "code",
   "execution_count": 5,
   "id": "89631cd8-d2c2-40e2-9e86-3c7f204d762d",
   "metadata": {},
   "outputs": [
    {
     "data": {
      "text/plain": [
       "[]"
      ]
     },
     "execution_count": 5,
     "metadata": {},
     "output_type": "execute_result"
    }
   ],
   "source": [
    "processedList"
   ]
  },
  {
   "cell_type": "code",
   "execution_count": 6,
   "id": "571b3753-cc65-4e9f-bf7e-0b2ea072a8f2",
   "metadata": {},
   "outputs": [
    {
     "data": {
      "text/html": [
       "<div>\n",
       "<style scoped>\n",
       "    .dataframe tbody tr th:only-of-type {\n",
       "        vertical-align: middle;\n",
       "    }\n",
       "\n",
       "    .dataframe tbody tr th {\n",
       "        vertical-align: top;\n",
       "    }\n",
       "\n",
       "    .dataframe thead th {\n",
       "        text-align: right;\n",
       "    }\n",
       "</style>\n",
       "<table border=\"1\" class=\"dataframe\">\n",
       "  <thead>\n",
       "    <tr style=\"text-align: right;\">\n",
       "      <th></th>\n",
       "      <th>PacketCounter</th>\n",
       "      <th>Acc_X</th>\n",
       "      <th>Acc_Y</th>\n",
       "      <th>Acc_Z</th>\n",
       "    </tr>\n",
       "  </thead>\n",
       "  <tbody>\n",
       "    <tr>\n",
       "      <th>0</th>\n",
       "      <td>0</td>\n",
       "      <td>0.000000</td>\n",
       "      <td>0.000000</td>\n",
       "      <td>0.000000</td>\n",
       "    </tr>\n",
       "    <tr>\n",
       "      <th>1</th>\n",
       "      <td>1</td>\n",
       "      <td>-8.874124</td>\n",
       "      <td>-0.679627</td>\n",
       "      <td>2.768368</td>\n",
       "    </tr>\n",
       "    <tr>\n",
       "      <th>2</th>\n",
       "      <td>2</td>\n",
       "      <td>-8.873473</td>\n",
       "      <td>-0.613973</td>\n",
       "      <td>2.761706</td>\n",
       "    </tr>\n",
       "    <tr>\n",
       "      <th>3</th>\n",
       "      <td>3</td>\n",
       "      <td>-8.834931</td>\n",
       "      <td>-0.518206</td>\n",
       "      <td>2.797576</td>\n",
       "    </tr>\n",
       "    <tr>\n",
       "      <th>4</th>\n",
       "      <td>4</td>\n",
       "      <td>-8.921975</td>\n",
       "      <td>-0.508252</td>\n",
       "      <td>2.836315</td>\n",
       "    </tr>\n",
       "  </tbody>\n",
       "</table>\n",
       "</div>"
      ],
      "text/plain": [
       "   PacketCounter     Acc_X     Acc_Y     Acc_Z\n",
       "0              0  0.000000  0.000000  0.000000\n",
       "1              1 -8.874124 -0.679627  2.768368\n",
       "2              2 -8.873473 -0.613973  2.761706\n",
       "3              3 -8.834931 -0.518206  2.797576\n",
       "4              4 -8.921975 -0.508252  2.836315"
      ]
     },
     "execution_count": 6,
     "metadata": {},
     "output_type": "execute_result"
    }
   ],
   "source": [
    "columns =['PacketCounter', 'Acc_X', 'Acc_Y', 'Acc_Z']\n",
    "data = pd.DataFrame(data = df, columns = columns)\n",
    "data.head()"
   ]
  },
  {
   "cell_type": "code",
   "execution_count": 7,
   "id": "fc319881-1695-4a09-93ed-82640e650c1a",
   "metadata": {},
   "outputs": [
    {
     "data": {
      "text/plain": [
       "(403, 4)"
      ]
     },
     "execution_count": 7,
     "metadata": {},
     "output_type": "execute_result"
    }
   ],
   "source": [
    "data.shape"
   ]
  },
  {
   "cell_type": "code",
   "execution_count": 8,
   "id": "e719789f-7eda-442f-bf34-263d88cebc6e",
   "metadata": {},
   "outputs": [
    {
     "data": {
      "text/plain": [
       "<bound method DataFrame.info of      PacketCounter     Acc_X     Acc_Y     Acc_Z\n",
       "0                0  0.000000  0.000000  0.000000\n",
       "1                1 -8.874124 -0.679627  2.768368\n",
       "2                2 -8.873473 -0.613973  2.761706\n",
       "3                3 -8.834931 -0.518206  2.797576\n",
       "4                4 -8.921975 -0.508252  2.836315\n",
       "..             ...       ...       ...       ...\n",
       "398            398 -8.989089 -2.510464  2.123948\n",
       "399            399 -9.029768 -2.650938  2.112896\n",
       "400            400 -9.044131 -2.731521  2.112670\n",
       "401            401 -8.995914 -2.801886  2.085057\n",
       "402            402 -8.966281 -2.829942  2.044567\n",
       "\n",
       "[403 rows x 4 columns]>"
      ]
     },
     "execution_count": 8,
     "metadata": {},
     "output_type": "execute_result"
    }
   ],
   "source": [
    "data.info"
   ]
  },
  {
   "cell_type": "code",
   "execution_count": 9,
   "id": "661a01df-02f2-4b96-8e5f-f9c569296ef2",
   "metadata": {},
   "outputs": [
    {
     "data": {
      "text/plain": [
       "PacketCounter    0\n",
       "Acc_X            0\n",
       "Acc_Y            0\n",
       "Acc_Z            0\n",
       "dtype: int64"
      ]
     },
     "execution_count": 9,
     "metadata": {},
     "output_type": "execute_result"
    }
   ],
   "source": [
    "data.isnull().sum()"
   ]
  },
  {
   "cell_type": "code",
   "execution_count": 10,
   "id": "ad87ff06-2c53-4062-89a3-53a010314274",
   "metadata": {},
   "outputs": [
    {
     "data": {
      "text/plain": [
       "-12.740092    1\n",
       " 7.312884     1\n",
       "-9.464532     1\n",
       "-9.102597     1\n",
       "-5.038197     1\n",
       "             ..\n",
       "-9.289584     1\n",
       "-9.461021     1\n",
       "-9.007327     1\n",
       " 0.978909     1\n",
       " 0.000000     1\n",
       "Name: Acc_X, Length: 403, dtype: int64"
      ]
     },
     "execution_count": 10,
     "metadata": {},
     "output_type": "execute_result"
    }
   ],
   "source": [
    "data['Acc_X'].value_counts()"
   ]
  },
  {
   "cell_type": "code",
   "execution_count": 11,
   "id": "aaf723f0-b971-48e9-8d64-eb493712238e",
   "metadata": {},
   "outputs": [
    {
     "data": {
      "text/plain": [
       "-2.574710    1\n",
       " 7.694491    1\n",
       "-2.659186    1\n",
       " 3.978233    1\n",
       " 6.953451    1\n",
       "            ..\n",
       "-1.732035    1\n",
       "-2.875752    1\n",
       " 1.411068    1\n",
       "-1.072401    1\n",
       " 0.000000    1\n",
       "Name: Acc_Y, Length: 403, dtype: int64"
      ]
     },
     "execution_count": 11,
     "metadata": {},
     "output_type": "execute_result"
    }
   ],
   "source": [
    "data['Acc_Y'].value_counts()"
   ]
  },
  {
   "cell_type": "code",
   "execution_count": 12,
   "id": "17bb9538-b3e0-4f0f-a21b-06d059104c65",
   "metadata": {},
   "outputs": [
    {
     "data": {
      "text/plain": [
       " 4.925340    1\n",
       " 2.396723    1\n",
       " 1.982518    1\n",
       " 2.226224    1\n",
       " 1.968262    1\n",
       "            ..\n",
       " 2.319945    1\n",
       " 5.938214    1\n",
       "-1.287984    1\n",
       " 2.107725    1\n",
       " 0.000000    1\n",
       "Name: Acc_Z, Length: 403, dtype: int64"
      ]
     },
     "execution_count": 12,
     "metadata": {},
     "output_type": "execute_result"
    }
   ],
   "source": [
    "data['Acc_Z'].value_counts()"
   ]
  },
  {
   "cell_type": "code",
   "execution_count": 13,
   "id": "77f18926-2fe1-416a-b634-83e50c409771",
   "metadata": {},
   "outputs": [],
   "source": [
    "data['Acc_X'] = data['Acc_X'].astype('float')\n",
    "data['Acc_Y'] = data['Acc_Y'].astype('float')\n",
    "data['Acc_Z'] = data['Acc_Z'].astype('float')"
   ]
  },
  {
   "cell_type": "code",
   "execution_count": 14,
   "id": "e83c8833-c6db-48f4-b4ec-f01b926d4d97",
   "metadata": {},
   "outputs": [
    {
     "name": "stdout",
     "output_type": "stream",
     "text": [
      "<class 'pandas.core.frame.DataFrame'>\n",
      "RangeIndex: 403 entries, 0 to 402\n",
      "Data columns (total 4 columns):\n",
      " #   Column         Non-Null Count  Dtype  \n",
      "---  ------         --------------  -----  \n",
      " 0   PacketCounter  403 non-null    int64  \n",
      " 1   Acc_X          403 non-null    float64\n",
      " 2   Acc_Y          403 non-null    float64\n",
      " 3   Acc_Z          403 non-null    float64\n",
      "dtypes: float64(3), int64(1)\n",
      "memory usage: 12.7 KB\n"
     ]
    }
   ],
   "source": [
    "data.info()"
   ]
  },
  {
   "cell_type": "code",
   "execution_count": 15,
   "id": "2bd3b6e6-cfef-4e2e-b033-9e17d244e89b",
   "metadata": {},
   "outputs": [
    {
     "data": {
      "text/plain": [
       "Float64Index([       -12.74009228,         7.312883854,  -9.464531897999999,\n",
       "               -9.102597237000001,        -5.038196564,         0.301210463,\n",
       "                      -9.23391819,        -9.625092506,        -12.51551151,\n",
       "               0.5726978779999999,\n",
       "              ...\n",
       "                      1.213837385,  -9.082893372000001,        -9.205843925,\n",
       "                     -9.480053902, -10.993315699999998,         -9.28958416,\n",
       "                     -9.461021423,         -9.00732708,         0.978908658,\n",
       "                              0.0],\n",
       "             dtype='float64', length=403)"
      ]
     },
     "execution_count": 15,
     "metadata": {},
     "output_type": "execute_result"
    }
   ],
   "source": [
    "Fs = 20\n",
    "dance = data['Acc_X'].value_counts().index\n",
    "dance"
   ]
  },
  {
   "cell_type": "code",
   "execution_count": 16,
   "id": "ce22ae23-f691-4eb6-ae69-9f30356730fa",
   "metadata": {},
   "outputs": [],
   "source": [
    "def plot_axis(ax, x, y, title):\n",
    "    ax.plot(x, y, 'g')\n",
    "    ax.set_title(title)\n",
    "    ax.xaxis.set_visible(False)\n",
    "    ax.set_ylim([min(y) - np.std(y), max(y) + np.std(y)])\n",
    "    ax.set_xlim([min(x), max(x)])\n",
    "    ax.grid(True)"
   ]
  },
  {
   "cell_type": "code",
   "execution_count": 17,
   "id": "dc992c4c-7286-4ca7-8091-db3e405d3007",
   "metadata": {
    "tags": []
   },
   "outputs": [
    {
     "data": {
      "image/png": "[encoded data removed]",
      "text/plain": [
       "<Figure size 1080x504 with 3 Axes>"
      ]
     },
     "metadata": {
      "needs_background": "light"
     },
     "output_type": "display_data"
    }
   ],
   "source": [
    "import matplotlib.pyplot as plt\n",
    "fig, (ax0, ax1, ax2) = plt.subplots(nrows=3, figsize=(15, 7), sharex=True)\n",
    "plot_axis(ax0, data['PacketCounter'], data['Acc_X'], 'Acc: X-Axis')\n",
    "plot_axis(ax1, data['PacketCounter'], data['Acc_Y'], 'Acc: Y-Axis')\n",
    "plot_axis(ax2, data['PacketCounter'], data['Acc_Z'], 'Acc: Z-Axis')\n",
    "plt.subplots_adjust(hspace=0.2)\n",
    "plt.subplots_adjust(top=0.90)\n",
    "plt.show()"
   ]
  },
  {
   "cell_type": "code",
   "execution_count": 18,
   "id": "efe33bfa-7dff-484f-b9e9-4d425ef9d3f9",
   "metadata": {},
   "outputs": [
    {
     "data": {
      "text/html": [
       "<div>\n",
       "<style scoped>\n",
       "    .dataframe tbody tr th:only-of-type {\n",
       "        vertical-align: middle;\n",
       "    }\n",
       "\n",
       "    .dataframe tbody tr th {\n",
       "        vertical-align: top;\n",
       "    }\n",
       "\n",
       "    .dataframe thead th {\n",
       "        text-align: right;\n",
       "    }\n",
       "</style>\n",
       "<table border=\"1\" class=\"dataframe\">\n",
       "  <thead>\n",
       "    <tr style=\"text-align: right;\">\n",
       "      <th></th>\n",
       "      <th>PacketCounter</th>\n",
       "      <th>Acc_X</th>\n",
       "      <th>Acc_Y</th>\n",
       "      <th>Acc_Z</th>\n",
       "      <th>label</th>\n",
       "    </tr>\n",
       "  </thead>\n",
       "  <tbody>\n",
       "    <tr>\n",
       "      <th>0</th>\n",
       "      <td>0</td>\n",
       "      <td>0.000000</td>\n",
       "      <td>0.000000</td>\n",
       "      <td>0.000000</td>\n",
       "      <td>0</td>\n",
       "    </tr>\n",
       "    <tr>\n",
       "      <th>1</th>\n",
       "      <td>1</td>\n",
       "      <td>-8.874124</td>\n",
       "      <td>-0.679627</td>\n",
       "      <td>2.768368</td>\n",
       "      <td>1</td>\n",
       "    </tr>\n",
       "    <tr>\n",
       "      <th>2</th>\n",
       "      <td>2</td>\n",
       "      <td>-8.873473</td>\n",
       "      <td>-0.613973</td>\n",
       "      <td>2.761706</td>\n",
       "      <td>2</td>\n",
       "    </tr>\n",
       "    <tr>\n",
       "      <th>3</th>\n",
       "      <td>3</td>\n",
       "      <td>-8.834931</td>\n",
       "      <td>-0.518206</td>\n",
       "      <td>2.797576</td>\n",
       "      <td>3</td>\n",
       "    </tr>\n",
       "    <tr>\n",
       "      <th>4</th>\n",
       "      <td>4</td>\n",
       "      <td>-8.921975</td>\n",
       "      <td>-0.508252</td>\n",
       "      <td>2.836315</td>\n",
       "      <td>4</td>\n",
       "    </tr>\n",
       "  </tbody>\n",
       "</table>\n",
       "</div>"
      ],
      "text/plain": [
       "   PacketCounter     Acc_X     Acc_Y     Acc_Z  label\n",
       "0              0  0.000000  0.000000  0.000000      0\n",
       "1              1 -8.874124 -0.679627  2.768368      1\n",
       "2              2 -8.873473 -0.613973  2.761706      2\n",
       "3              3 -8.834931 -0.518206  2.797576      3\n",
       "4              4 -8.921975 -0.508252  2.836315      4"
      ]
     },
     "execution_count": 18,
     "metadata": {},
     "output_type": "execute_result"
    }
   ],
   "source": [
    "label = LabelEncoder()\n",
    "data['label'] = label.fit_transform(data['PacketCounter'])\n",
    "data.head()"
   ]
  },
  {
   "cell_type": "code",
   "execution_count": 19,
   "id": "a7a4ce28-7c4b-4340-84dd-c8ea8acb5683",
   "metadata": {
    "collapsed": true,
    "jupyter": {
     "outputs_hidden": true
    },
    "tags": []
   },
   "outputs": [
    {
     "data": {
      "text/plain": [
       "array([  0,   1,   2,   3,   4,   5,   6,   7,   8,   9,  10,  11,  12,\n",
       "        13,  14,  15,  16,  17,  18,  19,  20,  21,  22,  23,  24,  25,\n",
       "        26,  27,  28,  29,  30,  31,  32,  33,  34,  35,  36,  37,  38,\n",
       "        39,  40,  41,  42,  43,  44,  45,  46,  47,  48,  49,  50,  51,\n",
       "        52,  53,  54,  55,  56,  57,  58,  59,  60,  61,  62,  63,  64,\n",
       "        65,  66,  67,  68,  69,  70,  71,  72,  73,  74,  75,  76,  77,\n",
       "        78,  79,  80,  81,  82,  83,  84,  85,  86,  87,  88,  89,  90,\n",
       "        91,  92,  93,  94,  95,  96,  97,  98,  99, 100, 101, 102, 103,\n",
       "       104, 105, 106, 107, 108, 109, 110, 111, 112, 113, 114, 115, 116,\n",
       "       117, 118, 119, 120, 121, 122, 123, 124, 125, 126, 127, 128, 129,\n",
       "       130, 131, 132, 133, 134, 135, 136, 137, 138, 139, 140, 141, 142,\n",
       "       143, 144, 145, 146, 147, 148, 149, 150, 151, 152, 153, 154, 155,\n",
       "       156, 157, 158, 159, 160, 161, 162, 163, 164, 165, 166, 167, 168,\n",
       "       169, 170, 171, 172, 173, 174, 175, 176, 177, 178, 179, 180, 181,\n",
       "       182, 183, 184, 185, 186, 187, 188, 189, 190, 191, 192, 193, 194,\n",
       "       195, 196, 197, 198, 199, 200, 201, 202, 203, 204, 205, 206, 207,\n",
       "       208, 209, 210, 211, 212, 213, 214, 215, 216, 217, 218, 219, 220,\n",
       "       221, 222, 223, 224, 225, 226, 227, 228, 229, 230, 231, 232, 233,\n",
       "       234, 235, 236, 237, 238, 239, 240, 241, 242, 243, 244, 245, 246,\n",
       "       247, 248, 249, 250, 251, 252, 253, 254, 255, 256, 257, 258, 259,\n",
       "       260, 261, 262, 263, 264, 265, 266, 267, 268, 269, 270, 271, 272,\n",
       "       273, 274, 275, 276, 277, 278, 279, 280, 281, 282, 283, 284, 285,\n",
       "       286, 287, 288, 289, 290, 291, 292, 293, 294, 295, 296, 297, 298,\n",
       "       299, 300, 301, 302, 303, 304, 305, 306, 307, 308, 309, 310, 311,\n",
       "       312, 313, 314, 315, 316, 317, 318, 319, 320, 321, 322, 323, 324,\n",
       "       325, 326, 327, 328, 329, 330, 331, 332, 333, 334, 335, 336, 337,\n",
       "       338, 339, 340, 341, 342, 343, 344, 345, 346, 347, 348, 349, 350,\n",
       "       351, 352, 353, 354, 355, 356, 357, 358, 359, 360, 361, 362, 363,\n",
       "       364, 365, 366, 367, 368, 369, 370, 371, 372, 373, 374, 375, 376,\n",
       "       377, 378, 379, 380, 381, 382, 383, 384, 385, 386, 387, 388, 389,\n",
       "       390, 391, 392, 393, 394, 395, 396, 397, 398, 399, 400, 401, 402],\n",
       "      dtype=int64)"
      ]
     },
     "execution_count": 19,
     "metadata": {},
     "output_type": "execute_result"
    }
   ],
   "source": [
    "label.classes_"
   ]
  },
  {
   "cell_type": "code",
   "execution_count": 20,
   "id": "9a86a144-10c3-4ca9-96e2-fbbb2d921927",
   "metadata": {
    "tags": []
   },
   "outputs": [],
   "source": [
    "# array(['Acc_X', 'Acc_Y', 'Acc_Z'], dtype=object)"
   ]
  },
  {
   "cell_type": "code",
   "execution_count": 19,
   "id": "cf5bf4e9-4a57-4c2c-8520-bafe6ef960f4",
   "metadata": {},
   "outputs": [],
   "source": [
    "X = data[['Acc_X', 'Acc_Y', 'Acc_Z']]\n",
    "y = data['label']"
   ]
  },
  {
   "cell_type": "code",
   "execution_count": 20,
   "id": "a9568c65-031f-46c8-a7c4-0700b626265f",
   "metadata": {},
   "outputs": [
    {
     "data": {
      "text/html": [
       "<div>\n",
       "<style scoped>\n",
       "    .dataframe tbody tr th:only-of-type {\n",
       "        vertical-align: middle;\n",
       "    }\n",
       "\n",
       "    .dataframe tbody tr th {\n",
       "        vertical-align: top;\n",
       "    }\n",
       "\n",
       "    .dataframe thead th {\n",
       "        text-align: right;\n",
       "    }\n",
       "</style>\n",
       "<table border=\"1\" class=\"dataframe\">\n",
       "  <thead>\n",
       "    <tr style=\"text-align: right;\">\n",
       "      <th></th>\n",
       "      <th>Acc_X</th>\n",
       "      <th>Acc_Y</th>\n",
       "      <th>Acc_Z</th>\n",
       "      <th>label</th>\n",
       "    </tr>\n",
       "  </thead>\n",
       "  <tbody>\n",
       "    <tr>\n",
       "      <th>0</th>\n",
       "      <td>1.065724</td>\n",
       "      <td>-0.010709</td>\n",
       "      <td>-1.222835</td>\n",
       "      <td>0</td>\n",
       "    </tr>\n",
       "    <tr>\n",
       "      <th>1</th>\n",
       "      <td>-0.378791</td>\n",
       "      <td>-0.153964</td>\n",
       "      <td>-0.015481</td>\n",
       "      <td>1</td>\n",
       "    </tr>\n",
       "    <tr>\n",
       "      <th>2</th>\n",
       "      <td>-0.378685</td>\n",
       "      <td>-0.140125</td>\n",
       "      <td>-0.018386</td>\n",
       "      <td>2</td>\n",
       "    </tr>\n",
       "    <tr>\n",
       "      <th>3</th>\n",
       "      <td>-0.372411</td>\n",
       "      <td>-0.119939</td>\n",
       "      <td>-0.002742</td>\n",
       "      <td>3</td>\n",
       "    </tr>\n",
       "    <tr>\n",
       "      <th>4</th>\n",
       "      <td>-0.386580</td>\n",
       "      <td>-0.117841</td>\n",
       "      <td>0.014152</td>\n",
       "      <td>4</td>\n",
       "    </tr>\n",
       "  </tbody>\n",
       "</table>\n",
       "</div>"
      ],
      "text/plain": [
       "      Acc_X     Acc_Y     Acc_Z  label\n",
       "0  1.065724 -0.010709 -1.222835      0\n",
       "1 -0.378791 -0.153964 -0.015481      1\n",
       "2 -0.378685 -0.140125 -0.018386      2\n",
       "3 -0.372411 -0.119939 -0.002742      3\n",
       "4 -0.386580 -0.117841  0.014152      4"
      ]
     },
     "execution_count": 20,
     "metadata": {},
     "output_type": "execute_result"
    }
   ],
   "source": [
    "scaler = StandardScaler()\n",
    "X = scaler.fit_transform(X)\n",
    "\n",
    "scaled_X = pd.DataFrame(data = X, columns = ['Acc_X', 'Acc_Y', 'Acc_Z'])\n",
    "scaled_X['label'] = y.values\n",
    "\n",
    "scaled_X.head()"
   ]
  },
  {
   "cell_type": "code",
   "execution_count": 21,
   "id": "098820a4-6581-475f-beb5-3cd1db2a1db9",
   "metadata": {},
   "outputs": [],
   "source": [
    "import scipy.stats as stats"
   ]
  },
  {
   "cell_type": "code",
   "execution_count": 22,
   "id": "0b3ef0c4-00f7-4bf3-b105-ff0053493926",
   "metadata": {},
   "outputs": [],
   "source": [
    "Fs = 1\n",
    "frame_size = Fs*2 # 80\n",
    "hop_size = Fs*1 # 40"
   ]
  },
  {
   "cell_type": "code",
   "execution_count": 23,
   "id": "47c8c830-632a-408a-898d-3f6b0b519abe",
   "metadata": {},
   "outputs": [
    {
     "data": {
      "text/plain": [
       "((401, 2, 3), (401,))"
      ]
     },
     "execution_count": 23,
     "metadata": {},
     "output_type": "execute_result"
    }
   ],
   "source": [
    "def get_frames(df, frame_size, hop_size):\n",
    "\n",
    "    N_FEATURES = 3\n",
    "\n",
    "    frames = []\n",
    "    labels = []\n",
    "    for i in range(0, len(df) - frame_size, hop_size):\n",
    "        x = df['Acc_X'].values[i: i + frame_size]\n",
    "        y = df['Acc_Y'].values[i: i + frame_size]\n",
    "        z = df['Acc_Z'].values[i: i + frame_size]\n",
    "        \n",
    "        # Retrieve the most often used label in this segment\n",
    "        label = stats.mode(df['label'][i: i + frame_size])[0][0]\n",
    "        frames.append([x, y, z])\n",
    "        labels.append(label)\n",
    "\n",
    "    # Bring the segments into a better shape\n",
    "    frames = np.asarray(frames).reshape(-1, frame_size, N_FEATURES)\n",
    "    labels = np.asarray(labels)\n",
    "\n",
    "    return frames, labels\n",
    "\n",
    "X, y = get_frames(scaled_X, frame_size, hop_size)\n",
    "\n",
    "X.shape, y.shape"
   ]
  },
  {
   "cell_type": "code",
   "execution_count": 24,
   "id": "f0ed5e22-c80a-4aa2-8201-a75ecc215184",
   "metadata": {},
   "outputs": [],
   "source": [
    "from sklearn.model_selection import train_test_split"
   ]
  },
  {
   "cell_type": "code",
   "execution_count": 25,
   "id": "81eb2b9c-cd9b-4a81-ac6b-1b3930c6c707",
   "metadata": {
    "tags": []
   },
   "outputs": [],
   "source": [
    "X_train, X_test, y_train, y_test = train_test_split(X, y, test_size = 0.2, random_state = 0)"
   ]
  },
  {
   "cell_type": "code",
   "execution_count": 26,
   "id": "d80966fb-a995-4c1d-bc71-76f5984efa82",
   "metadata": {},
   "outputs": [
    {
     "data": {
      "text/plain": [
       "((320, 2, 3), (81, 2, 3))"
      ]
     },
     "execution_count": 26,
     "metadata": {},
     "output_type": "execute_result"
    }
   ],
   "source": [
    "X_train.shape, X_test.shape"
   ]
  },
  {
   "cell_type": "code",
   "execution_count": 27,
   "id": "55748019-4e49-4f7c-b1aa-4a019e0072a7",
   "metadata": {},
   "outputs": [
    {
     "data": {
      "text/plain": [
       "((2, 3), (2, 3))"
      ]
     },
     "execution_count": 27,
     "metadata": {},
     "output_type": "execute_result"
    }
   ],
   "source": [
    "X_train[0].shape, X_test[0].shape"
   ]
  },
  {
   "cell_type": "code",
   "execution_count": 28,
   "id": "51e25170-35bf-43eb-af2f-71e2bbfd6f16",
   "metadata": {},
   "outputs": [],
   "source": [
    "X_train = X_train.reshape(320, 2, 3, 1)\n",
    "X_test = X_test.reshape(81, 2, 3, 1)"
   ]
  },
  {
   "cell_type": "code",
   "execution_count": 29,
   "id": "a12a98a6-10f3-4e89-999b-06817d3a337f",
   "metadata": {},
   "outputs": [
    {
     "data": {
      "text/plain": [
       "((2, 3, 1), (2, 3, 1))"
      ]
     },
     "execution_count": 29,
     "metadata": {},
     "output_type": "execute_result"
    }
   ],
   "source": [
    "X_train[0].shape, X_test[0].shape"
   ]
  },
  {
   "cell_type": "markdown",
   "id": "9c554224-e16b-4ab3-860b-7f2f514fd07f",
   "metadata": {},
   "source": [
    "#### 2D CNN Model"
   ]
  },
  {
   "cell_type": "code",
   "execution_count": 30,
   "id": "2a9d38a5-4897-4a7b-8c31-f8333ed79edf",
   "metadata": {},
   "outputs": [],
   "source": [
    "model = Sequential()\n",
    "model.add(Conv2D(16, (2, 2), padding='same', activation = 'relu', input_shape = X_train[0].shape))\n",
    "model.add(Dropout(0.1))\n",
    "\n",
    "model.add(Conv2D(32, (2, 2), padding='same', activation='relu'))\n",
    "model.add(Dropout(0.2))\n",
    "\n",
    "model.add(Flatten())\n",
    "\n",
    "model.add(Dense(64, activation = 'relu'))\n",
    "model.add(Dropout(0.5))\n",
    "\n",
    "model.add(Dense(405, activation='softmax'))\n"
   ]
  },
  {
   "cell_type": "code",
   "execution_count": 31,
   "id": "f1bcbfaa-b67a-4e58-b112-2955024f45e2",
   "metadata": {},
   "outputs": [],
   "source": [
    "model.compile(optimizer=Adam(learning_rate = 0.01), loss = 'sparse_categorical_crossentropy', metrics = ['accuracy'])"
   ]
  },
  {
   "cell_type": "code",
   "execution_count": 32,
   "id": "1ee65bc2-9bff-48f2-9a6f-2592ead52bf4",
   "metadata": {},
   "outputs": [
    {
     "name": "stdout",
     "output_type": "stream",
     "text": [
      "Train on 320 samples, validate on 81 samples\n",
      "Epoch 1/10\n",
      "320/320 [==============================] - 0s 1ms/sample - loss: 6.0563 - accuracy: 0.0000e+00 - val_loss: 6.0980 - val_accuracy: 0.0000e+00\n",
      "Epoch 2/10\n",
      "320/320 [==============================] - 0s 69us/sample - loss: 5.9662 - accuracy: 0.0094 - val_loss: 6.2721 - val_accuracy: 0.0000e+00\n",
      "Epoch 3/10\n",
      "320/320 [==============================] - 0s 59us/sample - loss: 5.8720 - accuracy: 0.0094 - val_loss: 6.9712 - val_accuracy: 0.0000e+00\n",
      "Epoch 4/10\n",
      "320/320 [==============================] - 0s 59us/sample - loss: 5.6919 - accuracy: 0.0063 - val_loss: 7.8645 - val_accuracy: 0.0000e+00\n",
      "Epoch 5/10\n",
      "320/320 [==============================] - 0s 65us/sample - loss: 5.4973 - accuracy: 0.0094 - val_loss: 8.0314 - val_accuracy: 0.0000e+00\n",
      "Epoch 6/10\n",
      "320/320 [==============================] - 0s 62us/sample - loss: 5.2907 - accuracy: 0.0094 - val_loss: 8.8282 - val_accuracy: 0.0000e+00\n",
      "Epoch 7/10\n",
      "320/320 [==============================] - 0s 65us/sample - loss: 5.1784 - accuracy: 0.0094 - val_loss: 9.1197 - val_accuracy: 0.0000e+00\n",
      "Epoch 8/10\n",
      "320/320 [==============================] - 0s 65us/sample - loss: 4.9625 - accuracy: 0.0219 - val_loss: 9.9073 - val_accuracy: 0.0000e+00\n",
      "Epoch 9/10\n",
      "320/320 [==============================] - 0s 62us/sample - loss: 4.8537 - accuracy: 0.0375 - val_loss: 10.1846 - val_accuracy: 0.0000e+00\n",
      "Epoch 10/10\n",
      "320/320 [==============================] - 0s 59us/sample - loss: 4.7248 - accuracy: 0.0281 - val_loss: 10.5805 - val_accuracy: 0.0000e+00\n"
     ]
    }
   ],
   "source": [
    "history = model.fit(X_train, y_train, epochs = 10, validation_data= (X_test, y_test), verbose=1)"
   ]
  },
  {
   "cell_type": "code",
   "execution_count": 33,
   "id": "0641132b-9ce2-498e-9374-01ae84f5d1e9",
   "metadata": {},
   "outputs": [
    {
     "name": "stdout",
     "output_type": "stream",
     "text": [
      "81/81 [==============================] - 0s 62us/sample - loss: 10.5805 - accuracy: 0.0000e+00\n"
     ]
    },
    {
     "data": {
      "text/plain": [
       "[10.580475901379998, 0.0]"
      ]
     },
     "execution_count": 33,
     "metadata": {},
     "output_type": "execute_result"
    }
   ],
   "source": [
    "model.evaluate(X_test, y_test)"
   ]
  },
  {
   "cell_type": "code",
   "execution_count": 35,
   "id": "a9f4a210-2d5a-423b-b240-3aa5911092ac",
   "metadata": {},
   "outputs": [
    {
     "name": "stdout",
     "output_type": "stream",
     "text": [
      "Model: \"sequential_2\"\n",
      "_________________________________________________________________\n",
      "Layer (type)                 Output Shape              Param #   \n",
      "=================================================================\n",
      "conv2d_6 (Conv2D)            (None, 2, 3, 16)          160       \n",
      "_________________________________________________________________\n",
      "conv2d_7 (Conv2D)            (None, 1, 2, 16)          2320      \n",
      "_________________________________________________________________\n",
      "conv2d_8 (Conv2D)            (None, 1, 2, 32)          4640      \n",
      "_________________________________________________________________\n",
      "conv2d_9 (Conv2D)            (None, 1, 1, 32)          9248      \n",
      "_________________________________________________________________\n",
      "dropout_4 (Dropout)          (None, 1, 1, 32)          0         \n",
      "_________________________________________________________________\n",
      "flatten_2 (Flatten)          (None, 32)                0         \n",
      "_________________________________________________________________\n",
      "dense_3 (Dense)              (None, 400)               13200     \n",
      "=================================================================\n",
      "Total params: 29,568\n",
      "Trainable params: 29,568\n",
      "Non-trainable params: 0\n",
      "_________________________________________________________________\n"
     ]
    }
   ],
   "source": [
    "num_classes  = 400\n",
    "model = keras.Sequential()\n",
    "model.add(Conv2D(16, (3,3), padding='same', input_shape=X_train.shape[1:],activation='relu'))\n",
    "model.add(Conv2D(16, (3,3), strides=(2,2), padding='same', activation='relu'))\n",
    "model.add(Conv2D(32, (3,3), padding='same', activation='relu'))\n",
    "model.add(Conv2D(32, (3,3), strides=(2,2), padding='same', activation='relu'))\n",
    "model.add(Dropout(0.5))\n",
    "model.add(Flatten())\n",
    "model.add(Dense(num_classes, activation='softmax',kernel_regularizer=regularizers.l1(0.0001)))\n",
    "model.compile(loss=\"sparse_categorical_crossentropy\", optimizer='adam', metrics=[\"accuracy\"])\n",
    "model.summary()"
   ]
  },
  {
   "cell_type": "code",
   "execution_count": 37,
   "id": "8341b0f3-788e-400c-8671-ea1087ca5388",
   "metadata": {},
   "outputs": [
    {
     "name": "stdout",
     "output_type": "stream",
     "text": [
      "Train on 288 samples, validate on 32 samples\n",
      "Epoch 1/10\n",
      "288/288 [==============================] - 0s 59us/sample - loss: 6.0229 - accuracy: 0.0000e+00 - val_loss: 6.0634 - val_accuracy: 0.0000e+00\n",
      "Epoch 2/10\n",
      "288/288 [==============================] - 0s 42us/sample - loss: 6.0193 - accuracy: 0.0035 - val_loss: 6.0644 - val_accuracy: 0.0000e+00\n",
      "Epoch 3/10\n",
      "288/288 [==============================] - 0s 45us/sample - loss: 6.0139 - accuracy: 0.0069 - val_loss: 6.0660 - val_accuracy: 0.0000e+00\n",
      "Epoch 4/10\n",
      "288/288 [==============================] - 0s 42us/sample - loss: 6.0077 - accuracy: 0.0069 - val_loss: 6.0684 - val_accuracy: 0.0000e+00\n",
      "Epoch 5/10\n",
      "288/288 [==============================] - 0s 38us/sample - loss: 6.0025 - accuracy: 0.0035 - val_loss: 6.0720 - val_accuracy: 0.0000e+00\n",
      "Epoch 6/10\n",
      "288/288 [==============================] - 0s 42us/sample - loss: 5.9996 - accuracy: 0.0035 - val_loss: 6.0772 - val_accuracy: 0.0000e+00\n",
      "Epoch 7/10\n",
      "288/288 [==============================] - 0s 42us/sample - loss: 5.9875 - accuracy: 0.0035 - val_loss: 6.0856 - val_accuracy: 0.0000e+00\n",
      "Epoch 8/10\n",
      "288/288 [==============================] - 0s 45us/sample - loss: 5.9764 - accuracy: 0.0069 - val_loss: 6.0977 - val_accuracy: 0.0000e+00\n",
      "Epoch 9/10\n",
      "288/288 [==============================] - 0s 42us/sample - loss: 5.9716 - accuracy: 0.0069 - val_loss: 6.1162 - val_accuracy: 0.0000e+00\n",
      "Epoch 10/10\n",
      "288/288 [==============================] - 0s 42us/sample - loss: 5.9455 - accuracy: 0.0000e+00 - val_loss: 6.1446 - val_accuracy: 0.0000e+00\n"
     ]
    }
   ],
   "source": [
    "batch_size = 128\n",
    "epochs = 10\n",
    "history = model.fit(X_train, y_train, batch_size=batch_size, epochs=epochs, validation_split=0.1)"
   ]
  },
  {
   "cell_type": "code",
   "execution_count": 39,
   "id": "1082871b-b6d5-4147-a8b5-72cdea4e759d",
   "metadata": {},
   "outputs": [],
   "source": [
    "def plot_learningCurve(history, epochs):\n",
    "  # Plot training & validation accuracy values\n",
    "  epoch_range = range(1, epochs+1)\n",
    "  plt.plot(epoch_range, history.history['accuracy'])\n",
    "  plt.plot(epoch_range, history.history['val_accuracy'])\n",
    "  plt.title('Model accuracy')\n",
    "  plt.ylabel('Accuracy')\n",
    "  plt.xlabel('Epoch')\n",
    "  plt.legend(['Train', 'Val'], loc='upper left')\n",
    "  plt.show()\n",
    "\n",
    "  # Plot training & validation loss values\n",
    "  plt.plot(epoch_range, history.history['loss'])\n",
    "  plt.plot(epoch_range, history.history['val_loss'])\n",
    "  plt.title('Model loss')\n",
    "  plt.ylabel('Loss')\n",
    "  plt.xlabel('Epoch')\n",
    "  plt.legend(['Train', 'Val'], loc='upper left')\n",
    "  plt.show()\n"
   ]
  },
  {
   "cell_type": "code",
   "execution_count": 40,
   "id": "f347b7f9-addc-44f7-a31e-5d1bb94c17da",
   "metadata": {},
   "outputs": [
    {
     "data": {
      "image/png": "[encoded data removed]",
      "text/plain": [
       "<Figure size 432x288 with 1 Axes>"
      ]
     },
     "metadata": {
      "needs_background": "light"
     },
     "output_type": "display_data"
    },
    {
     "data": {
      "image/png": "[encoded data removed]",
      "text/plain": [
       "<Figure size 432x288 with 1 Axes>"
      ]
     },
     "metadata": {
      "needs_background": "light"
     },
     "output_type": "display_data"
    }
   ],
   "source": [
    "plot_learningCurve(history, 10)"
   ]
  },
  {
   "cell_type": "code",
   "execution_count": 41,
   "id": "adf19944-7310-4aa5-be01-cbb8e17cbf19",
   "metadata": {},
   "outputs": [
    {
     "name": "stdout",
     "output_type": "stream",
     "text": [
      "[[0 0 0 ... 0 0 0]\n",
      " [0 0 0 ... 0 0 0]\n",
      " [0 0 0 ... 0 0 0]\n",
      " ...\n",
      " [0 0 0 ... 0 0 0]\n",
      " [0 0 0 ... 0 0 0]\n",
      " [0 0 0 ... 0 0 0]]\n"
     ]
    }
   ],
   "source": [
    "from sklearn.metrics import confusion_matrix, classification_report\n",
    "y_pred = model.predict_classes(X_train)\n",
    "print(confusion_matrix(y_train, y_pred))\n",
    "#print(classification_report(y_train, y_pred))"
   ]
  },
  {
   "cell_type": "code",
   "execution_count": 42,
   "id": "c0aa466b-9675-4a2c-a377-90f8315e7679",
   "metadata": {},
   "outputs": [
    {
     "name": "stdout",
     "output_type": "stream",
     "text": [
      "[[0 0 0 ... 0 0 0]\n",
      " [0 0 0 ... 0 0 0]\n",
      " [0 0 0 ... 0 0 0]\n",
      " ...\n",
      " [0 0 0 ... 0 0 0]\n",
      " [0 0 0 ... 0 0 0]\n",
      " [0 0 0 ... 0 0 0]]\n"
     ]
    }
   ],
   "source": [
    "from sklearn.metrics import confusion_matrix, classification_report\n",
    "y_pred = model.predict_classes(X_test)\n",
    "print(confusion_matrix(y_test, y_pred))\n",
    "#print(classification_report(y_train, y_pred))"
   ]
  },
  {
   "cell_type": "code",
   "execution_count": null,
   "id": "d069d919-5a34-4a10-87c5-f35d3df5b60e",
   "metadata": {},
   "outputs": [],
   "source": []
  }
 ],
 "metadata": {
  "kernelspec": {
   "display_name": "Python 3",
   "language": "python",
   "name": "python3"
  },
  "language_info": {
   "codemirror_mode": {
    "name": "ipython",
    "version": 3
   },
   "file_extension": ".py",
   "mimetype": "text/x-python",
   "name": "python",
   "nbconvert_exporter": "python",
   "pygments_lexer": "ipython3",
   "version": "3.6.13"
  }
 },
 "nbformat": 4,
 "nbformat_minor": 5
}
