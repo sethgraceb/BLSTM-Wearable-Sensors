{
 "cells": [
  {
   "cell_type": "code",
   "execution_count": null,
   "metadata": {
    "collapsed": false,
    "jupyter": {
     "outputs_hidden": false
    }
   },
   "outputs": [],
   "source": [
    "%matplotlib inline"
   ]
  },
  {
   "cell_type": "markdown",
   "metadata": {},
   "source": [
    "\n",
    "Activity recognition from accelerometer data\n",
    "============================================\n",
    "\n",
    "This demo shows how the **sklearn-xarray** package works with the ``Pipeline``\n",
    "and ``GridSearchCV`` methods from scikit-learn providing a metadata-aware\n",
    "grid-searchable pipeline mechansism.\n",
    "\n",
    "The package combines the metadata-handling capabilities of xarray with the\n",
    "machine-learning framework of sklearn. It enables the user to apply\n",
    "preprocessing steps group by group, use transformers that change the number\n",
    "of samples, use metadata directly as labels for classification tasks and more.\n",
    "\n",
    "The example performs activity recognition from raw accelerometer data with a\n",
    "Gaussian naive Bayes classifier. It uses the\n",
    "`WISDM`_ activity prediction dataset which contains the activities\n",
    "walking, jogging, walking upstairs, walking downstairs, sitting and standing\n",
    "from 36 different subjects.\n",
    "\n",
    "\n"
   ]
  },
  {
   "cell_type": "code",
   "execution_count": 3,
   "metadata": {
    "collapsed": false,
    "jupyter": {
     "outputs_hidden": false
    }
   },
   "outputs": [
    {
     "ename": "ModuleNotFoundError",
     "evalue": "No module named 'sklearn_xarray'",
     "output_type": "error",
     "traceback": [
      "\u001b[1;31m---------------------------------------------------------------------------\u001b[0m",
      "\u001b[1;31mModuleNotFoundError\u001b[0m                       Traceback (most recent call last)",
      "\u001b[1;32m<ipython-input-3-7a6cfbdcc0cd>\u001b[0m in \u001b[0;36m<module>\u001b[1;34m\u001b[0m\n\u001b[0;32m      3\u001b[0m \u001b[1;32mimport\u001b[0m \u001b[0mnumpy\u001b[0m \u001b[1;32mas\u001b[0m \u001b[0mnp\u001b[0m\u001b[1;33m\u001b[0m\u001b[1;33m\u001b[0m\u001b[0m\n\u001b[0;32m      4\u001b[0m \u001b[1;33m\u001b[0m\u001b[0m\n\u001b[1;32m----> 5\u001b[1;33m \u001b[1;32mfrom\u001b[0m \u001b[0msklearn_xarray\u001b[0m \u001b[1;32mimport\u001b[0m \u001b[0mwrap\u001b[0m\u001b[1;33m,\u001b[0m \u001b[0mTarget\u001b[0m\u001b[1;33m\u001b[0m\u001b[1;33m\u001b[0m\u001b[0m\n\u001b[0m\u001b[0;32m      6\u001b[0m \u001b[1;32mfrom\u001b[0m \u001b[0msklearn_xarray\u001b[0m\u001b[1;33m.\u001b[0m\u001b[0mpreprocessing\u001b[0m \u001b[1;32mimport\u001b[0m \u001b[0mSplitter\u001b[0m\u001b[1;33m,\u001b[0m \u001b[0mSanitizer\u001b[0m\u001b[1;33m,\u001b[0m \u001b[0mFeaturizer\u001b[0m\u001b[1;33m\u001b[0m\u001b[1;33m\u001b[0m\u001b[0m\n\u001b[0;32m      7\u001b[0m \u001b[1;32mfrom\u001b[0m \u001b[0msklearn_xarray\u001b[0m\u001b[1;33m.\u001b[0m\u001b[0mmodel_selection\u001b[0m \u001b[1;32mimport\u001b[0m \u001b[0mCrossValidatorWrapper\u001b[0m\u001b[1;33m\u001b[0m\u001b[1;33m\u001b[0m\u001b[0m\n",
      "\u001b[1;31mModuleNotFoundError\u001b[0m: No module named 'sklearn_xarray'"
     ]
    }
   ],
   "source": [
    "from __future__ import print_function\n",
    "\n",
    "import numpy as np\n",
    "\n",
    "from sklearn_xarray import wrap, Target\n",
    "from sklearn_xarray.preprocessing import Splitter, Sanitizer, Featurizer\n",
    "from sklearn_xarray.model_selection import CrossValidatorWrapper\n",
    "from sklearn_xarray.datasets import load_wisdm_dataarray\n",
    "\n",
    "from sklearn.preprocessing import StandardScaler, LabelEncoder\n",
    "from sklearn.decomposition import PCA\n",
    "from sklearn.naive_bayes import GaussianNB\n",
    "from sklearn.model_selection import GroupShuffleSplit, GridSearchCV\n",
    "from sklearn.pipeline import Pipeline\n",
    "\n",
    "import matplotlib.pyplot as plt"
   ]
  },
  {
   "cell_type": "markdown",
   "metadata": {},
   "source": [
    "First, we load the dataset and plot an example of one subject performing\n",
    "the 'Walking' activity.\n",
    "\n",
    ".. tip::\n",
    "\n",
    "    In the jupyter notebook version, change the first cell to ``%matplotlib\n",
    "    notebook`` in order to get an interactive plot that you can zoom and pan.\n",
    "\n"
   ]
  },
  {
   "cell_type": "code",
   "execution_count": null,
   "metadata": {
    "collapsed": false,
    "jupyter": {
     "outputs_hidden": false
    }
   },
   "outputs": [],
   "source": [
    "X = load_wisdm_dataarray()\n",
    "\n",
    "X_plot = X[np.logical_and(X.activity == \"Walking\", X.subject == 1)]\n",
    "X_plot = X_plot[:500] / 9.81\n",
    "X_plot[\"sample\"] = (X_plot.sample - X_plot.sample[0]) / np.timedelta64(1, \"s\")\n",
    "\n",
    "f, axarr = plt.subplots(3, 1, sharex=True)\n",
    "\n",
    "axarr[0].plot(X_plot.sample, X_plot.sel(axis=\"x\"), color=\"#1f77b4\")\n",
    "axarr[0].set_title(\"Acceleration along x-axis\")\n",
    "\n",
    "axarr[1].plot(X_plot.sample, X_plot.sel(axis=\"y\"), color=\"#ff7f0e\")\n",
    "axarr[1].set_ylabel(\"Acceleration [g]\")\n",
    "axarr[1].set_title(\"Acceleration along y-axis\")\n",
    "\n",
    "axarr[2].plot(X_plot.sample, X_plot.sel(axis=\"z\"), color=\"#2ca02c\")\n",
    "axarr[2].set_xlabel(\"Time [s]\")\n",
    "axarr[2].set_title(\"Acceleration along z-axis\")"
   ]
  },
  {
   "cell_type": "markdown",
   "metadata": {},
   "source": [
    "Then we define a pipeline with various preprocessing steps and a classifier.\n",
    "\n",
    "The preprocessing consists of splitting the data into segments, removing\n",
    "segments with `nan` values and standardizing. Since the accelerometer data is\n",
    "three-dimensional but the standardizer and classifier expect a\n",
    "one-dimensional feature vector, we have to vectorize the samples.\n",
    "\n",
    "Finally, we use PCA and a naive Bayes classifier for classification.\n",
    "\n"
   ]
  },
  {
   "cell_type": "code",
   "execution_count": null,
   "metadata": {
    "collapsed": false,
    "jupyter": {
     "outputs_hidden": false
    }
   },
   "outputs": [],
   "source": [
    "pl = Pipeline(\n",
    "    [\n",
    "        (\n",
    "            \"splitter\",\n",
    "            Splitter(\n",
    "                groupby=[\"subject\", \"activity\"],\n",
    "                new_dim=\"timepoint\",\n",
    "                new_len=30,\n",
    "            ),\n",
    "        ),\n",
    "        (\"sanitizer\", Sanitizer()),\n",
    "        (\"featurizer\", Featurizer()),\n",
    "        (\"scaler\", wrap(StandardScaler)),\n",
    "        (\"pca\", wrap(PCA, reshapes=\"feature\")),\n",
    "        (\"cls\", wrap(GaussianNB, reshapes=\"feature\")),\n",
    "    ]\n",
    ")"
   ]
  },
  {
   "cell_type": "markdown",
   "metadata": {},
   "source": [
    "Since we want to use cross-validated grid search to find the best model\n",
    "parameters, we define a cross-validator. In order to make sure the model\n",
    "performs subject-independent recognition, we use a `GroupShuffleSplit`\n",
    "cross-validator that ensures that the same subject will not appear in both\n",
    "training and validation set.\n",
    "\n"
   ]
  },
  {
   "cell_type": "code",
   "execution_count": null,
   "metadata": {
    "collapsed": false,
    "jupyter": {
     "outputs_hidden": false
    }
   },
   "outputs": [],
   "source": [
    "cv = CrossValidatorWrapper(\n",
    "    GroupShuffleSplit(n_splits=2, test_size=0.5), groupby=[\"subject\"]\n",
    ")"
   ]
  },
  {
   "cell_type": "markdown",
   "metadata": {},
   "source": [
    "The grid search will try different numbers of PCA components to find the best\n",
    "parameters for this task.\n",
    "\n",
    ".. tip::\n",
    "\n",
    "    To use multi-processing, set ``n_jobs=-1``.\n",
    "\n"
   ]
  },
  {
   "cell_type": "code",
   "execution_count": null,
   "metadata": {
    "collapsed": false,
    "jupyter": {
     "outputs_hidden": false
    }
   },
   "outputs": [],
   "source": [
    "gs = GridSearchCV(\n",
    "    pl, cv=cv, n_jobs=1, verbose=1, param_grid={\"pca__n_components\": [10, 20]}\n",
    ")"
   ]
  },
  {
   "cell_type": "markdown",
   "metadata": {},
   "source": [
    "The label to classify is the activity which we convert to an integer\n",
    "representation for the classification.\n",
    "\n"
   ]
  },
  {
   "cell_type": "code",
   "execution_count": null,
   "metadata": {
    "collapsed": false,
    "jupyter": {
     "outputs_hidden": false
    }
   },
   "outputs": [],
   "source": [
    "y = Target(\n",
    "    coord=\"activity\", transform_func=LabelEncoder().fit_transform, dim=\"sample\"\n",
    ")(X)"
   ]
  },
  {
   "cell_type": "markdown",
   "metadata": {},
   "source": [
    "Finally, we run the grid search and print out the best parameter combination.\n",
    "\n"
   ]
  },
  {
   "cell_type": "code",
   "execution_count": null,
   "metadata": {
    "collapsed": false,
    "jupyter": {
     "outputs_hidden": false
    }
   },
   "outputs": [],
   "source": [
    "if __name__ == \"__main__\":  # in order for n_jobs=-1 to work on Windows\n",
    "    gs.fit(X, y)\n",
    "    print(\"Best parameters: {0}\".format(gs.best_params_))\n",
    "    print(\"Accuracy: {0}\".format(gs.best_score_))"
   ]
  },
  {
   "cell_type": "markdown",
   "metadata": {},
   "source": [
    "<div class=\"alert alert-info\"><h4>Note</h4><p>The performance of this classifier is obviously pretty bad,\n",
    "    it was chosen for execution speed, not accuracy.</p></div>\n",
    "\n"
   ]
  }
 ],
 "metadata": {
  "kernelspec": {
   "display_name": "Python 3",
   "language": "python",
   "name": "python3"
  },
  "language_info": {
   "codemirror_mode": {
    "name": "ipython",
    "version": 3
   },
   "file_extension": ".py",
   "mimetype": "text/x-python",
   "name": "python",
   "nbconvert_exporter": "python",
   "pygments_lexer": "ipython3",
   "version": "3.8.5"
  }
 },
 "nbformat": 4,
 "nbformat_minor": 4
}
